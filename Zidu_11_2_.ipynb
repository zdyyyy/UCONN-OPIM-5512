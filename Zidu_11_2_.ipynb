{
  "nbformat": 4,
  "nbformat_minor": 0,
  "metadata": {
    "colab": {
      "name": "Zidu_11_2 .ipynb",
      "provenance": [],
      "collapsed_sections": []
    },
    "kernelspec": {
      "name": "python3",
      "display_name": "Python 3"
    }
  },
  "cells": [
    {
      "cell_type": "code",
      "metadata": {
        "id": "EpnchAtYYVhp",
        "colab_type": "code",
        "outputId": "e4836d69-92be-4f6f-dc16-fe99d72e07d6",
        "colab": {
          "base_uri": "https://localhost:8080/",
          "height": 121
        }
      },
      "source": [
        "from google.colab import drive\n",
        "drive.mount(\"/content/drive\")"
      ],
      "execution_count": 0,
      "outputs": [
        {
          "output_type": "stream",
          "text": [
            "Go to this URL in a browser: https://accounts.google.com/o/oauth2/auth?client_id=947318989803-6bn6qk8qdgf4n4g3pfee6491hc0brc4i.apps.googleusercontent.com&redirect_uri=urn%3aietf%3awg%3aoauth%3a2.0%3aoob&response_type=code&scope=email%20https%3a%2f%2fwww.googleapis.com%2fauth%2fdocs.test%20https%3a%2f%2fwww.googleapis.com%2fauth%2fdrive%20https%3a%2f%2fwww.googleapis.com%2fauth%2fdrive.photos.readonly%20https%3a%2f%2fwww.googleapis.com%2fauth%2fpeopleapi.readonly\n",
            "\n",
            "Enter your authorization code:\n",
            "··········\n",
            "Mounted at /content/drive\n"
          ],
          "name": "stdout"
        }
      ]
    },
    {
      "cell_type": "code",
      "metadata": {
        "id": "t0WzXW_FYwEM",
        "colab_type": "code",
        "outputId": "aa048179-8653-43a2-a94b-34f04fec3e66",
        "colab": {
          "base_uri": "https://localhost:8080/",
          "height": 79
        }
      },
      "source": [
        "from pandas import DataFrame\n",
        "from pandas import Series\n",
        "from pandas import concat\n",
        "from pandas import read_csv\n",
        "from pandas import datetime\n",
        "from sklearn.metrics import mean_squared_error\n",
        "from sklearn.preprocessing import MinMaxScaler\n",
        "from keras.models import Sequential\n",
        "from keras.layers import Dense\n",
        "from keras.layers import LSTM\n",
        "from math import sqrt\n",
        "from matplotlib import pyplot as plt\n",
        "import numpy as np\n",
        "import pandas as pd"
      ],
      "execution_count": 0,
      "outputs": [
        {
          "output_type": "stream",
          "text": [
            "Using TensorFlow backend.\n"
          ],
          "name": "stderr"
        },
        {
          "output_type": "display_data",
          "data": {
            "text/html": [
              "<p style=\"color: red;\">\n",
              "The default version of TensorFlow in Colab will soon switch to TensorFlow 2.x.<br>\n",
              "We recommend you <a href=\"https://www.tensorflow.org/guide/migrate\" target=\"_blank\">upgrade</a> now \n",
              "or ensure your notebook will continue to use TensorFlow 1.x via the <code>%tensorflow_version 1.x</code> magic:\n",
              "<a href=\"https://colab.research.google.com/notebooks/tensorflow_version.ipynb\" target=\"_blank\">more info</a>.</p>\n"
            ],
            "text/plain": [
              "<IPython.core.display.HTML object>"
            ]
          },
          "metadata": {
            "tags": []
          }
        }
      ]
    },
    {
      "cell_type": "code",
      "metadata": {
        "id": "3bQJsHdOY2K0",
        "colab_type": "code",
        "outputId": "3f327283-17d4-4fc6-9259-6a744dbbf3b5",
        "colab": {
          "base_uri": "https://localhost:8080/",
          "height": 350
        }
      },
      "source": [
        "df = pd.read_csv('/content/drive/My Drive/shared drive/Python 5512/pizza_11_2.csv',encoding = 'latin-1')\n",
        "df.head()"
      ],
      "execution_count": 0,
      "outputs": [
        {
          "output_type": "execute_result",
          "data": {
            "text/html": [
              "<div>\n",
              "<style scoped>\n",
              "    .dataframe tbody tr th:only-of-type {\n",
              "        vertical-align: middle;\n",
              "    }\n",
              "\n",
              "    .dataframe tbody tr th {\n",
              "        vertical-align: top;\n",
              "    }\n",
              "\n",
              "    .dataframe thead th {\n",
              "        text-align: right;\n",
              "    }\n",
              "</style>\n",
              "<table border=\"1\" class=\"dataframe\">\n",
              "  <thead>\n",
              "    <tr style=\"text-align: right;\">\n",
              "      <th></th>\n",
              "      <th>store_name</th>\n",
              "      <th>city</th>\n",
              "      <th>state</th>\n",
              "      <th>zip</th>\n",
              "      <th>keys</th>\n",
              "      <th>latitude</th>\n",
              "      <th>longitude</th>\n",
              "      <th>menu_description</th>\n",
              "      <th>menu_name</th>\n",
              "      <th>has_meat</th>\n",
              "      <th>has_veg</th>\n",
              "      <th>price</th>\n",
              "      <th>state_population</th>\n",
              "      <th>state_land_area</th>\n",
              "      <th>state_population_density</th>\n",
              "      <th>state_median_income</th>\n",
              "      <th>min_distance</th>\n",
              "    </tr>\n",
              "  </thead>\n",
              "  <tbody>\n",
              "    <tr>\n",
              "      <th>0</th>\n",
              "      <td>Shotgun Dans Pizza</td>\n",
              "      <td>Sherwood</td>\n",
              "      <td>AR</td>\n",
              "      <td>72120</td>\n",
              "      <td>us/ar/sherwood/4203ekiehlave/-1051391616</td>\n",
              "      <td>34.832300</td>\n",
              "      <td>-92.183800</td>\n",
              "      <td>NaN</td>\n",
              "      <td>Cheese Pizza</td>\n",
              "      <td>0</td>\n",
              "      <td>0</td>\n",
              "      <td>7.98</td>\n",
              "      <td>2978204</td>\n",
              "      <td>52068</td>\n",
              "      <td>57.2</td>\n",
              "      <td>43813</td>\n",
              "      <td>0.0478</td>\n",
              "    </tr>\n",
              "    <tr>\n",
              "      <th>1</th>\n",
              "      <td>Sauce Pizza Wine</td>\n",
              "      <td>Phoenix</td>\n",
              "      <td>AZ</td>\n",
              "      <td>85012</td>\n",
              "      <td>us/az/phoenix/25ecamelbackrd/-727422936</td>\n",
              "      <td>33.509266</td>\n",
              "      <td>-112.073044</td>\n",
              "      <td>NaN</td>\n",
              "      <td>Pizza Cookie</td>\n",
              "      <td>0</td>\n",
              "      <td>0</td>\n",
              "      <td>6.00</td>\n",
              "      <td>6828065</td>\n",
              "      <td>113635</td>\n",
              "      <td>60.1</td>\n",
              "      <td>53510</td>\n",
              "      <td>0.0044</td>\n",
              "    </tr>\n",
              "    <tr>\n",
              "      <th>2</th>\n",
              "      <td>Mios Pizzeria</td>\n",
              "      <td>Cincinnati</td>\n",
              "      <td>OH</td>\n",
              "      <td>45209</td>\n",
              "      <td>us/oh/cincinnati/3703paxtonave/-619797122</td>\n",
              "      <td>39.144883</td>\n",
              "      <td>-84.432685</td>\n",
              "      <td>a saucelessampcomma double cheese pizza with a...</td>\n",
              "      <td>Pizza Blanca</td>\n",
              "      <td>0</td>\n",
              "      <td>0</td>\n",
              "      <td>6.49</td>\n",
              "      <td>11613423</td>\n",
              "      <td>40948</td>\n",
              "      <td>283.6</td>\n",
              "      <td>52407</td>\n",
              "      <td>0.0287</td>\n",
              "    </tr>\n",
              "    <tr>\n",
              "      <th>3</th>\n",
              "      <td>Hungry Howies Pizza</td>\n",
              "      <td>Madison Heights</td>\n",
              "      <td>MI</td>\n",
              "      <td>48071</td>\n",
              "      <td>us/mi/madisonheights/30495johnrrd/-874863116</td>\n",
              "      <td>42.516669</td>\n",
              "      <td>-83.106630</td>\n",
              "      <td>NaN</td>\n",
              "      <td>Small Pizza</td>\n",
              "      <td>0</td>\n",
              "      <td>0</td>\n",
              "      <td>5.99</td>\n",
              "      <td>9922576</td>\n",
              "      <td>56804</td>\n",
              "      <td>174.7</td>\n",
              "      <td>52668</td>\n",
              "      <td>0.0246</td>\n",
              "    </tr>\n",
              "    <tr>\n",
              "      <th>4</th>\n",
              "      <td>Spartan Pizzeria</td>\n",
              "      <td>Baltimore</td>\n",
              "      <td>MD</td>\n",
              "      <td>21224</td>\n",
              "      <td>us/md/baltimore/3600easternave/-1270965359</td>\n",
              "      <td>39.286630</td>\n",
              "      <td>-76.566984</td>\n",
              "      <td>NaN</td>\n",
              "      <td>Pizza Sub</td>\n",
              "      <td>0</td>\n",
              "      <td>0</td>\n",
              "      <td>5.49</td>\n",
              "      <td>6006401</td>\n",
              "      <td>9774</td>\n",
              "      <td>614.5</td>\n",
              "      <td>78916</td>\n",
              "      <td>0.0049</td>\n",
              "    </tr>\n",
              "  </tbody>\n",
              "</table>\n",
              "</div>"
            ],
            "text/plain": [
              "            store_name             city  ... state_median_income min_distance\n",
              "0   Shotgun Dans Pizza         Sherwood  ...               43813       0.0478\n",
              "1     Sauce Pizza Wine          Phoenix  ...               53510       0.0044\n",
              "2        Mios Pizzeria       Cincinnati  ...               52407       0.0287\n",
              "3  Hungry Howies Pizza  Madison Heights  ...               52668       0.0246\n",
              "4     Spartan Pizzeria        Baltimore  ...               78916       0.0049\n",
              "\n",
              "[5 rows x 17 columns]"
            ]
          },
          "metadata": {
            "tags": []
          },
          "execution_count": 3
        }
      ]
    },
    {
      "cell_type": "code",
      "metadata": {
        "id": "nkcp9rHcZ34n",
        "colab_type": "code",
        "outputId": "1f731eb9-5811-4d59-8580-2e97c925d0e6",
        "colab": {
          "base_uri": "https://localhost:8080/",
          "height": 101
        }
      },
      "source": [
        "df.columns"
      ],
      "execution_count": 0,
      "outputs": [
        {
          "output_type": "execute_result",
          "data": {
            "text/plain": [
              "Index(['store_name', 'city', 'state', 'zip', 'keys', 'latitude', 'longitude',\n",
              "       'menu_description', 'menu_name', 'has_meat', 'has_veg', 'price',\n",
              "       'state_population', 'state_land_area', 'state_population_density',\n",
              "       'state_median_income', 'min_distance'],\n",
              "      dtype='object')"
            ]
          },
          "metadata": {
            "tags": []
          },
          "execution_count": 4
        }
      ]
    },
    {
      "cell_type": "code",
      "metadata": {
        "id": "AdlLOpQ3aTJd",
        "colab_type": "code",
        "outputId": "5613d0d4-06cc-4c3c-89c4-aee156a29c23",
        "colab": {
          "base_uri": "https://localhost:8080/",
          "height": 319
        }
      },
      "source": [
        "df.dtypes"
      ],
      "execution_count": 0,
      "outputs": [
        {
          "output_type": "execute_result",
          "data": {
            "text/plain": [
              "store_name                   object\n",
              "city                         object\n",
              "state                        object\n",
              "zip                          object\n",
              "keys                         object\n",
              "latitude                    float64\n",
              "longitude                   float64\n",
              "menu_description             object\n",
              "menu_name                    object\n",
              "has_meat                      int64\n",
              "has_veg                       int64\n",
              "price                       float64\n",
              "state_population              int64\n",
              "state_land_area               int64\n",
              "state_population_density    float64\n",
              "state_median_income           int64\n",
              "min_distance                float64\n",
              "dtype: object"
            ]
          },
          "metadata": {
            "tags": []
          },
          "execution_count": 5
        }
      ]
    },
    {
      "cell_type": "code",
      "metadata": {
        "id": "WuL59bZiaZRS",
        "colab_type": "code",
        "outputId": "c333665c-0617-4d4e-efb3-a8b2e9431c77",
        "colab": {
          "base_uri": "https://localhost:8080/",
          "height": 134
        }
      },
      "source": [
        "#What are the least and most expensive cities for pizza?\n",
        "city = df.groupby(['city'])['price'].mean()\n",
        "city.head()"
      ],
      "execution_count": 0,
      "outputs": [
        {
          "output_type": "execute_result",
          "data": {
            "text/plain": [
              "city\n",
              "Aberdeen    17.470000\n",
              "Abilene      4.990000\n",
              "Abingdon    10.502000\n",
              "Abington     9.235714\n",
              "Akron       10.985455\n",
              "Name: price, dtype: float64"
            ]
          },
          "metadata": {
            "tags": []
          },
          "execution_count": 6
        }
      ]
    },
    {
      "cell_type": "code",
      "metadata": {
        "id": "25Gsvy6abdY6",
        "colab_type": "code",
        "outputId": "a37cae2e-6d19-43c6-bac9-b3f15284db81",
        "colab": {
          "base_uri": "https://localhost:8080/",
          "height": 67
        }
      },
      "source": [
        "city.sort_values(0,ascending = True).head(1)"
      ],
      "execution_count": 0,
      "outputs": [
        {
          "output_type": "execute_result",
          "data": {
            "text/plain": [
              "city\n",
              "Cadiz    0.25\n",
              "Name: price, dtype: float64"
            ]
          },
          "metadata": {
            "tags": []
          },
          "execution_count": 7
        }
      ]
    },
    {
      "cell_type": "code",
      "metadata": {
        "id": "KiXZ-gexcKMD",
        "colab_type": "code",
        "outputId": "dddbd306-f99d-411f-ad20-a9216682eeb6",
        "colab": {
          "base_uri": "https://localhost:8080/",
          "height": 67
        }
      },
      "source": [
        "city.sort_values(0,ascending = False).head(1)"
      ],
      "execution_count": 0,
      "outputs": [
        {
          "output_type": "execute_result",
          "data": {
            "text/plain": [
              "city\n",
              "Allison Park    32.99\n",
              "Name: price, dtype: float64"
            ]
          },
          "metadata": {
            "tags": []
          },
          "execution_count": 8
        }
      ]
    },
    {
      "cell_type": "code",
      "metadata": {
        "id": "rIv_q7OVtBpc",
        "colab_type": "code",
        "colab": {}
      },
      "source": [
        "top = city.sort_values(0, ascending=False).head(5)"
      ],
      "execution_count": 0,
      "outputs": []
    },
    {
      "cell_type": "code",
      "metadata": {
        "id": "jkGzEZp-tCtO",
        "colab_type": "code",
        "outputId": "f4c0445b-c99b-4e48-ed82-ccb638ed48e7",
        "colab": {
          "base_uri": "https://localhost:8080/",
          "height": 195
        }
      },
      "source": [
        "top.reset_index()"
      ],
      "execution_count": 0,
      "outputs": [
        {
          "output_type": "execute_result",
          "data": {
            "text/html": [
              "<div>\n",
              "<style scoped>\n",
              "    .dataframe tbody tr th:only-of-type {\n",
              "        vertical-align: middle;\n",
              "    }\n",
              "\n",
              "    .dataframe tbody tr th {\n",
              "        vertical-align: top;\n",
              "    }\n",
              "\n",
              "    .dataframe thead th {\n",
              "        text-align: right;\n",
              "    }\n",
              "</style>\n",
              "<table border=\"1\" class=\"dataframe\">\n",
              "  <thead>\n",
              "    <tr style=\"text-align: right;\">\n",
              "      <th></th>\n",
              "      <th>city</th>\n",
              "      <th>price</th>\n",
              "    </tr>\n",
              "  </thead>\n",
              "  <tbody>\n",
              "    <tr>\n",
              "      <th>0</th>\n",
              "      <td>Allison Park</td>\n",
              "      <td>32.990000</td>\n",
              "    </tr>\n",
              "    <tr>\n",
              "      <th>1</th>\n",
              "      <td>Chesapeake</td>\n",
              "      <td>30.000000</td>\n",
              "    </tr>\n",
              "    <tr>\n",
              "      <th>2</th>\n",
              "      <td>Eagle Point</td>\n",
              "      <td>26.564286</td>\n",
              "    </tr>\n",
              "    <tr>\n",
              "      <th>3</th>\n",
              "      <td>Pleasant Hill</td>\n",
              "      <td>26.000000</td>\n",
              "    </tr>\n",
              "    <tr>\n",
              "      <th>4</th>\n",
              "      <td>Palmer</td>\n",
              "      <td>25.990000</td>\n",
              "    </tr>\n",
              "  </tbody>\n",
              "</table>\n",
              "</div>"
            ],
            "text/plain": [
              "            city      price\n",
              "0   Allison Park  32.990000\n",
              "1     Chesapeake  30.000000\n",
              "2    Eagle Point  26.564286\n",
              "3  Pleasant Hill  26.000000\n",
              "4         Palmer  25.990000"
            ]
          },
          "metadata": {
            "tags": []
          },
          "execution_count": 21
        }
      ]
    },
    {
      "cell_type": "code",
      "metadata": {
        "id": "1QkgX59ys9vf",
        "colab_type": "code",
        "outputId": "c2236a42-9cec-4267-c50d-f6e187ba96d4",
        "colab": {
          "base_uri": "https://localhost:8080/",
          "height": 347
        }
      },
      "source": [
        "fig, ax = plt.subplots()  \n",
        "top.plot(kind='bar', colormap='coolwarm', style='vertical')\n",
        "plt.xlabel('City')\n",
        "plt.ylabel('Price')\n",
        "plt.title('Top 5 Cities')\n",
        "plt.show()"
      ],
      "execution_count": 0,
      "outputs": [
        {
          "output_type": "display_data",
          "data": {
            "image/png": "[encoded data removed]",
            "text/plain": [
              "<Figure size 432x288 with 1 Axes>"
            ]
          },
          "metadata": {
            "tags": []
          }
        }
      ]
    },
    {
      "cell_type": "code",
      "metadata": {
        "id": "U3JTEDhGtaYs",
        "colab_type": "code",
        "colab": {}
      },
      "source": [
        "bottom = city.sort_values(0, ascending=True).head(5)"
      ],
      "execution_count": 0,
      "outputs": []
    },
    {
      "cell_type": "code",
      "metadata": {
        "id": "tGEFOzxbteDJ",
        "colab_type": "code",
        "outputId": "ae70a534-f20a-4f49-d61a-4b60113871e8",
        "colab": {
          "base_uri": "https://localhost:8080/",
          "height": 195
        }
      },
      "source": [
        "bottom.reset_index()"
      ],
      "execution_count": 0,
      "outputs": [
        {
          "output_type": "execute_result",
          "data": {
            "text/html": [
              "<div>\n",
              "<style scoped>\n",
              "    .dataframe tbody tr th:only-of-type {\n",
              "        vertical-align: middle;\n",
              "    }\n",
              "\n",
              "    .dataframe tbody tr th {\n",
              "        vertical-align: top;\n",
              "    }\n",
              "\n",
              "    .dataframe thead th {\n",
              "        text-align: right;\n",
              "    }\n",
              "</style>\n",
              "<table border=\"1\" class=\"dataframe\">\n",
              "  <thead>\n",
              "    <tr style=\"text-align: right;\">\n",
              "      <th></th>\n",
              "      <th>city</th>\n",
              "      <th>price</th>\n",
              "    </tr>\n",
              "  </thead>\n",
              "  <tbody>\n",
              "    <tr>\n",
              "      <th>0</th>\n",
              "      <td>Cadiz</td>\n",
              "      <td>0.25</td>\n",
              "    </tr>\n",
              "    <tr>\n",
              "      <th>1</th>\n",
              "      <td>Winter Park</td>\n",
              "      <td>0.50</td>\n",
              "    </tr>\n",
              "    <tr>\n",
              "      <th>2</th>\n",
              "      <td>Sherrill</td>\n",
              "      <td>1.50</td>\n",
              "    </tr>\n",
              "    <tr>\n",
              "      <th>3</th>\n",
              "      <td>Erie</td>\n",
              "      <td>1.59</td>\n",
              "    </tr>\n",
              "    <tr>\n",
              "      <th>4</th>\n",
              "      <td>Ooltewah</td>\n",
              "      <td>2.00</td>\n",
              "    </tr>\n",
              "  </tbody>\n",
              "</table>\n",
              "</div>"
            ],
            "text/plain": [
              "          city  price\n",
              "0        Cadiz   0.25\n",
              "1  Winter Park   0.50\n",
              "2     Sherrill   1.50\n",
              "3         Erie   1.59\n",
              "4     Ooltewah   2.00"
            ]
          },
          "metadata": {
            "tags": []
          },
          "execution_count": 24
        }
      ]
    },
    {
      "cell_type": "code",
      "metadata": {
        "id": "5jpPK0R1thmP",
        "colab_type": "code",
        "outputId": "2e7563a9-6a21-4fc6-d716-020f46dc206c",
        "colab": {
          "base_uri": "https://localhost:8080/",
          "height": 344
        }
      },
      "source": [
        "fig, ax = plt.subplots()  \n",
        "bottom.plot(kind='bar', colormap='coolwarm', style='vertical')\n",
        "plt.ylabel('Price')\n",
        "plt.title('Bottom 5 Cities')\n",
        "plt.show()"
      ],
      "execution_count": 0,
      "outputs": [
        {
          "output_type": "display_data",
          "data": {
            "image/png": "[encoded data removed]",
            "text/plain": [
              "<Figure size 432x288 with 1 Axes>"
            ]
          },
          "metadata": {
            "tags": []
          }
        }
      ]
    },
    {
      "cell_type": "code",
      "metadata": {
        "id": "I-19ULLTcY0Z",
        "colab_type": "code",
        "outputId": "085d8ad5-65ac-4d96-cd29-2d2c492395a2",
        "colab": {
          "base_uri": "https://localhost:8080/",
          "height": 350
        }
      },
      "source": [
        "#What is the number of restaurants serving pizza per capita (100,000 residents) across the U.S.?\n",
        "df.head()"
      ],
      "execution_count": 0,
      "outputs": [
        {
          "output_type": "execute_result",
          "data": {
            "text/html": [
              "<div>\n",
              "<style scoped>\n",
              "    .dataframe tbody tr th:only-of-type {\n",
              "        vertical-align: middle;\n",
              "    }\n",
              "\n",
              "    .dataframe tbody tr th {\n",
              "        vertical-align: top;\n",
              "    }\n",
              "\n",
              "    .dataframe thead th {\n",
              "        text-align: right;\n",
              "    }\n",
              "</style>\n",
              "<table border=\"1\" class=\"dataframe\">\n",
              "  <thead>\n",
              "    <tr style=\"text-align: right;\">\n",
              "      <th></th>\n",
              "      <th>store_name</th>\n",
              "      <th>city</th>\n",
              "      <th>state</th>\n",
              "      <th>zip</th>\n",
              "      <th>keys</th>\n",
              "      <th>latitude</th>\n",
              "      <th>longitude</th>\n",
              "      <th>menu_description</th>\n",
              "      <th>menu_name</th>\n",
              "      <th>has_meat</th>\n",
              "      <th>has_veg</th>\n",
              "      <th>price</th>\n",
              "      <th>state_population</th>\n",
              "      <th>state_land_area</th>\n",
              "      <th>state_population_density</th>\n",
              "      <th>state_median_income</th>\n",
              "      <th>min_distance</th>\n",
              "    </tr>\n",
              "  </thead>\n",
              "  <tbody>\n",
              "    <tr>\n",
              "      <th>0</th>\n",
              "      <td>Shotgun Dans Pizza</td>\n",
              "      <td>Sherwood</td>\n",
              "      <td>AR</td>\n",
              "      <td>72120</td>\n",
              "      <td>us/ar/sherwood/4203ekiehlave/-1051391616</td>\n",
              "      <td>34.832300</td>\n",
              "      <td>-92.183800</td>\n",
              "      <td>NaN</td>\n",
              "      <td>Cheese Pizza</td>\n",
              "      <td>0</td>\n",
              "      <td>0</td>\n",
              "      <td>7.98</td>\n",
              "      <td>2978204</td>\n",
              "      <td>52068</td>\n",
              "      <td>57.2</td>\n",
              "      <td>43813</td>\n",
              "      <td>0.0478</td>\n",
              "    </tr>\n",
              "    <tr>\n",
              "      <th>1</th>\n",
              "      <td>Sauce Pizza Wine</td>\n",
              "      <td>Phoenix</td>\n",
              "      <td>AZ</td>\n",
              "      <td>85012</td>\n",
              "      <td>us/az/phoenix/25ecamelbackrd/-727422936</td>\n",
              "      <td>33.509266</td>\n",
              "      <td>-112.073044</td>\n",
              "      <td>NaN</td>\n",
              "      <td>Pizza Cookie</td>\n",
              "      <td>0</td>\n",
              "      <td>0</td>\n",
              "      <td>6.00</td>\n",
              "      <td>6828065</td>\n",
              "      <td>113635</td>\n",
              "      <td>60.1</td>\n",
              "      <td>53510</td>\n",
              "      <td>0.0044</td>\n",
              "    </tr>\n",
              "    <tr>\n",
              "      <th>2</th>\n",
              "      <td>Mios Pizzeria</td>\n",
              "      <td>Cincinnati</td>\n",
              "      <td>OH</td>\n",
              "      <td>45209</td>\n",
              "      <td>us/oh/cincinnati/3703paxtonave/-619797122</td>\n",
              "      <td>39.144883</td>\n",
              "      <td>-84.432685</td>\n",
              "      <td>a saucelessampcomma double cheese pizza with a...</td>\n",
              "      <td>Pizza Blanca</td>\n",
              "      <td>0</td>\n",
              "      <td>0</td>\n",
              "      <td>6.49</td>\n",
              "      <td>11613423</td>\n",
              "      <td>40948</td>\n",
              "      <td>283.6</td>\n",
              "      <td>52407</td>\n",
              "      <td>0.0287</td>\n",
              "    </tr>\n",
              "    <tr>\n",
              "      <th>3</th>\n",
              "      <td>Hungry Howies Pizza</td>\n",
              "      <td>Madison Heights</td>\n",
              "      <td>MI</td>\n",
              "      <td>48071</td>\n",
              "      <td>us/mi/madisonheights/30495johnrrd/-874863116</td>\n",
              "      <td>42.516669</td>\n",
              "      <td>-83.106630</td>\n",
              "      <td>NaN</td>\n",
              "      <td>Small Pizza</td>\n",
              "      <td>0</td>\n",
              "      <td>0</td>\n",
              "      <td>5.99</td>\n",
              "      <td>9922576</td>\n",
              "      <td>56804</td>\n",
              "      <td>174.7</td>\n",
              "      <td>52668</td>\n",
              "      <td>0.0246</td>\n",
              "    </tr>\n",
              "    <tr>\n",
              "      <th>4</th>\n",
              "      <td>Spartan Pizzeria</td>\n",
              "      <td>Baltimore</td>\n",
              "      <td>MD</td>\n",
              "      <td>21224</td>\n",
              "      <td>us/md/baltimore/3600easternave/-1270965359</td>\n",
              "      <td>39.286630</td>\n",
              "      <td>-76.566984</td>\n",
              "      <td>NaN</td>\n",
              "      <td>Pizza Sub</td>\n",
              "      <td>0</td>\n",
              "      <td>0</td>\n",
              "      <td>5.49</td>\n",
              "      <td>6006401</td>\n",
              "      <td>9774</td>\n",
              "      <td>614.5</td>\n",
              "      <td>78916</td>\n",
              "      <td>0.0049</td>\n",
              "    </tr>\n",
              "  </tbody>\n",
              "</table>\n",
              "</div>"
            ],
            "text/plain": [
              "            store_name             city  ... state_median_income min_distance\n",
              "0   Shotgun Dans Pizza         Sherwood  ...               43813       0.0478\n",
              "1     Sauce Pizza Wine          Phoenix  ...               53510       0.0044\n",
              "2        Mios Pizzeria       Cincinnati  ...               52407       0.0287\n",
              "3  Hungry Howies Pizza  Madison Heights  ...               52668       0.0246\n",
              "4     Spartan Pizzeria        Baltimore  ...               78916       0.0049\n",
              "\n",
              "[5 rows x 17 columns]"
            ]
          },
          "metadata": {
            "tags": []
          },
          "execution_count": 9
        }
      ]
    },
    {
      "cell_type": "code",
      "metadata": {
        "id": "NhuC9o2JcoFd",
        "colab_type": "code",
        "colab": {}
      },
      "source": [
        "ddf = df.drop_duplicates()"
      ],
      "execution_count": 0,
      "outputs": []
    },
    {
      "cell_type": "code",
      "metadata": {
        "id": "Wxe-_CdcfRNN",
        "colab_type": "code",
        "outputId": "c05aed28-7ba4-4b97-8a03-8f2f9f364c32",
        "colab": {
          "base_uri": "https://localhost:8080/",
          "height": 402
        }
      },
      "source": [
        "stores = pd.pivot_table(ddf,index = ('state','city'),values = 'store_name',aggfunc = np.ma.count).reset_index()\n",
        "stores"
      ],
      "execution_count": 0,
      "outputs": [
        {
          "output_type": "execute_result",
          "data": {
            "text/html": [
              "<div>\n",
              "<style scoped>\n",
              "    .dataframe tbody tr th:only-of-type {\n",
              "        vertical-align: middle;\n",
              "    }\n",
              "\n",
              "    .dataframe tbody tr th {\n",
              "        vertical-align: top;\n",
              "    }\n",
              "\n",
              "    .dataframe thead th {\n",
              "        text-align: right;\n",
              "    }\n",
              "</style>\n",
              "<table border=\"1\" class=\"dataframe\">\n",
              "  <thead>\n",
              "    <tr style=\"text-align: right;\">\n",
              "      <th></th>\n",
              "      <th>state</th>\n",
              "      <th>city</th>\n",
              "      <th>store_name</th>\n",
              "    </tr>\n",
              "  </thead>\n",
              "  <tbody>\n",
              "    <tr>\n",
              "      <th>0</th>\n",
              "      <td>AK</td>\n",
              "      <td>Anchorage</td>\n",
              "      <td>1</td>\n",
              "    </tr>\n",
              "    <tr>\n",
              "      <th>1</th>\n",
              "      <td>AK</td>\n",
              "      <td>Fairbanks</td>\n",
              "      <td>1</td>\n",
              "    </tr>\n",
              "    <tr>\n",
              "      <th>2</th>\n",
              "      <td>AK</td>\n",
              "      <td>Palmer</td>\n",
              "      <td>1</td>\n",
              "    </tr>\n",
              "    <tr>\n",
              "      <th>3</th>\n",
              "      <td>AL</td>\n",
              "      <td>Birmingham</td>\n",
              "      <td>2</td>\n",
              "    </tr>\n",
              "    <tr>\n",
              "      <th>4</th>\n",
              "      <td>AL</td>\n",
              "      <td>Gardendale</td>\n",
              "      <td>2</td>\n",
              "    </tr>\n",
              "    <tr>\n",
              "      <th>...</th>\n",
              "      <td>...</td>\n",
              "      <td>...</td>\n",
              "      <td>...</td>\n",
              "    </tr>\n",
              "    <tr>\n",
              "      <th>1087</th>\n",
              "      <td>WV</td>\n",
              "      <td>Bridgeport</td>\n",
              "      <td>1</td>\n",
              "    </tr>\n",
              "    <tr>\n",
              "      <th>1088</th>\n",
              "      <td>WV</td>\n",
              "      <td>Charleston</td>\n",
              "      <td>14</td>\n",
              "    </tr>\n",
              "    <tr>\n",
              "      <th>1089</th>\n",
              "      <td>WV</td>\n",
              "      <td>Fayetteville</td>\n",
              "      <td>4</td>\n",
              "    </tr>\n",
              "    <tr>\n",
              "      <th>1090</th>\n",
              "      <td>WV</td>\n",
              "      <td>Martinsburg</td>\n",
              "      <td>6</td>\n",
              "    </tr>\n",
              "    <tr>\n",
              "      <th>1091</th>\n",
              "      <td>WV</td>\n",
              "      <td>Morgantown</td>\n",
              "      <td>2</td>\n",
              "    </tr>\n",
              "  </tbody>\n",
              "</table>\n",
              "<p>1092 rows × 3 columns</p>\n",
              "</div>"
            ],
            "text/plain": [
              "     state          city  store_name\n",
              "0       AK     Anchorage           1\n",
              "1       AK     Fairbanks           1\n",
              "2       AK        Palmer           1\n",
              "3       AL    Birmingham           2\n",
              "4       AL    Gardendale           2\n",
              "...    ...           ...         ...\n",
              "1087    WV    Bridgeport           1\n",
              "1088    WV    Charleston          14\n",
              "1089    WV  Fayetteville           4\n",
              "1090    WV   Martinsburg           6\n",
              "1091    WV    Morgantown           2\n",
              "\n",
              "[1092 rows x 3 columns]"
            ]
          },
          "metadata": {
            "tags": []
          },
          "execution_count": 11
        }
      ]
    },
    {
      "cell_type": "code",
      "metadata": {
        "id": "S39insEmgfj7",
        "colab_type": "code",
        "outputId": "18c6be9e-2403-4308-8275-553c518da41b",
        "colab": {
          "base_uri": "https://localhost:8080/",
          "height": 402
        }
      },
      "source": [
        "pop = pd.pivot_table(ddf,index = ('state','city'),values = 'state_population',aggfunc = np.mean).reset_index()\n",
        "pop"
      ],
      "execution_count": 0,
      "outputs": [
        {
          "output_type": "execute_result",
          "data": {
            "text/html": [
              "<div>\n",
              "<style scoped>\n",
              "    .dataframe tbody tr th:only-of-type {\n",
              "        vertical-align: middle;\n",
              "    }\n",
              "\n",
              "    .dataframe tbody tr th {\n",
              "        vertical-align: top;\n",
              "    }\n",
              "\n",
              "    .dataframe thead th {\n",
              "        text-align: right;\n",
              "    }\n",
              "</style>\n",
              "<table border=\"1\" class=\"dataframe\">\n",
              "  <thead>\n",
              "    <tr style=\"text-align: right;\">\n",
              "      <th></th>\n",
              "      <th>state</th>\n",
              "      <th>city</th>\n",
              "      <th>state_population</th>\n",
              "    </tr>\n",
              "  </thead>\n",
              "  <tbody>\n",
              "    <tr>\n",
              "      <th>0</th>\n",
              "      <td>AK</td>\n",
              "      <td>Anchorage</td>\n",
              "      <td>738432</td>\n",
              "    </tr>\n",
              "    <tr>\n",
              "      <th>1</th>\n",
              "      <td>AK</td>\n",
              "      <td>Fairbanks</td>\n",
              "      <td>738432</td>\n",
              "    </tr>\n",
              "    <tr>\n",
              "      <th>2</th>\n",
              "      <td>AK</td>\n",
              "      <td>Palmer</td>\n",
              "      <td>738432</td>\n",
              "    </tr>\n",
              "    <tr>\n",
              "      <th>3</th>\n",
              "      <td>AL</td>\n",
              "      <td>Birmingham</td>\n",
              "      <td>4858979</td>\n",
              "    </tr>\n",
              "    <tr>\n",
              "      <th>4</th>\n",
              "      <td>AL</td>\n",
              "      <td>Gardendale</td>\n",
              "      <td>4858979</td>\n",
              "    </tr>\n",
              "    <tr>\n",
              "      <th>...</th>\n",
              "      <td>...</td>\n",
              "      <td>...</td>\n",
              "      <td>...</td>\n",
              "    </tr>\n",
              "    <tr>\n",
              "      <th>1087</th>\n",
              "      <td>WV</td>\n",
              "      <td>Bridgeport</td>\n",
              "      <td>1844128</td>\n",
              "    </tr>\n",
              "    <tr>\n",
              "      <th>1088</th>\n",
              "      <td>WV</td>\n",
              "      <td>Charleston</td>\n",
              "      <td>1844128</td>\n",
              "    </tr>\n",
              "    <tr>\n",
              "      <th>1089</th>\n",
              "      <td>WV</td>\n",
              "      <td>Fayetteville</td>\n",
              "      <td>1844128</td>\n",
              "    </tr>\n",
              "    <tr>\n",
              "      <th>1090</th>\n",
              "      <td>WV</td>\n",
              "      <td>Martinsburg</td>\n",
              "      <td>1844128</td>\n",
              "    </tr>\n",
              "    <tr>\n",
              "      <th>1091</th>\n",
              "      <td>WV</td>\n",
              "      <td>Morgantown</td>\n",
              "      <td>1844128</td>\n",
              "    </tr>\n",
              "  </tbody>\n",
              "</table>\n",
              "<p>1092 rows × 3 columns</p>\n",
              "</div>"
            ],
            "text/plain": [
              "     state          city  state_population\n",
              "0       AK     Anchorage            738432\n",
              "1       AK     Fairbanks            738432\n",
              "2       AK        Palmer            738432\n",
              "3       AL    Birmingham           4858979\n",
              "4       AL    Gardendale           4858979\n",
              "...    ...           ...               ...\n",
              "1087    WV    Bridgeport           1844128\n",
              "1088    WV    Charleston           1844128\n",
              "1089    WV  Fayetteville           1844128\n",
              "1090    WV   Martinsburg           1844128\n",
              "1091    WV    Morgantown           1844128\n",
              "\n",
              "[1092 rows x 3 columns]"
            ]
          },
          "metadata": {
            "tags": []
          },
          "execution_count": 12
        }
      ]
    },
    {
      "cell_type": "code",
      "metadata": {
        "id": "OAClz5s7sH5n",
        "colab_type": "code",
        "colab": {}
      },
      "source": [
        "newdf = pd.merge(stores, pop, on=['state','city'])"
      ],
      "execution_count": 0,
      "outputs": []
    },
    {
      "cell_type": "code",
      "metadata": {
        "id": "vGwcEL3TsKUz",
        "colab_type": "code",
        "colab": {}
      },
      "source": [
        "newdf['restaurantspercapita'] = round((newdf.store_name*100000)/newdf.state_population,2)"
      ],
      "execution_count": 0,
      "outputs": []
    },
    {
      "cell_type": "code",
      "metadata": {
        "id": "Sde6OQC4sLac",
        "colab_type": "code",
        "outputId": "1ca6f1c5-0146-4add-b1f3-2cd500910168",
        "colab": {
          "base_uri": "https://localhost:8080/",
          "height": 402
        }
      },
      "source": [
        "newdf"
      ],
      "execution_count": 0,
      "outputs": [
        {
          "output_type": "execute_result",
          "data": {
            "text/html": [
              "<div>\n",
              "<style scoped>\n",
              "    .dataframe tbody tr th:only-of-type {\n",
              "        vertical-align: middle;\n",
              "    }\n",
              "\n",
              "    .dataframe tbody tr th {\n",
              "        vertical-align: top;\n",
              "    }\n",
              "\n",
              "    .dataframe thead th {\n",
              "        text-align: right;\n",
              "    }\n",
              "</style>\n",
              "<table border=\"1\" class=\"dataframe\">\n",
              "  <thead>\n",
              "    <tr style=\"text-align: right;\">\n",
              "      <th></th>\n",
              "      <th>state</th>\n",
              "      <th>city</th>\n",
              "      <th>store_name</th>\n",
              "      <th>state_population</th>\n",
              "      <th>#restaurantspercapita</th>\n",
              "      <th>restaurantspercapita</th>\n",
              "    </tr>\n",
              "  </thead>\n",
              "  <tbody>\n",
              "    <tr>\n",
              "      <th>0</th>\n",
              "      <td>AK</td>\n",
              "      <td>Anchorage</td>\n",
              "      <td>1</td>\n",
              "      <td>738432</td>\n",
              "      <td>0.14</td>\n",
              "      <td>0.14</td>\n",
              "    </tr>\n",
              "    <tr>\n",
              "      <th>1</th>\n",
              "      <td>AK</td>\n",
              "      <td>Fairbanks</td>\n",
              "      <td>1</td>\n",
              "      <td>738432</td>\n",
              "      <td>0.14</td>\n",
              "      <td>0.14</td>\n",
              "    </tr>\n",
              "    <tr>\n",
              "      <th>2</th>\n",
              "      <td>AK</td>\n",
              "      <td>Palmer</td>\n",
              "      <td>1</td>\n",
              "      <td>738432</td>\n",
              "      <td>0.14</td>\n",
              "      <td>0.14</td>\n",
              "    </tr>\n",
              "    <tr>\n",
              "      <th>3</th>\n",
              "      <td>AL</td>\n",
              "      <td>Birmingham</td>\n",
              "      <td>2</td>\n",
              "      <td>4858979</td>\n",
              "      <td>0.04</td>\n",
              "      <td>0.04</td>\n",
              "    </tr>\n",
              "    <tr>\n",
              "      <th>4</th>\n",
              "      <td>AL</td>\n",
              "      <td>Gardendale</td>\n",
              "      <td>2</td>\n",
              "      <td>4858979</td>\n",
              "      <td>0.04</td>\n",
              "      <td>0.04</td>\n",
              "    </tr>\n",
              "    <tr>\n",
              "      <th>...</th>\n",
              "      <td>...</td>\n",
              "      <td>...</td>\n",
              "      <td>...</td>\n",
              "      <td>...</td>\n",
              "      <td>...</td>\n",
              "      <td>...</td>\n",
              "    </tr>\n",
              "    <tr>\n",
              "      <th>1087</th>\n",
              "      <td>WV</td>\n",
              "      <td>Bridgeport</td>\n",
              "      <td>1</td>\n",
              "      <td>1844128</td>\n",
              "      <td>0.05</td>\n",
              "      <td>0.05</td>\n",
              "    </tr>\n",
              "    <tr>\n",
              "      <th>1088</th>\n",
              "      <td>WV</td>\n",
              "      <td>Charleston</td>\n",
              "      <td>14</td>\n",
              "      <td>1844128</td>\n",
              "      <td>0.76</td>\n",
              "      <td>0.76</td>\n",
              "    </tr>\n",
              "    <tr>\n",
              "      <th>1089</th>\n",
              "      <td>WV</td>\n",
              "      <td>Fayetteville</td>\n",
              "      <td>4</td>\n",
              "      <td>1844128</td>\n",
              "      <td>0.22</td>\n",
              "      <td>0.22</td>\n",
              "    </tr>\n",
              "    <tr>\n",
              "      <th>1090</th>\n",
              "      <td>WV</td>\n",
              "      <td>Martinsburg</td>\n",
              "      <td>6</td>\n",
              "      <td>1844128</td>\n",
              "      <td>0.33</td>\n",
              "      <td>0.33</td>\n",
              "    </tr>\n",
              "    <tr>\n",
              "      <th>1091</th>\n",
              "      <td>WV</td>\n",
              "      <td>Morgantown</td>\n",
              "      <td>2</td>\n",
              "      <td>1844128</td>\n",
              "      <td>0.11</td>\n",
              "      <td>0.11</td>\n",
              "    </tr>\n",
              "  </tbody>\n",
              "</table>\n",
              "<p>1092 rows × 6 columns</p>\n",
              "</div>"
            ],
            "text/plain": [
              "     state          city  ...  #restaurantspercapita  restaurantspercapita\n",
              "0       AK     Anchorage  ...                   0.14                  0.14\n",
              "1       AK     Fairbanks  ...                   0.14                  0.14\n",
              "2       AK        Palmer  ...                   0.14                  0.14\n",
              "3       AL    Birmingham  ...                   0.04                  0.04\n",
              "4       AL    Gardendale  ...                   0.04                  0.04\n",
              "...    ...           ...  ...                    ...                   ...\n",
              "1087    WV    Bridgeport  ...                   0.05                  0.05\n",
              "1088    WV    Charleston  ...                   0.76                  0.76\n",
              "1089    WV  Fayetteville  ...                   0.22                  0.22\n",
              "1090    WV   Martinsburg  ...                   0.33                  0.33\n",
              "1091    WV    Morgantown  ...                   0.11                  0.11\n",
              "\n",
              "[1092 rows x 6 columns]"
            ]
          },
          "metadata": {
            "tags": []
          },
          "execution_count": 30
        }
      ]
    },
    {
      "cell_type": "code",
      "metadata": {
        "id": "59cLYTDivIdT",
        "colab_type": "code",
        "colab": {}
      },
      "source": [
        "import plotly.graph_objs as go \n",
        "from plotly.offline import download_plotlyjs, init_notebook_mode, iplot, plot "
      ],
      "execution_count": 0,
      "outputs": []
    },
    {
      "cell_type": "code",
      "metadata": {
        "id": "ebbfdIbiuf4r",
        "colab_type": "code",
        "outputId": "c57bb4e7-0b21-4cd7-b56b-f57238ab922f",
        "colab": {
          "base_uri": "https://localhost:8080/",
          "height": 542
        }
      },
      "source": [
        "data = dict(type = 'choropleth', \n",
        "  \n",
        "            # location: Arizoana, California, Newyork \n",
        "            locations = newdf.state, \n",
        "              \n",
        "            # States of USA \n",
        "            locationmode = 'USA-states', \n",
        "              \n",
        "            # colorscale can be added as per requirement \n",
        "            colorscale = 'viridis', \n",
        "        \n",
        "              \n",
        "            # text can be given anything you like \n",
        "            text = \"State\", \n",
        "            z = newdf.restaurantspercapita, \n",
        "            colorbar = {'title': 'Number of Restaurants Per Capita in Each State'}) \n",
        "              \n",
        "layout = dict(geo ={'scope': 'usa'}) \n",
        "choromap = go.Figure(data = [data], layout = layout) \n",
        "  \n",
        "# plotting graph \n",
        "iplot(choromap) "
      ],
      "execution_count": 0,
      "outputs": [
        {
          "output_type": "display_data",
          "data": {
            "text/html": [
              "<html>\n",
              "<head><meta charset=\"utf-8\" /></head>\n",
              "<body>\n",
              "    <div>\n",
              "            <script src=\"https://cdnjs.cloudflare.com/ajax/libs/mathjax/2.7.5/MathJax.js?config=TeX-AMS-MML_SVG\"></script><script type=\"text/javascript\">if (window.MathJax) {MathJax.Hub.Config({SVG: {font: \"STIX-Web\"}});}</script>\n",
              "                <script type=\"text/javascript\">window.PlotlyConfig = {MathJaxConfig: 'local'};</script>\n",
              "        <script src=\"https://cdn.plot.ly/plotly-latest.min.js\"></script>    \n",
              "            <div id=\"60b61e51-36f8-4308-b3ed-6d592b11495a\" class=\"plotly-graph-div\" style=\"height:525px; width:100%;\"></div>\n",
              "            <script type=\"text/javascript\">\n",
              "                \n",
              "                    window.PLOTLYENV=window.PLOTLYENV || {};\n",
              "                    \n",
              "                if (document.getElementById(\"60b61e51-36f8-4308-b3ed-6d592b11495a\")) {\n",
              "                    Plotly.newPlot(\n",
              "                        '60b61e51-36f8-4308-b3ed-6d592b11495a',\n",
              "                        [{\"colorbar\": {\"title\": {\"text\": \"Number of Restaurants Per Capita in Each State\"}}, \"colorscale\": [[0.0, \"#440154\"], [0.1111111111111111, \"#482878\"], [0.2222222222222222, \"#3e4989\"], [0.3333333333333333, \"#31688e\"], [0.4444444444444444, \"#26828e\"], [0.5555555555555556, \"#1f9e89\"], [0.6666666666666666, \"#35b779\"], [0.7777777777777778, \"#6ece58\"], [0.8888888888888888, \"#b5de2b\"], [1.0, \"#fde725\"]], \"locationmode\": \"USA-states\", \"locations\": [\"AK\", \"AK\", \"AK\", \"AL\", \"AL\", \"AL\", \"AR\", \"AR\", \"AR\", \"AR\", \"AR\", \"AR\", \"AR\", \"AR\", \"AR\", \"AR\", \"AZ\", \"AZ\", \"AZ\", \"AZ\", \"AZ\", \"AZ\", \"AZ\", \"AZ\", \"AZ\", \"AZ\", \"AZ\", \"AZ\", \"AZ\", \"AZ\", \"AZ\", \"AZ\", \"AZ\", \"AZ\", \"AZ\", \"AZ\", \"AZ\", \"CA\", \"CA\", \"CA\", \"CA\", \"CA\", \"CA\", \"CA\", \"CA\", \"CA\", \"CA\", \"CA\", \"CA\", \"CA\", \"CA\", \"CA\", \"CA\", \"CA\", \"CA\", \"CA\", \"CA\", \"CA\", \"CA\", \"CA\", \"CA\", \"CA\", \"CA\", \"CA\", \"CA\", \"CA\", \"CA\", \"CA\", \"CA\", \"CA\", \"CA\", \"CA\", \"CA\", \"CA\", \"CA\", \"CA\", \"CA\", \"CA\", \"CA\", \"CA\", \"CA\", \"CA\", \"CA\", \"CA\", \"CA\", \"CA\", \"CA\", \"CA\", \"CA\", \"CA\", \"CA\", \"CA\", \"CA\", \"CA\", \"CA\", \"CA\", \"CA\", \"CA\", \"CA\", \"CA\", \"CA\", \"CA\", \"CA\", \"CA\", \"CA\", \"CA\", \"CA\", \"CA\", \"CA\", \"CA\", \"CA\", \"CA\", \"CA\", \"CA\", \"CA\", \"CA\", \"CA\", \"CA\", \"CA\", \"CA\", \"CA\", \"CA\", \"CA\", \"CA\", \"CA\", \"CA\", \"CA\", \"CA\", \"CA\", \"CA\", \"CA\", \"CA\", \"CA\", \"CA\", \"CA\", \"CA\", \"CA\", \"CA\", \"CA\", \"CA\", \"CA\", \"CA\", \"CA\", \"CA\", \"CA\", \"CA\", \"CA\", \"CA\", \"CA\", \"CA\", \"CA\", \"CA\", \"CA\", \"CA\", \"CA\", \"CA\", \"CA\", \"CA\", \"CA\", \"CA\", \"CA\", \"CA\", \"CA\", \"CA\", \"CA\", \"CA\", \"CA\", \"CA\", \"CA\", \"CA\", \"CA\", \"CA\", \"CA\", \"CO\", \"CO\", \"CO\", \"CO\", \"CO\", \"CO\", \"CO\", \"CO\", \"CO\", \"CO\", \"CO\", \"CO\", \"CO\", \"CO\", \"CO\", \"CO\", \"CO\", \"CO\", \"CO\", \"CO\", \"CO\", \"CT\", \"DE\", \"DE\", \"DE\", \"DE\", \"DE\", \"DE\", \"FL\", \"FL\", \"FL\", \"FL\", \"FL\", \"FL\", \"FL\", \"FL\", \"FL\", \"FL\", \"FL\", \"FL\", \"FL\", \"FL\", \"FL\", \"FL\", \"FL\", \"FL\", \"FL\", \"FL\", \"FL\", \"FL\", \"FL\", \"FL\", \"FL\", \"FL\", \"FL\", \"FL\", \"FL\", \"FL\", \"FL\", \"FL\", \"FL\", \"FL\", \"FL\", \"FL\", \"FL\", \"FL\", \"FL\", \"FL\", \"FL\", \"FL\", \"FL\", \"FL\", \"FL\", \"FL\", \"FL\", \"FL\", \"FL\", \"FL\", \"FL\", \"FL\", \"FL\", \"FL\", \"FL\", \"FL\", \"FL\", \"FL\", \"FL\", \"FL\", \"FL\", \"FL\", \"FL\", \"FL\", \"FL\", \"FL\", \"FL\", \"FL\", \"FL\", \"FL\", \"FL\", \"FL\", \"FL\", \"FL\", \"GA\", \"GA\", \"GA\", \"GA\", \"GA\", \"GA\", \"GA\", \"GA\", \"GA\", \"GA\", \"GA\", \"GA\", \"GA\", \"GA\", \"GA\", \"GA\", \"GA\", \"GA\", \"GA\", \"GA\", \"GA\", \"GA\", \"GA\", \"GA\", \"GA\", \"GA\", \"GA\", \"GA\", \"GA\", \"GA\", \"GA\", \"GA\", \"GA\", \"GA\", \"GA\", \"GA\", \"GA\", \"HI\", \"IA\", \"IA\", \"IA\", \"IA\", \"IA\", \"IA\", \"IA\", \"IA\", \"IA\", \"IA\", \"IA\", \"ID\", \"ID\", \"ID\", \"IL\", \"IL\", \"IL\", \"IL\", \"IL\", \"IL\", \"IL\", \"IL\", \"IL\", \"IL\", \"IL\", \"IL\", \"IL\", \"IL\", \"IL\", \"IL\", \"IL\", \"IL\", \"IL\", \"IL\", \"IL\", \"IL\", \"IL\", \"IL\", \"IL\", \"IL\", \"IL\", \"IL\", \"IL\", \"IL\", \"IL\", \"IL\", \"IL\", \"IL\", \"IL\", \"IL\", \"IL\", \"IL\", \"IL\", \"IL\", \"IL\", \"IL\", \"IL\", \"IL\", \"IL\", \"IL\", \"IL\", \"IL\", \"IL\", \"IL\", \"IL\", \"IL\", \"IL\", \"IL\", \"IL\", \"IL\", \"IL\", \"IL\", \"IN\", \"IN\", \"IN\", \"IN\", \"IN\", \"IN\", \"IN\", \"IN\", \"IN\", \"IN\", \"IN\", \"IN\", \"IN\", \"IN\", \"IN\", \"IN\", \"IN\", \"IN\", \"IN\", \"IN\", \"IN\", \"IN\", \"IN\", \"IN\", \"IN\", \"IN\", \"IN\", \"IN\", \"KS\", \"KS\", \"KS\", \"KS\", \"KS\", \"KS\", \"KS\", \"KS\", \"KS\", \"KY\", \"KY\", \"KY\", \"KY\", \"KY\", \"KY\", \"KY\", \"KY\", \"LA\", \"LA\", \"LA\", \"LA\", \"LA\", \"LA\", \"LA\", \"MD\", \"MD\", \"MD\", \"MD\", \"MD\", \"MD\", \"MD\", \"MD\", \"MD\", \"MD\", \"MD\", \"MD\", \"MD\", \"MD\", \"MD\", \"MD\", \"MD\", \"MD\", \"MD\", \"MD\", \"MD\", \"MI\", \"MI\", \"MI\", \"MI\", \"MI\", \"MI\", \"MI\", \"MI\", \"MI\", \"MI\", \"MI\", \"MI\", \"MI\", \"MI\", \"MI\", \"MI\", \"MI\", \"MI\", \"MI\", \"MI\", \"MI\", \"MI\", \"MI\", \"MI\", \"MI\", \"MI\", \"MI\", \"MI\", \"MI\", \"MI\", \"MI\", \"MI\", \"MI\", \"MI\", \"MI\", \"MI\", \"MI\", \"MI\", \"MI\", \"MI\", \"MI\", \"MI\", \"MI\", \"MI\", \"MI\", \"MI\", \"MI\", \"MI\", \"MI\", \"MI\", \"MI\", \"MI\", \"MI\", \"MI\", \"MI\", \"MI\", \"MN\", \"MN\", \"MN\", \"MN\", \"MN\", \"MN\", \"MN\", \"MN\", \"MN\", \"MN\", \"MN\", \"MO\", \"MO\", \"MO\", \"MO\", \"MO\", \"MO\", \"MO\", \"MO\", \"MO\", \"MO\", \"MO\", \"MO\", \"MO\", \"MO\", \"MO\", \"MS\", \"MS\", \"MS\", \"MS\", \"MT\", \"NC\", \"NC\", \"NC\", \"NC\", \"NC\", \"NC\", \"NC\", \"NC\", \"NC\", \"NC\", \"NC\", \"NC\", \"NC\", \"NC\", \"NC\", \"NC\", \"NC\", \"NC\", \"NC\", \"NC\", \"NC\", \"NC\", \"NC\", \"NC\", \"NC\", \"NC\", \"NC\", \"NC\", \"NC\", \"NC\", \"NC\", \"NC\", \"NC\", \"NC\", \"ND\", \"NE\", \"NE\", \"NE\", \"NE\", \"NJ\", \"NM\", \"NM\", \"NM\", \"NM\", \"NM\", \"NM\", \"NV\", \"NV\", \"NV\", \"NV\", \"NV\", \"NY\", \"NY\", \"NY\", \"NY\", \"NY\", \"NY\", \"NY\", \"NY\", \"NY\", \"NY\", \"NY\", \"NY\", \"NY\", \"NY\", \"NY\", \"NY\", \"NY\", \"NY\", \"NY\", \"NY\", \"NY\", \"NY\", \"NY\", \"NY\", \"NY\", \"NY\", \"NY\", \"NY\", \"NY\", \"NY\", \"NY\", \"NY\", \"NY\", \"NY\", \"NY\", \"NY\", \"NY\", \"NY\", \"NY\", \"NY\", \"NY\", \"NY\", \"NY\", \"NY\", \"NY\", \"NY\", \"NY\", \"NY\", \"NY\", \"NY\", \"NY\", \"NY\", \"NY\", \"NY\", \"NY\", \"NY\", \"NY\", \"NY\", \"NY\", \"NY\", \"NY\", \"NY\", \"NY\", \"NY\", \"NY\", \"NY\", \"NY\", \"NY\", \"NY\", \"NY\", \"NY\", \"NY\", \"NY\", \"NY\", \"NY\", \"NY\", \"NY\", \"NY\", \"NY\", \"NY\", \"NY\", \"NY\", \"NY\", \"NY\", \"NY\", \"NY\", \"NY\", \"NY\", \"NY\", \"NY\", \"NY\", \"NY\", \"NY\", \"NY\", \"NY\", \"NY\", \"NY\", \"NY\", \"NY\", \"NY\", \"NY\", \"NY\", \"NY\", \"NY\", \"NY\", \"NY\", \"NY\", \"NY\", \"NY\", \"NY\", \"NY\", \"NY\", \"NY\", \"NY\", \"NY\", \"NY\", \"NY\", \"NY\", \"NY\", \"NY\", \"NY\", \"NY\", \"NY\", \"NY\", \"NY\", \"NY\", \"NY\", \"NY\", \"NY\", \"NY\", \"NY\", \"NY\", \"NY\", \"NY\", \"NY\", \"NY\", \"NY\", \"NY\", \"NY\", \"NY\", \"NY\", \"NY\", \"NY\", \"NY\", \"NY\", \"NY\", \"NY\", \"NY\", \"NY\", \"NY\", \"NY\", \"NY\", \"NY\", \"NY\", \"OH\", \"OH\", \"OH\", \"OH\", \"OH\", \"OH\", \"OH\", \"OH\", \"OH\", \"OH\", \"OH\", \"OH\", \"OH\", \"OH\", \"OH\", \"OH\", \"OH\", \"OH\", \"OH\", \"OH\", \"OH\", \"OH\", \"OH\", \"OH\", \"OH\", \"OH\", \"OH\", \"OH\", \"OH\", \"OH\", \"OH\", \"OH\", \"OH\", \"OH\", \"OH\", \"OH\", \"OH\", \"OH\", \"OH\", \"OH\", \"OH\", \"OH\", \"OH\", \"OH\", \"OH\", \"OH\", \"OH\", \"OK\", \"OK\", \"OK\", \"OK\", \"OK\", \"OR\", \"OR\", \"OR\", \"OR\", \"OR\", \"OR\", \"OR\", \"OR\", \"OR\", \"OR\", \"OR\", \"OR\", \"OR\", \"OR\", \"OR\", \"OR\", \"PA\", \"PA\", \"PA\", \"PA\", \"PA\", \"PA\", \"PA\", \"PA\", \"PA\", \"PA\", \"PA\", \"PA\", \"PA\", \"PA\", \"PA\", \"PA\", \"PA\", \"PA\", \"PA\", \"PA\", \"PA\", \"PA\", \"PA\", \"PA\", \"PA\", \"PA\", \"PA\", \"PA\", \"PA\", \"PA\", \"PA\", \"PA\", \"PA\", \"PA\", \"PA\", \"PA\", \"PA\", \"PA\", \"PA\", \"PA\", \"PA\", \"PA\", \"PA\", \"PA\", \"PA\", \"PA\", \"PA\", \"PA\", \"PA\", \"PA\", \"PA\", \"PA\", \"PA\", \"PA\", \"PA\", \"PA\", \"PA\", \"PA\", \"PA\", \"PA\", \"PA\", \"PA\", \"PA\", \"PA\", \"PA\", \"PA\", \"PA\", \"PA\", \"PA\", \"PA\", \"PA\", \"PA\", \"PA\", \"PA\", \"PA\", \"PA\", \"PA\", \"PA\", \"PA\", \"PA\", \"PA\", \"PA\", \"PA\", \"PA\", \"PA\", \"PA\", \"PA\", \"PA\", \"PA\", \"PA\", \"PA\", \"PA\", \"PA\", \"PA\", \"PA\", \"PA\", \"SC\", \"SC\", \"SC\", \"SC\", \"SC\", \"SC\", \"SC\", \"SC\", \"SC\", \"SC\", \"SC\", \"SC\", \"SC\", \"SC\", \"SC\", \"SC\", \"SC\", \"SC\", \"SD\", \"SD\", \"TN\", \"TN\", \"TN\", \"TN\", \"TN\", \"TN\", \"TN\", \"TN\", \"TN\", \"TN\", \"TN\", \"TN\", \"TN\", \"TN\", \"TN\", \"TN\", \"TX\", \"TX\", \"TX\", \"TX\", \"TX\", \"TX\", \"TX\", \"TX\", \"TX\", \"TX\", \"TX\", \"TX\", \"TX\", \"TX\", \"TX\", \"TX\", \"TX\", \"TX\", \"TX\", \"TX\", \"TX\", \"TX\", \"TX\", \"TX\", \"TX\", \"TX\", \"TX\", \"TX\", \"TX\", \"TX\", \"TX\", \"TX\", \"TX\", \"TX\", \"TX\", \"TX\", \"TX\", \"TX\", \"TX\", \"TX\", \"TX\", \"TX\", \"TX\", \"TX\", \"TX\", \"TX\", \"TX\", \"TX\", \"TX\", \"TX\", \"UT\", \"UT\", \"UT\", \"UT\", \"UT\", \"UT\", \"UT\", \"UT\", \"UT\", \"UT\", \"UT\", \"VA\", \"VA\", \"VA\", \"VA\", \"VA\", \"VA\", \"VA\", \"VA\", \"VA\", \"VA\", \"VA\", \"VA\", \"VA\", \"VA\", \"VA\", \"VA\", \"VA\", \"VA\", \"VA\", \"VA\", \"VA\", \"VA\", \"VA\", \"VA\", \"VA\", \"VA\", \"VA\", \"VA\", \"VA\", \"VA\", \"VA\", \"WA\", \"WA\", \"WA\", \"WA\", \"WA\", \"WA\", \"WA\", \"WA\", \"WA\", \"WA\", \"WA\", \"WA\", \"WA\", \"WA\", \"WA\", \"WA\", \"WA\", \"WA\", \"WA\", \"WA\", \"WA\", \"WA\", \"WI\", \"WI\", \"WI\", \"WI\", \"WI\", \"WI\", \"WI\", \"WI\", \"WI\", \"WI\", \"WI\", \"WI\", \"WI\", \"WI\", \"WI\", \"WI\", \"WI\", \"WI\", \"WI\", \"WI\", \"WI\", \"WI\", \"WI\", \"WV\", \"WV\", \"WV\", \"WV\", \"WV\"], \"text\": \"State\", \"type\": \"choropleth\", \"z\": [0.14, 0.14, 0.14, 0.04, 0.04, 0.02, 0.07, 0.54, 0.03, 0.03, 0.24, 0.03, 0.07, 0.07, 0.07, 0.13, 0.03, 0.12, 0.12, 0.01, 0.01, 0.22, 0.51, 0.09, 0.04, 0.01, 1.07, 0.01, 0.01, 0.26, 0.48, 0.32, 0.19, 0.01, 0.1, 0.37, 0.18, 0.05, 0.01, 0.02, 0.01, 0.0, 0.01, 0.01, 0.06, 0.02, 0.04, 0.01, 0.01, 0.0, 0.04, 0.01, 0.02, 0.0, 0.01, 0.01, 0.01, 0.0, 0.01, 0.05, 0.04, 0.0, 0.02, 0.01, 0.02, 0.07, 0.01, 0.04, 0.01, 0.01, 0.0, 0.01, 0.01, 0.01, 0.0, 0.0, 0.01, 0.0, 0.06, 0.01, 0.0, 0.0, 0.01, 0.08, 0.0, 0.02, 0.0, 0.03, 0.0, 0.0, 0.01, 0.1, 0.01, 0.0, 0.12, 0.46, 0.02, 0.0, 0.01, 0.0, 0.01, 0.01, 0.0, 0.02, 0.05, 0.0, 0.03, 0.02, 0.03, 0.12, 0.03, 0.0, 0.02, 0.0, 0.03, 0.02, 0.01, 0.01, 0.04, 0.01, 0.05, 0.0, 0.02, 0.0, 0.03, 0.02, 0.01, 0.02, 0.01, 0.02, 0.01, 0.01, 0.15, 0.0, 0.02, 0.04, 0.05, 0.15, 0.01, 0.28, 0.0, 0.01, 0.03, 0.01, 0.0, 0.0, 0.01, 0.02, 0.02, 0.01, 0.05, 0.0, 0.05, 0.02, 0.01, 0.0, 0.01, 0.01, 0.1, 0.01, 0.01, 0.01, 0.05, 0.01, 0.0, 0.0, 0.01, 0.01, 0.03, 0.01, 0.03, 0.01, 0.01, 0.02, 0.04, 0.92, 0.05, 0.04, 0.04, 0.27, 0.22, 0.05, 0.07, 0.16, 0.05, 0.02, 0.26, 0.04, 0.02, 0.07, 0.02, 0.07, 0.07, 0.02, 0.06, 0.63, 0.11, 0.32, 0.32, 0.42, 0.21, 0.01, 0.04, 0.05, 0.01, 0.03, 0.01, 0.17, 0.02, 0.06, 0.02, 0.02, 0.04, 0.07, 0.03, 0.01, 0.01, 0.04, 0.0, 0.1, 0.08, 0.01, 0.05, 0.01, 0.0, 0.01, 0.04, 0.08, 0.22, 0.01, 0.01, 0.01, 0.01, 0.03, 0.0, 0.01, 0.02, 0.0, 0.01, 0.16, 0.1, 0.1, 0.01, 0.08, 0.11, 0.01, 0.05, 0.19, 0.03, 0.01, 0.01, 0.02, 0.02, 0.02, 0.03, 0.06, 0.07, 0.01, 0.0, 0.02, 0.03, 0.03, 0.01, 0.0, 0.02, 0.01, 0.01, 0.0, 0.02, 0.15, 0.03, 0.01, 0.0, 0.01, 0.0, 0.05, 0.05, 0.02, 0.63, 0.03, 0.01, 0.04, 0.05, 0.04, 0.02, 0.13, 0.02, 0.05, 0.02, 0.03, 0.04, 0.03, 0.02, 0.01, 0.04, 0.02, 0.1, 0.01, 0.05, 0.03, 0.22, 0.03, 0.03, 0.01, 0.01, 0.12, 0.03, 0.06, 0.01, 0.02, 0.04, 0.01, 0.14, 0.03, 0.54, 0.1, 0.1, 0.03, 0.03, 0.03, 0.51, 0.03, 0.03, 0.26, 0.24, 0.06, 0.06, 0.05, 0.12, 0.02, 0.03, 0.02, 0.01, 0.02, 0.02, 1.03, 0.04, 0.04, 0.05, 0.05, 0.02, 0.04, 0.01, 0.02, 0.03, 0.02, 0.02, 0.01, 0.01, 0.1, 0.02, 0.02, 0.09, 0.01, 0.02, 0.02, 0.05, 0.02, 0.04, 0.01, 0.05, 0.04, 0.11, 0.03, 0.01, 0.07, 0.05, 0.09, 0.07, 0.03, 0.02, 0.04, 0.02, 0.03, 0.02, 0.02, 0.01, 0.01, 0.01, 0.12, 0.01, 0.02, 0.02, 0.01, 0.02, 0.03, 0.05, 0.12, 0.14, 0.26, 0.02, 0.02, 0.18, 0.15, 0.03, 0.17, 0.03, 0.06, 0.03, 0.06, 0.89, 0.02, 0.02, 0.02, 0.03, 0.02, 0.14, 0.08, 0.18, 0.02, 0.02, 0.51, 0.02, 0.07, 0.03, 0.03, 0.07, 0.31, 0.03, 0.03, 0.14, 0.58, 0.16, 0.11, 0.05, 0.27, 1.04, 0.02, 0.05, 0.05, 0.02, 0.06, 0.13, 0.02, 0.13, 0.13, 0.04, 0.03, 0.12, 0.83, 0.12, 0.05, 0.02, 0.12, 0.15, 0.03, 0.03, 0.02, 0.07, 0.05, 0.07, 0.02, 0.03, 0.02, 0.03, 0.03, 0.07, 0.07, 0.01, 0.32, 0.01, 0.05, 0.09, 0.03, 0.08, 0.11, 0.02, 0.19, 0.32, 0.01, 0.02, 0.02, 0.01, 0.02, 0.22, 0.19, 0.02, 0.03, 0.05, 0.1, 0.05, 0.03, 0.07, 0.05, 0.09, 0.01, 0.01, 0.03, 0.04, 0.24, 0.03, 0.06, 0.01, 0.02, 0.01, 0.03, 0.07, 0.05, 0.01, 0.03, 0.11, 0.02, 0.01, 0.01, 0.01, 0.06, 0.02, 0.07, 0.02, 0.13, 0.08, 0.01, 0.19, 0.01, 0.04, 0.02, 0.05, 0.2, 0.4, 0.07, 0.05, 0.04, 0.82, 0.04, 0.02, 0.07, 0.03, 0.12, 0.13, 0.02, 0.02, 0.07, 0.02, 0.08, 0.03, 0.08, 0.53, 0.13, 0.03, 0.2, 0.1, 0.03, 0.03, 0.07, 0.19, 0.01, 0.07, 0.01, 0.01, 0.11, 0.83, 0.05, 0.06, 0.01, 0.06, 0.21, 0.01, 0.01, 0.23, 0.01, 0.03, 0.01, 0.05, 0.01, 0.01, 0.03, 0.02, 0.03, 0.03, 0.03, 0.01, 0.01, 0.02, 0.35, 0.02, 0.04, 0.05, 0.06, 0.05, 0.4, 0.05, 0.58, 0.53, 0.16, 0.04, 1.73, 0.05, 0.1, 0.1, 0.05, 0.19, 1.35, 1.21, 0.21, 2.25, 0.14, 0.17, 0.01, 0.03, 0.01, 0.28, 0.01, 0.07, 0.02, 0.02, 0.05, 0.01, 0.03, 0.02, 0.02, 0.01, 0.04, 0.44, 2.29, 0.88, 0.01, 0.09, 0.01, 0.09, 0.02, 0.01, 0.01, 0.01, 0.04, 0.04, 0.06, 0.01, 0.01, 0.03, 0.01, 0.01, 0.04, 0.01, 0.01, 0.02, 0.04, 0.02, 0.03, 0.63, 0.07, 0.01, 0.02, 0.04, 0.01, 0.01, 0.02, 0.19, 0.04, 0.03, 0.06, 0.02, 0.02, 0.01, 0.03, 0.01, 0.02, 0.01, 0.19, 0.16, 0.05, 0.01, 0.01, 0.02, 0.04, 0.01, 0.03, 0.01, 0.07, 0.01, 0.04, 0.01, 0.05, 0.15, 0.02, 0.02, 0.11, 0.05, 0.01, 0.01, 0.03, 0.01, 0.01, 0.04, 0.02, 0.04, 0.02, 3.25, 0.01, 0.02, 0.02, 0.04, 0.01, 0.01, 0.01, 0.03, 0.01, 0.01, 0.06, 0.02, 0.01, 0.03, 0.23, 0.01, 0.03, 0.06, 0.01, 0.05, 0.02, 0.09, 0.01, 0.01, 0.08, 0.1, 0.01, 0.04, 0.03, 0.01, 0.04, 0.04, 0.13, 0.01, 0.13, 0.03, 0.01, 0.01, 0.01, 0.05, 0.02, 0.01, 0.02, 0.02, 0.26, 0.01, 0.13, 0.18, 0.01, 0.09, 0.03, 0.01, 0.02, 0.02, 0.01, 0.09, 0.04, 0.05, 0.01, 0.02, 0.01, 0.04, 0.14, 0.09, 0.03, 0.02, 0.01, 0.02, 0.03, 0.01, 0.04, 0.02, 0.02, 0.28, 0.03, 0.52, 0.47, 0.09, 0.11, 0.01, 0.03, 0.03, 0.01, 0.02, 0.01, 0.01, 0.02, 0.02, 0.01, 0.01, 0.01, 0.02, 0.03, 0.01, 0.01, 0.01, 0.04, 0.01, 0.01, 0.03, 0.06, 0.02, 0.18, 0.03, 0.03, 0.02, 0.02, 0.06, 0.01, 0.23, 0.05, 0.08, 0.28, 0.05, 0.18, 0.07, 0.1, 0.07, 0.02, 0.17, 0.47, 0.02, 0.02, 0.1, 0.17, 0.52, 0.02, 0.02, 0.1, 0.99, 0.07, 0.05, 0.01, 0.01, 0.03, 0.09, 0.03, 0.04, 0.09, 0.04, 0.02, 0.11, 0.02, 0.02, 0.03, 0.06, 0.02, 0.06, 0.04, 0.02, 0.15, 0.01, 0.02, 0.02, 0.01, 0.09, 0.02, 0.06, 0.02, 0.16, 0.02, 0.01, 0.01, 0.12, 0.16, 0.03, 0.01, 0.08, 0.09, 0.02, 0.11, 0.02, 0.01, 0.01, 0.12, 0.22, 0.1, 0.02, 0.01, 0.02, 0.05, 0.02, 0.05, 0.17, 0.02, 0.05, 0.04, 0.04, 0.06, 0.02, 0.01, 0.01, 0.04, 0.02, 0.06, 0.08, 0.05, 0.02, 0.09, 0.01, 0.03, 0.05, 0.02, 1.09, 0.19, 0.58, 0.02, 0.01, 0.01, 0.16, 0.05, 0.09, 0.02, 0.09, 0.04, 0.02, 0.05, 0.02, 0.05, 0.02, 0.02, 0.02, 0.05, 0.02, 0.16, 0.01, 0.02, 0.02, 0.02, 0.35, 0.02, 0.04, 0.31, 0.1, 0.04, 0.02, 0.04, 0.08, 0.02, 0.37, 0.1, 0.02, 0.02, 0.04, 0.04, 0.12, 0.23, 0.03, 0.08, 0.06, 0.06, 0.12, 0.05, 0.03, 0.08, 0.03, 0.02, 0.09, 0.03, 0.02, 0.05, 0.23, 0.02, 0.0, 0.01, 0.01, 0.0, 0.01, 0.24, 0.0, 0.04, 0.03, 0.01, 0.01, 0.03, 0.01, 0.18, 0.03, 0.02, 0.03, 0.01, 0.04, 0.01, 0.16, 0.01, 0.0, 0.08, 0.01, 0.01, 0.0, 0.05, 0.01, 0.04, 0.03, 0.01, 0.0, 0.0, 0.01, 0.01, 0.09, 0.06, 0.03, 0.01, 0.17, 0.01, 0.03, 0.01, 0.04, 0.01, 0.0, 0.0, 0.05, 0.01, 0.03, 0.1, 0.03, 0.07, 0.7, 0.07, 1.57, 0.03, 0.1, 0.37, 0.47, 0.26, 0.23, 0.05, 0.42, 0.01, 0.04, 0.05, 0.02, 0.02, 0.01, 0.01, 0.07, 0.01, 0.01, 0.02, 0.02, 0.2, 0.07, 0.1, 0.02, 0.06, 0.18, 0.02, 0.07, 0.1, 0.02, 0.37, 0.01, 0.17, 0.12, 0.01, 0.01, 0.04, 0.04, 0.01, 0.24, 0.03, 0.01, 0.01, 0.03, 0.08, 0.04, 0.04, 0.07, 0.1, 0.04, 1.88, 0.11, 0.13, 0.53, 0.11, 0.04, 0.03, 0.03, 0.09, 0.61, 0.02, 0.28, 0.02, 0.07, 0.05, 0.05, 0.02, 0.07, 0.54, 0.07, 0.07, 0.02, 0.14, 0.02, 0.02, 0.03, 0.05, 0.03, 0.12, 0.02, 0.05, 0.76, 0.22, 0.33, 0.11]}],\n",
              "                        {\"geo\": {\"scope\": \"usa\"}, \"template\": {\"data\": {\"bar\": [{\"error_x\": {\"color\": \"#2a3f5f\"}, \"error_y\": {\"color\": \"#2a3f5f\"}, \"marker\": {\"line\": {\"color\": \"#E5ECF6\", \"width\": 0.5}}, \"type\": \"bar\"}], \"barpolar\": [{\"marker\": {\"line\": {\"color\": \"#E5ECF6\", \"width\": 0.5}}, \"type\": \"barpolar\"}], \"carpet\": [{\"aaxis\": {\"endlinecolor\": \"#2a3f5f\", \"gridcolor\": \"white\", \"linecolor\": \"white\", \"minorgridcolor\": \"white\", \"startlinecolor\": \"#2a3f5f\"}, \"baxis\": {\"endlinecolor\": \"#2a3f5f\", \"gridcolor\": \"white\", \"linecolor\": \"white\", \"minorgridcolor\": \"white\", \"startlinecolor\": \"#2a3f5f\"}, \"type\": \"carpet\"}], \"choropleth\": [{\"colorbar\": {\"outlinewidth\": 0, \"ticks\": \"\"}, \"type\": \"choropleth\"}], \"contour\": [{\"colorbar\": {\"outlinewidth\": 0, \"ticks\": \"\"}, \"colorscale\": [[0.0, \"#0d0887\"], [0.1111111111111111, \"#46039f\"], [0.2222222222222222, \"#7201a8\"], [0.3333333333333333, \"#9c179e\"], [0.4444444444444444, \"#bd3786\"], [0.5555555555555556, \"#d8576b\"], [0.6666666666666666, \"#ed7953\"], [0.7777777777777778, \"#fb9f3a\"], [0.8888888888888888, \"#fdca26\"], [1.0, \"#f0f921\"]], \"type\": \"contour\"}], \"contourcarpet\": [{\"colorbar\": {\"outlinewidth\": 0, \"ticks\": \"\"}, \"type\": \"contourcarpet\"}], \"heatmap\": [{\"colorbar\": {\"outlinewidth\": 0, \"ticks\": \"\"}, \"colorscale\": [[0.0, \"#0d0887\"], [0.1111111111111111, \"#46039f\"], [0.2222222222222222, \"#7201a8\"], [0.3333333333333333, \"#9c179e\"], [0.4444444444444444, \"#bd3786\"], [0.5555555555555556, \"#d8576b\"], [0.6666666666666666, \"#ed7953\"], [0.7777777777777778, \"#fb9f3a\"], [0.8888888888888888, \"#fdca26\"], [1.0, \"#f0f921\"]], \"type\": \"heatmap\"}], \"heatmapgl\": [{\"colorbar\": {\"outlinewidth\": 0, \"ticks\": \"\"}, \"colorscale\": [[0.0, \"#0d0887\"], [0.1111111111111111, \"#46039f\"], [0.2222222222222222, \"#7201a8\"], [0.3333333333333333, \"#9c179e\"], [0.4444444444444444, \"#bd3786\"], [0.5555555555555556, \"#d8576b\"], [0.6666666666666666, \"#ed7953\"], [0.7777777777777778, \"#fb9f3a\"], [0.8888888888888888, \"#fdca26\"], [1.0, \"#f0f921\"]], \"type\": \"heatmapgl\"}], \"histogram\": [{\"marker\": {\"colorbar\": {\"outlinewidth\": 0, \"ticks\": \"\"}}, \"type\": \"histogram\"}], \"histogram2d\": [{\"colorbar\": {\"outlinewidth\": 0, \"ticks\": \"\"}, \"colorscale\": [[0.0, \"#0d0887\"], [0.1111111111111111, \"#46039f\"], [0.2222222222222222, \"#7201a8\"], [0.3333333333333333, \"#9c179e\"], [0.4444444444444444, \"#bd3786\"], [0.5555555555555556, \"#d8576b\"], [0.6666666666666666, \"#ed7953\"], [0.7777777777777778, \"#fb9f3a\"], [0.8888888888888888, \"#fdca26\"], [1.0, \"#f0f921\"]], \"type\": \"histogram2d\"}], \"histogram2dcontour\": [{\"colorbar\": {\"outlinewidth\": 0, \"ticks\": \"\"}, \"colorscale\": [[0.0, \"#0d0887\"], [0.1111111111111111, \"#46039f\"], [0.2222222222222222, \"#7201a8\"], [0.3333333333333333, \"#9c179e\"], [0.4444444444444444, \"#bd3786\"], [0.5555555555555556, \"#d8576b\"], [0.6666666666666666, \"#ed7953\"], [0.7777777777777778, \"#fb9f3a\"], [0.8888888888888888, \"#fdca26\"], [1.0, \"#f0f921\"]], \"type\": \"histogram2dcontour\"}], \"mesh3d\": [{\"colorbar\": {\"outlinewidth\": 0, \"ticks\": \"\"}, \"type\": \"mesh3d\"}], \"parcoords\": [{\"line\": {\"colorbar\": {\"outlinewidth\": 0, \"ticks\": \"\"}}, \"type\": \"parcoords\"}], \"scatter\": [{\"marker\": {\"colorbar\": {\"outlinewidth\": 0, \"ticks\": \"\"}}, \"type\": \"scatter\"}], \"scatter3d\": [{\"line\": {\"colorbar\": {\"outlinewidth\": 0, \"ticks\": \"\"}}, \"marker\": {\"colorbar\": {\"outlinewidth\": 0, \"ticks\": \"\"}}, \"type\": \"scatter3d\"}], \"scattercarpet\": [{\"marker\": {\"colorbar\": {\"outlinewidth\": 0, \"ticks\": \"\"}}, \"type\": \"scattercarpet\"}], \"scattergeo\": [{\"marker\": {\"colorbar\": {\"outlinewidth\": 0, \"ticks\": \"\"}}, \"type\": \"scattergeo\"}], \"scattergl\": [{\"marker\": {\"colorbar\": {\"outlinewidth\": 0, \"ticks\": \"\"}}, \"type\": \"scattergl\"}], \"scattermapbox\": [{\"marker\": {\"colorbar\": {\"outlinewidth\": 0, \"ticks\": \"\"}}, \"type\": \"scattermapbox\"}], \"scatterpolar\": [{\"marker\": {\"colorbar\": {\"outlinewidth\": 0, \"ticks\": \"\"}}, \"type\": \"scatterpolar\"}], \"scatterpolargl\": [{\"marker\": {\"colorbar\": {\"outlinewidth\": 0, \"ticks\": \"\"}}, \"type\": \"scatterpolargl\"}], \"scatterternary\": [{\"marker\": {\"colorbar\": {\"outlinewidth\": 0, \"ticks\": \"\"}}, \"type\": \"scatterternary\"}], \"surface\": [{\"colorbar\": {\"outlinewidth\": 0, \"ticks\": \"\"}, \"colorscale\": [[0.0, \"#0d0887\"], [0.1111111111111111, \"#46039f\"], [0.2222222222222222, \"#7201a8\"], [0.3333333333333333, \"#9c179e\"], [0.4444444444444444, \"#bd3786\"], [0.5555555555555556, \"#d8576b\"], [0.6666666666666666, \"#ed7953\"], [0.7777777777777778, \"#fb9f3a\"], [0.8888888888888888, \"#fdca26\"], [1.0, \"#f0f921\"]], \"type\": \"surface\"}], \"table\": [{\"cells\": {\"fill\": {\"color\": \"#EBF0F8\"}, \"line\": {\"color\": \"white\"}}, \"header\": {\"fill\": {\"color\": \"#C8D4E3\"}, \"line\": {\"color\": \"white\"}}, \"type\": \"table\"}]}, \"layout\": {\"annotationdefaults\": {\"arrowcolor\": \"#2a3f5f\", \"arrowhead\": 0, \"arrowwidth\": 1}, \"colorscale\": {\"diverging\": [[0, \"#8e0152\"], [0.1, \"#c51b7d\"], [0.2, \"#de77ae\"], [0.3, \"#f1b6da\"], [0.4, \"#fde0ef\"], [0.5, \"#f7f7f7\"], [0.6, \"#e6f5d0\"], [0.7, \"#b8e186\"], [0.8, \"#7fbc41\"], [0.9, \"#4d9221\"], [1, \"#276419\"]], \"sequential\": [[0.0, \"#0d0887\"], [0.1111111111111111, \"#46039f\"], [0.2222222222222222, \"#7201a8\"], [0.3333333333333333, \"#9c179e\"], [0.4444444444444444, \"#bd3786\"], [0.5555555555555556, \"#d8576b\"], [0.6666666666666666, \"#ed7953\"], [0.7777777777777778, \"#fb9f3a\"], [0.8888888888888888, \"#fdca26\"], [1.0, \"#f0f921\"]], \"sequentialminus\": [[0.0, \"#0d0887\"], [0.1111111111111111, \"#46039f\"], [0.2222222222222222, \"#7201a8\"], [0.3333333333333333, \"#9c179e\"], [0.4444444444444444, \"#bd3786\"], [0.5555555555555556, \"#d8576b\"], [0.6666666666666666, \"#ed7953\"], [0.7777777777777778, \"#fb9f3a\"], [0.8888888888888888, \"#fdca26\"], [1.0, \"#f0f921\"]]}, \"colorway\": [\"#636efa\", \"#EF553B\", \"#00cc96\", \"#ab63fa\", \"#FFA15A\", \"#19d3f3\", \"#FF6692\", \"#B6E880\", \"#FF97FF\", \"#FECB52\"], \"font\": {\"color\": \"#2a3f5f\"}, \"geo\": {\"bgcolor\": \"white\", \"lakecolor\": \"white\", \"landcolor\": \"#E5ECF6\", \"showlakes\": true, \"showland\": true, \"subunitcolor\": \"white\"}, \"hoverlabel\": {\"align\": \"left\"}, \"hovermode\": \"closest\", \"mapbox\": {\"style\": \"light\"}, \"paper_bgcolor\": \"white\", \"plot_bgcolor\": \"#E5ECF6\", \"polar\": {\"angularaxis\": {\"gridcolor\": \"white\", \"linecolor\": \"white\", \"ticks\": \"\"}, \"bgcolor\": \"#E5ECF6\", \"radialaxis\": {\"gridcolor\": \"white\", \"linecolor\": \"white\", \"ticks\": \"\"}}, \"scene\": {\"xaxis\": {\"backgroundcolor\": \"#E5ECF6\", \"gridcolor\": \"white\", \"gridwidth\": 2, \"linecolor\": \"white\", \"showbackground\": true, \"ticks\": \"\", \"zerolinecolor\": \"white\"}, \"yaxis\": {\"backgroundcolor\": \"#E5ECF6\", \"gridcolor\": \"white\", \"gridwidth\": 2, \"linecolor\": \"white\", \"showbackground\": true, \"ticks\": \"\", \"zerolinecolor\": \"white\"}, \"zaxis\": {\"backgroundcolor\": \"#E5ECF6\", \"gridcolor\": \"white\", \"gridwidth\": 2, \"linecolor\": \"white\", \"showbackground\": true, \"ticks\": \"\", \"zerolinecolor\": \"white\"}}, \"shapedefaults\": {\"line\": {\"color\": \"#2a3f5f\"}}, \"ternary\": {\"aaxis\": {\"gridcolor\": \"white\", \"linecolor\": \"white\", \"ticks\": \"\"}, \"baxis\": {\"gridcolor\": \"white\", \"linecolor\": \"white\", \"ticks\": \"\"}, \"bgcolor\": \"#E5ECF6\", \"caxis\": {\"gridcolor\": \"white\", \"linecolor\": \"white\", \"ticks\": \"\"}}, \"title\": {\"x\": 0.05}, \"xaxis\": {\"automargin\": true, \"gridcolor\": \"white\", \"linecolor\": \"white\", \"ticks\": \"\", \"zerolinecolor\": \"white\", \"zerolinewidth\": 2}, \"yaxis\": {\"automargin\": true, \"gridcolor\": \"white\", \"linecolor\": \"white\", \"ticks\": \"\", \"zerolinecolor\": \"white\", \"zerolinewidth\": 2}}}},\n",
              "                        {\"responsive\": true}\n",
              "                    ).then(function(){\n",
              "                            \n",
              "var gd = document.getElementById('60b61e51-36f8-4308-b3ed-6d592b11495a');\n",
              "var x = new MutationObserver(function (mutations, observer) {{\n",
              "        var display = window.getComputedStyle(gd).display;\n",
              "        if (!display || display === 'none') {{\n",
              "            console.log([gd, 'removed!']);\n",
              "            Plotly.purge(gd);\n",
              "            observer.disconnect();\n",
              "        }}\n",
              "}});\n",
              "\n",
              "// Listen for the removal of the full notebook cells\n",
              "var notebookContainer = gd.closest('#notebook-container');\n",
              "if (notebookContainer) {{\n",
              "    x.observe(notebookContainer, {childList: true});\n",
              "}}\n",
              "\n",
              "// Listen for the clearing of the current output cell\n",
              "var outputEl = gd.closest('.output');\n",
              "if (outputEl) {{\n",
              "    x.observe(outputEl, {childList: true});\n",
              "}}\n",
              "\n",
              "                        })\n",
              "                };\n",
              "                \n",
              "            </script>\n",
              "        </div>\n",
              "</body>\n",
              "</html>"
            ]
          },
          "metadata": {
            "tags": []
          }
        }
      ]
    },
    {
      "cell_type": "code",
      "metadata": {
        "id": "RSTDkf6Ar3HB",
        "colab_type": "code",
        "colab": {}
      },
      "source": [
        "#What is the median price of a pizza across the U.S.?\n",
        "median = df.groupby(['state'])['price'].median().sort_values(0, ascending=False)"
      ],
      "execution_count": 0,
      "outputs": []
    },
    {
      "cell_type": "code",
      "metadata": {
        "id": "TweLPRGZxyLZ",
        "colab_type": "code",
        "colab": {}
      },
      "source": [
        "median = median.reset_index()"
      ],
      "execution_count": 0,
      "outputs": []
    },
    {
      "cell_type": "code",
      "metadata": {
        "id": "h5H0jGWUxzgS",
        "colab_type": "code",
        "colab": {}
      },
      "source": [
        "median"
      ],
      "execution_count": 0,
      "outputs": []
    },
    {
      "cell_type": "code",
      "metadata": {
        "id": "8c48UyJrx8yu",
        "colab_type": "code",
        "outputId": "9fa57983-a9aa-4a0c-9cfa-2d908890d4e1",
        "colab": {
          "base_uri": "https://localhost:8080/",
          "height": 542
        }
      },
      "source": [
        "data = dict(type = 'choropleth', \n",
        "  \n",
        "            # location: Arizoana, California, Newyork \n",
        "            locations = median.state, \n",
        "              \n",
        "            # States of USA \n",
        "            locationmode = 'USA-states', \n",
        "              \n",
        "            # colorscale can be added as per requirement \n",
        "            colorscale = 'viridis', \n",
        "        \n",
        "              \n",
        "            # text can be given anything you like \n",
        "            text = \"State\", \n",
        "            z = median.price, \n",
        "            colorbar = {'title': 'Median Prices in Each State'}) \n",
        "              \n",
        "layout = dict(geo ={'scope': 'usa'}) \n",
        "choromap = go.Figure(data = [data], layout = layout) \n",
        "  \n",
        "# plotting graph \n",
        "iplot(choromap)"
      ],
      "execution_count": 0,
      "outputs": [
        {
          "output_type": "display_data",
          "data": {
            "text/html": [
              "<html>\n",
              "<head><meta charset=\"utf-8\" /></head>\n",
              "<body>\n",
              "    <div>\n",
              "            <script src=\"https://cdnjs.cloudflare.com/ajax/libs/mathjax/2.7.5/MathJax.js?config=TeX-AMS-MML_SVG\"></script><script type=\"text/javascript\">if (window.MathJax) {MathJax.Hub.Config({SVG: {font: \"STIX-Web\"}});}</script>\n",
              "                <script type=\"text/javascript\">window.PlotlyConfig = {MathJaxConfig: 'local'};</script>\n",
              "        <script src=\"https://cdn.plot.ly/plotly-latest.min.js\"></script>    \n",
              "            <div id=\"4d855a38-87e8-4131-abf6-06a33734e303\" class=\"plotly-graph-div\" style=\"height:525px; width:100%;\"></div>\n",
              "            <script type=\"text/javascript\">\n",
              "                \n",
              "                    window.PLOTLYENV=window.PLOTLYENV || {};\n",
              "                    \n",
              "                if (document.getElementById(\"4d855a38-87e8-4131-abf6-06a33734e303\")) {\n",
              "                    Plotly.newPlot(\n",
              "                        '4d855a38-87e8-4131-abf6-06a33734e303',\n",
              "                        [{\"colorbar\": {\"title\": {\"text\": \"Median Prices in Each State\"}}, \"colorscale\": [[0.0, \"#440154\"], [0.1111111111111111, \"#482878\"], [0.2222222222222222, \"#3e4989\"], [0.3333333333333333, \"#31688e\"], [0.4444444444444444, \"#26828e\"], [0.5555555555555556, \"#1f9e89\"], [0.6666666666666666, \"#35b779\"], [0.7777777777777778, \"#6ece58\"], [0.8888888888888888, \"#b5de2b\"], [1.0, \"#fde725\"]], \"locationmode\": \"USA-states\", \"locations\": [\"AK\", \"MT\", \"NJ\", \"NV\", \"OR\", \"NY\", \"WA\", \"ND\", \"CA\", \"IL\", \"LA\", \"MN\", \"FL\", \"MS\", \"MO\", \"UT\", \"TX\", \"WI\", \"DE\", \"SC\", \"VA\", \"TN\", \"OK\", \"CO\", \"NC\", \"IA\", \"AZ\", \"CT\", \"MD\", \"KY\", \"PA\", \"IN\", \"AR\", \"WV\", \"KS\", \"GA\", \"OH\", \"NM\", \"NE\", \"MI\", \"HI\", \"ID\", \"AL\", \"SD\"], \"text\": \"State\", \"type\": \"choropleth\", \"z\": [21.0, 20.994999999999997, 20.99, 16.99, 16.39, 16.0, 15.99, 14.99, 13.99, 13.75, 13.5, 13.495000000000001, 13.0, 13.0, 13.0, 13.0, 12.99, 12.99, 12.49, 12.19, 12.0, 12.0, 12.0, 12.0, 11.95, 11.85, 11.67, 11.45, 10.99, 10.99, 10.99, 10.625, 10.475, 10.0, 9.995000000000001, 9.99, 9.99, 9.375, 9.25, 8.99, 6.5, 5.975, 5.95, 4.75]}],\n",
              "                        {\"geo\": {\"scope\": \"usa\"}, \"template\": {\"data\": {\"bar\": [{\"error_x\": {\"color\": \"#2a3f5f\"}, \"error_y\": {\"color\": \"#2a3f5f\"}, \"marker\": {\"line\": {\"color\": \"#E5ECF6\", \"width\": 0.5}}, \"type\": \"bar\"}], \"barpolar\": [{\"marker\": {\"line\": {\"color\": \"#E5ECF6\", \"width\": 0.5}}, \"type\": \"barpolar\"}], \"carpet\": [{\"aaxis\": {\"endlinecolor\": \"#2a3f5f\", \"gridcolor\": \"white\", \"linecolor\": \"white\", \"minorgridcolor\": \"white\", \"startlinecolor\": \"#2a3f5f\"}, \"baxis\": {\"endlinecolor\": \"#2a3f5f\", \"gridcolor\": \"white\", \"linecolor\": \"white\", \"minorgridcolor\": \"white\", \"startlinecolor\": \"#2a3f5f\"}, \"type\": \"carpet\"}], \"choropleth\": [{\"colorbar\": {\"outlinewidth\": 0, \"ticks\": \"\"}, \"type\": \"choropleth\"}], \"contour\": [{\"colorbar\": {\"outlinewidth\": 0, \"ticks\": \"\"}, \"colorscale\": [[0.0, \"#0d0887\"], [0.1111111111111111, \"#46039f\"], [0.2222222222222222, \"#7201a8\"], [0.3333333333333333, \"#9c179e\"], [0.4444444444444444, \"#bd3786\"], [0.5555555555555556, \"#d8576b\"], [0.6666666666666666, \"#ed7953\"], [0.7777777777777778, \"#fb9f3a\"], [0.8888888888888888, \"#fdca26\"], [1.0, \"#f0f921\"]], \"type\": \"contour\"}], \"contourcarpet\": [{\"colorbar\": {\"outlinewidth\": 0, \"ticks\": \"\"}, \"type\": \"contourcarpet\"}], \"heatmap\": [{\"colorbar\": {\"outlinewidth\": 0, \"ticks\": \"\"}, \"colorscale\": [[0.0, \"#0d0887\"], [0.1111111111111111, \"#46039f\"], [0.2222222222222222, \"#7201a8\"], [0.3333333333333333, \"#9c179e\"], [0.4444444444444444, \"#bd3786\"], [0.5555555555555556, \"#d8576b\"], [0.6666666666666666, \"#ed7953\"], [0.7777777777777778, \"#fb9f3a\"], [0.8888888888888888, \"#fdca26\"], [1.0, \"#f0f921\"]], \"type\": \"heatmap\"}], \"heatmapgl\": [{\"colorbar\": {\"outlinewidth\": 0, \"ticks\": \"\"}, \"colorscale\": [[0.0, \"#0d0887\"], [0.1111111111111111, \"#46039f\"], [0.2222222222222222, \"#7201a8\"], [0.3333333333333333, \"#9c179e\"], [0.4444444444444444, \"#bd3786\"], [0.5555555555555556, \"#d8576b\"], [0.6666666666666666, \"#ed7953\"], [0.7777777777777778, \"#fb9f3a\"], [0.8888888888888888, \"#fdca26\"], [1.0, \"#f0f921\"]], \"type\": \"heatmapgl\"}], \"histogram\": [{\"marker\": {\"colorbar\": {\"outlinewidth\": 0, \"ticks\": \"\"}}, \"type\": \"histogram\"}], \"histogram2d\": [{\"colorbar\": {\"outlinewidth\": 0, \"ticks\": \"\"}, \"colorscale\": [[0.0, \"#0d0887\"], [0.1111111111111111, \"#46039f\"], [0.2222222222222222, \"#7201a8\"], [0.3333333333333333, \"#9c179e\"], [0.4444444444444444, \"#bd3786\"], [0.5555555555555556, \"#d8576b\"], [0.6666666666666666, \"#ed7953\"], [0.7777777777777778, \"#fb9f3a\"], [0.8888888888888888, \"#fdca26\"], [1.0, \"#f0f921\"]], \"type\": \"histogram2d\"}], \"histogram2dcontour\": [{\"colorbar\": {\"outlinewidth\": 0, \"ticks\": \"\"}, \"colorscale\": [[0.0, \"#0d0887\"], [0.1111111111111111, \"#46039f\"], [0.2222222222222222, \"#7201a8\"], [0.3333333333333333, \"#9c179e\"], [0.4444444444444444, \"#bd3786\"], [0.5555555555555556, \"#d8576b\"], [0.6666666666666666, \"#ed7953\"], [0.7777777777777778, \"#fb9f3a\"], [0.8888888888888888, \"#fdca26\"], [1.0, \"#f0f921\"]], \"type\": \"histogram2dcontour\"}], \"mesh3d\": [{\"colorbar\": {\"outlinewidth\": 0, \"ticks\": \"\"}, \"type\": \"mesh3d\"}], \"parcoords\": [{\"line\": {\"colorbar\": {\"outlinewidth\": 0, \"ticks\": \"\"}}, \"type\": \"parcoords\"}], \"scatter\": [{\"marker\": {\"colorbar\": {\"outlinewidth\": 0, \"ticks\": \"\"}}, \"type\": \"scatter\"}], \"scatter3d\": [{\"line\": {\"colorbar\": {\"outlinewidth\": 0, \"ticks\": \"\"}}, \"marker\": {\"colorbar\": {\"outlinewidth\": 0, \"ticks\": \"\"}}, \"type\": \"scatter3d\"}], \"scattercarpet\": [{\"marker\": {\"colorbar\": {\"outlinewidth\": 0, \"ticks\": \"\"}}, \"type\": \"scattercarpet\"}], \"scattergeo\": [{\"marker\": {\"colorbar\": {\"outlinewidth\": 0, \"ticks\": \"\"}}, \"type\": \"scattergeo\"}], \"scattergl\": [{\"marker\": {\"colorbar\": {\"outlinewidth\": 0, \"ticks\": \"\"}}, \"type\": \"scattergl\"}], \"scattermapbox\": [{\"marker\": {\"colorbar\": {\"outlinewidth\": 0, \"ticks\": \"\"}}, \"type\": \"scattermapbox\"}], \"scatterpolar\": [{\"marker\": {\"colorbar\": {\"outlinewidth\": 0, \"ticks\": \"\"}}, \"type\": \"scatterpolar\"}], \"scatterpolargl\": [{\"marker\": {\"colorbar\": {\"outlinewidth\": 0, \"ticks\": \"\"}}, \"type\": \"scatterpolargl\"}], \"scatterternary\": [{\"marker\": {\"colorbar\": {\"outlinewidth\": 0, \"ticks\": \"\"}}, \"type\": \"scatterternary\"}], \"surface\": [{\"colorbar\": {\"outlinewidth\": 0, \"ticks\": \"\"}, \"colorscale\": [[0.0, \"#0d0887\"], [0.1111111111111111, \"#46039f\"], [0.2222222222222222, \"#7201a8\"], [0.3333333333333333, \"#9c179e\"], [0.4444444444444444, \"#bd3786\"], [0.5555555555555556, \"#d8576b\"], [0.6666666666666666, \"#ed7953\"], [0.7777777777777778, \"#fb9f3a\"], [0.8888888888888888, \"#fdca26\"], [1.0, \"#f0f921\"]], \"type\": \"surface\"}], \"table\": [{\"cells\": {\"fill\": {\"color\": \"#EBF0F8\"}, \"line\": {\"color\": \"white\"}}, \"header\": {\"fill\": {\"color\": \"#C8D4E3\"}, \"line\": {\"color\": \"white\"}}, \"type\": \"table\"}]}, \"layout\": {\"annotationdefaults\": {\"arrowcolor\": \"#2a3f5f\", \"arrowhead\": 0, \"arrowwidth\": 1}, \"colorscale\": {\"diverging\": [[0, \"#8e0152\"], [0.1, \"#c51b7d\"], [0.2, \"#de77ae\"], [0.3, \"#f1b6da\"], [0.4, \"#fde0ef\"], [0.5, \"#f7f7f7\"], [0.6, \"#e6f5d0\"], [0.7, \"#b8e186\"], [0.8, \"#7fbc41\"], [0.9, \"#4d9221\"], [1, \"#276419\"]], \"sequential\": [[0.0, \"#0d0887\"], [0.1111111111111111, \"#46039f\"], [0.2222222222222222, \"#7201a8\"], [0.3333333333333333, \"#9c179e\"], [0.4444444444444444, \"#bd3786\"], [0.5555555555555556, \"#d8576b\"], [0.6666666666666666, \"#ed7953\"], [0.7777777777777778, \"#fb9f3a\"], [0.8888888888888888, \"#fdca26\"], [1.0, \"#f0f921\"]], \"sequentialminus\": [[0.0, \"#0d0887\"], [0.1111111111111111, \"#46039f\"], [0.2222222222222222, \"#7201a8\"], [0.3333333333333333, \"#9c179e\"], [0.4444444444444444, \"#bd3786\"], [0.5555555555555556, \"#d8576b\"], [0.6666666666666666, \"#ed7953\"], [0.7777777777777778, \"#fb9f3a\"], [0.8888888888888888, \"#fdca26\"], [1.0, \"#f0f921\"]]}, \"colorway\": [\"#636efa\", \"#EF553B\", \"#00cc96\", \"#ab63fa\", \"#FFA15A\", \"#19d3f3\", \"#FF6692\", \"#B6E880\", \"#FF97FF\", \"#FECB52\"], \"font\": {\"color\": \"#2a3f5f\"}, \"geo\": {\"bgcolor\": \"white\", \"lakecolor\": \"white\", \"landcolor\": \"#E5ECF6\", \"showlakes\": true, \"showland\": true, \"subunitcolor\": \"white\"}, \"hoverlabel\": {\"align\": \"left\"}, \"hovermode\": \"closest\", \"mapbox\": {\"style\": \"light\"}, \"paper_bgcolor\": \"white\", \"plot_bgcolor\": \"#E5ECF6\", \"polar\": {\"angularaxis\": {\"gridcolor\": \"white\", \"linecolor\": \"white\", \"ticks\": \"\"}, \"bgcolor\": \"#E5ECF6\", \"radialaxis\": {\"gridcolor\": \"white\", \"linecolor\": \"white\", \"ticks\": \"\"}}, \"scene\": {\"xaxis\": {\"backgroundcolor\": \"#E5ECF6\", \"gridcolor\": \"white\", \"gridwidth\": 2, \"linecolor\": \"white\", \"showbackground\": true, \"ticks\": \"\", \"zerolinecolor\": \"white\"}, \"yaxis\": {\"backgroundcolor\": \"#E5ECF6\", \"gridcolor\": \"white\", \"gridwidth\": 2, \"linecolor\": \"white\", \"showbackground\": true, \"ticks\": \"\", \"zerolinecolor\": \"white\"}, \"zaxis\": {\"backgroundcolor\": \"#E5ECF6\", \"gridcolor\": \"white\", \"gridwidth\": 2, \"linecolor\": \"white\", \"showbackground\": true, \"ticks\": \"\", \"zerolinecolor\": \"white\"}}, \"shapedefaults\": {\"line\": {\"color\": \"#2a3f5f\"}}, \"ternary\": {\"aaxis\": {\"gridcolor\": \"white\", \"linecolor\": \"white\", \"ticks\": \"\"}, \"baxis\": {\"gridcolor\": \"white\", \"linecolor\": \"white\", \"ticks\": \"\"}, \"bgcolor\": \"#E5ECF6\", \"caxis\": {\"gridcolor\": \"white\", \"linecolor\": \"white\", \"ticks\": \"\"}}, \"title\": {\"x\": 0.05}, \"xaxis\": {\"automargin\": true, \"gridcolor\": \"white\", \"linecolor\": \"white\", \"ticks\": \"\", \"zerolinecolor\": \"white\", \"zerolinewidth\": 2}, \"yaxis\": {\"automargin\": true, \"gridcolor\": \"white\", \"linecolor\": \"white\", \"ticks\": \"\", \"zerolinecolor\": \"white\", \"zerolinewidth\": 2}}}},\n",
              "                        {\"responsive\": true}\n",
              "                    ).then(function(){\n",
              "                            \n",
              "var gd = document.getElementById('4d855a38-87e8-4131-abf6-06a33734e303');\n",
              "var x = new MutationObserver(function (mutations, observer) {{\n",
              "        var display = window.getComputedStyle(gd).display;\n",
              "        if (!display || display === 'none') {{\n",
              "            console.log([gd, 'removed!']);\n",
              "            Plotly.purge(gd);\n",
              "            observer.disconnect();\n",
              "        }}\n",
              "}});\n",
              "\n",
              "// Listen for the removal of the full notebook cells\n",
              "var notebookContainer = gd.closest('#notebook-container');\n",
              "if (notebookContainer) {{\n",
              "    x.observe(notebookContainer, {childList: true});\n",
              "}}\n",
              "\n",
              "// Listen for the clearing of the current output cell\n",
              "var outputEl = gd.closest('.output');\n",
              "if (outputEl) {{\n",
              "    x.observe(outputEl, {childList: true});\n",
              "}}\n",
              "\n",
              "                        })\n",
              "                };\n",
              "                \n",
              "            </script>\n",
              "        </div>\n",
              "</body>\n",
              "</html>"
            ]
          },
          "metadata": {
            "tags": []
          }
        }
      ]
    },
    {
      "cell_type": "code",
      "metadata": {
        "id": "rS1ym0USyMDZ",
        "colab_type": "code",
        "outputId": "274a659a-52e0-4153-a47e-4a1af28d3ceb",
        "colab": {
          "base_uri": "https://localhost:8080/",
          "height": 536
        }
      },
      "source": [
        "fig, ax = plt.subplots()  \n",
        "median.plot(kind='bar', colormap='coolwarm')\n",
        "plt.ylabel('Median Price')\n",
        "plt.title('States')\n",
        "plt.show()"
      ],
      "execution_count": 0,
      "outputs": [
        {
          "output_type": "display_data",
          "data": {
            "image/png": "[encoded data removed]",
            "text/plain": [
              "<Figure size 432x288 with 1 Axes>"
            ]
          },
          "metadata": {
            "tags": []
          }
        },
        {
          "output_type": "display_data",
          "data": {
            "image/png": "[encoded data removed]",
            "text/plain": [
              "<Figure size 432x288 with 1 Axes>"
            ]
          },
          "metadata": {
            "tags": []
          }
        }
      ]
    },
    {
      "cell_type": "code",
      "metadata": {
        "id": "9mWFRVOHr9bf",
        "colab_type": "code",
        "outputId": "e00b2276-8b06-4819-d825-71cff73cc1a6",
        "colab": {
          "base_uri": "https://localhost:8080/",
          "height": 235
        }
      },
      "source": [
        "#Which cities have the most restaurants serving pizza per capita (100,000 residents)?\n",
        "newdf.groupby(['city'])['#restaurantspercapita'].sum().sort_values(0, ascending=False)"
      ],
      "execution_count": 0,
      "outputs": [
        {
          "output_type": "execute_result",
          "data": {
            "text/plain": [
              "city\n",
              "New York         3.253217\n",
              "Brooklyn         2.293417\n",
              "Reno             2.248478\n",
              "Seattle          1.882753\n",
              "Albuquerque      1.726528\n",
              "                   ...   \n",
              "Dana Point       0.002555\n",
              "Ventura          0.002555\n",
              "Hawthorne        0.002555\n",
              "Visalia          0.002555\n",
              "Mountain View    0.002555\n",
              "Name: #restaurantspercapita, Length: 1018, dtype: float64"
            ]
          },
          "metadata": {
            "tags": []
          },
          "execution_count": 17
        }
      ]
    },
    {
      "cell_type": "code",
      "metadata": {
        "id": "Tx-BI3CasQGu",
        "colab_type": "code",
        "outputId": "59a1ff7f-6d9d-4abb-fe3b-c578e7982d21",
        "colab": {
          "base_uri": "https://localhost:8080/",
          "height": 238
        }
      },
      "source": [
        "#What factors contribute the most to pizza price?\n",
        "corr = df.corr()\n",
        "corr.style.background_gradient(cmap='coolwarm')"
      ],
      "execution_count": 0,
      "outputs": [
        {
          "output_type": "execute_result",
          "data": {
            "text/html": [
              "<style  type=\"text/css\" >\n",
              "    #T_5b272364_0cc6_11ea_beaf_0242ac1c0002row0_col0 {\n",
              "            background-color:  #b40426;\n",
              "            color:  #f1f1f1;\n",
              "        }    #T_5b272364_0cc6_11ea_beaf_0242ac1c0002row0_col1 {\n",
              "            background-color:  #dfdbd9;\n",
              "            color:  #000000;\n",
              "        }    #T_5b272364_0cc6_11ea_beaf_0242ac1c0002row0_col2 {\n",
              "            background-color:  #5572df;\n",
              "            color:  #000000;\n",
              "        }    #T_5b272364_0cc6_11ea_beaf_0242ac1c0002row0_col3 {\n",
              "            background-color:  #5f7fe8;\n",
              "            color:  #000000;\n",
              "        }    #T_5b272364_0cc6_11ea_beaf_0242ac1c0002row0_col4 {\n",
              "            background-color:  #5977e3;\n",
              "            color:  #000000;\n",
              "        }    #T_5b272364_0cc6_11ea_beaf_0242ac1c0002row0_col5 {\n",
              "            background-color:  #3b4cc0;\n",
              "            color:  #f1f1f1;\n",
              "        }    #T_5b272364_0cc6_11ea_beaf_0242ac1c0002row0_col6 {\n",
              "            background-color:  #6485ec;\n",
              "            color:  #000000;\n",
              "        }    #T_5b272364_0cc6_11ea_beaf_0242ac1c0002row0_col7 {\n",
              "            background-color:  #b5cdfa;\n",
              "            color:  #000000;\n",
              "        }    #T_5b272364_0cc6_11ea_beaf_0242ac1c0002row0_col8 {\n",
              "            background-color:  #ccd9ed;\n",
              "            color:  #000000;\n",
              "        }    #T_5b272364_0cc6_11ea_beaf_0242ac1c0002row0_col9 {\n",
              "            background-color:  #3f53c6;\n",
              "            color:  #f1f1f1;\n",
              "        }    #T_5b272364_0cc6_11ea_beaf_0242ac1c0002row1_col0 {\n",
              "            background-color:  #cbd8ee;\n",
              "            color:  #000000;\n",
              "        }    #T_5b272364_0cc6_11ea_beaf_0242ac1c0002row1_col1 {\n",
              "            background-color:  #b40426;\n",
              "            color:  #f1f1f1;\n",
              "        }    #T_5b272364_0cc6_11ea_beaf_0242ac1c0002row1_col2 {\n",
              "            background-color:  #3b4cc0;\n",
              "            color:  #f1f1f1;\n",
              "        }    #T_5b272364_0cc6_11ea_beaf_0242ac1c0002row1_col3 {\n",
              "            background-color:  #3b4cc0;\n",
              "            color:  #f1f1f1;\n",
              "        }    #T_5b272364_0cc6_11ea_beaf_0242ac1c0002row1_col4 {\n",
              "            background-color:  #3c4ec2;\n",
              "            color:  #f1f1f1;\n",
              "        }    #T_5b272364_0cc6_11ea_beaf_0242ac1c0002row1_col5 {\n",
              "            background-color:  #3e51c5;\n",
              "            color:  #f1f1f1;\n",
              "        }    #T_5b272364_0cc6_11ea_beaf_0242ac1c0002row1_col6 {\n",
              "            background-color:  #3b4cc0;\n",
              "            color:  #f1f1f1;\n",
              "        }    #T_5b272364_0cc6_11ea_beaf_0242ac1c0002row1_col7 {\n",
              "            background-color:  #f6a586;\n",
              "            color:  #000000;\n",
              "        }    #T_5b272364_0cc6_11ea_beaf_0242ac1c0002row1_col8 {\n",
              "            background-color:  #3b4cc0;\n",
              "            color:  #f1f1f1;\n",
              "        }    #T_5b272364_0cc6_11ea_beaf_0242ac1c0002row1_col9 {\n",
              "            background-color:  #3b4cc0;\n",
              "            color:  #f1f1f1;\n",
              "        }    #T_5b272364_0cc6_11ea_beaf_0242ac1c0002row2_col0 {\n",
              "            background-color:  #a9c6fd;\n",
              "            color:  #000000;\n",
              "        }    #T_5b272364_0cc6_11ea_beaf_0242ac1c0002row2_col1 {\n",
              "            background-color:  #b5cdfa;\n",
              "            color:  #000000;\n",
              "        }    #T_5b272364_0cc6_11ea_beaf_0242ac1c0002row2_col2 {\n",
              "            background-color:  #b40426;\n",
              "            color:  #f1f1f1;\n",
              "        }    #T_5b272364_0cc6_11ea_beaf_0242ac1c0002row2_col3 {\n",
              "            background-color:  #b6cefa;\n",
              "            color:  #000000;\n",
              "        }    #T_5b272364_0cc6_11ea_beaf_0242ac1c0002row2_col4 {\n",
              "            background-color:  #5d7ce6;\n",
              "            color:  #000000;\n",
              "        }    #T_5b272364_0cc6_11ea_beaf_0242ac1c0002row2_col5 {\n",
              "            background-color:  #92b4fe;\n",
              "            color:  #000000;\n",
              "        }    #T_5b272364_0cc6_11ea_beaf_0242ac1c0002row2_col6 {\n",
              "            background-color:  #c4d5f3;\n",
              "            color:  #000000;\n",
              "        }    #T_5b272364_0cc6_11ea_beaf_0242ac1c0002row2_col7 {\n",
              "            background-color:  #92b4fe;\n",
              "            color:  #000000;\n",
              "        }    #T_5b272364_0cc6_11ea_beaf_0242ac1c0002row2_col8 {\n",
              "            background-color:  #80a3fa;\n",
              "            color:  #000000;\n",
              "        }    #T_5b272364_0cc6_11ea_beaf_0242ac1c0002row2_col9 {\n",
              "            background-color:  #4961d2;\n",
              "            color:  #f1f1f1;\n",
              "        }    #T_5b272364_0cc6_11ea_beaf_0242ac1c0002row3_col0 {\n",
              "            background-color:  #a3c2fe;\n",
              "            color:  #000000;\n",
              "        }    #T_5b272364_0cc6_11ea_beaf_0242ac1c0002row3_col1 {\n",
              "            background-color:  #a7c5fe;\n",
              "            color:  #000000;\n",
              "        }    #T_5b272364_0cc6_11ea_beaf_0242ac1c0002row3_col2 {\n",
              "            background-color:  #a7c5fe;\n",
              "            color:  #000000;\n",
              "        }    #T_5b272364_0cc6_11ea_beaf_0242ac1c0002row3_col3 {\n",
              "            background-color:  #b40426;\n",
              "            color:  #f1f1f1;\n",
              "        }    #T_5b272364_0cc6_11ea_beaf_0242ac1c0002row3_col4 {\n",
              "            background-color:  #6485ec;\n",
              "            color:  #000000;\n",
              "        }    #T_5b272364_0cc6_11ea_beaf_0242ac1c0002row3_col5 {\n",
              "            background-color:  #a5c3fe;\n",
              "            color:  #000000;\n",
              "        }    #T_5b272364_0cc6_11ea_beaf_0242ac1c0002row3_col6 {\n",
              "            background-color:  #cdd9ec;\n",
              "            color:  #000000;\n",
              "        }    #T_5b272364_0cc6_11ea_beaf_0242ac1c0002row3_col7 {\n",
              "            background-color:  #90b2fe;\n",
              "            color:  #000000;\n",
              "        }    #T_5b272364_0cc6_11ea_beaf_0242ac1c0002row3_col8 {\n",
              "            background-color:  #8fb1fe;\n",
              "            color:  #000000;\n",
              "        }    #T_5b272364_0cc6_11ea_beaf_0242ac1c0002row3_col9 {\n",
              "            background-color:  #485fd1;\n",
              "            color:  #f1f1f1;\n",
              "        }    #T_5b272364_0cc6_11ea_beaf_0242ac1c0002row4_col0 {\n",
              "            background-color:  #b2ccfb;\n",
              "            color:  #000000;\n",
              "        }    #T_5b272364_0cc6_11ea_beaf_0242ac1c0002row4_col1 {\n",
              "            background-color:  #bbd1f8;\n",
              "            color:  #000000;\n",
              "        }    #T_5b272364_0cc6_11ea_beaf_0242ac1c0002row4_col2 {\n",
              "            background-color:  #6485ec;\n",
              "            color:  #000000;\n",
              "        }    #T_5b272364_0cc6_11ea_beaf_0242ac1c0002row4_col3 {\n",
              "            background-color:  #7ea1fa;\n",
              "            color:  #000000;\n",
              "        }    #T_5b272364_0cc6_11ea_beaf_0242ac1c0002row4_col4 {\n",
              "            background-color:  #b40426;\n",
              "            color:  #f1f1f1;\n",
              "        }    #T_5b272364_0cc6_11ea_beaf_0242ac1c0002row4_col5 {\n",
              "            background-color:  #aac7fd;\n",
              "            color:  #000000;\n",
              "        }    #T_5b272364_0cc6_11ea_beaf_0242ac1c0002row4_col6 {\n",
              "            background-color:  #c3d5f4;\n",
              "            color:  #000000;\n",
              "        }    #T_5b272364_0cc6_11ea_beaf_0242ac1c0002row4_col7 {\n",
              "            background-color:  #b7cff9;\n",
              "            color:  #000000;\n",
              "        }    #T_5b272364_0cc6_11ea_beaf_0242ac1c0002row4_col8 {\n",
              "            background-color:  #a1c0ff;\n",
              "            color:  #000000;\n",
              "        }    #T_5b272364_0cc6_11ea_beaf_0242ac1c0002row4_col9 {\n",
              "            background-color:  #465ecf;\n",
              "            color:  #f1f1f1;\n",
              "        }    #T_5b272364_0cc6_11ea_beaf_0242ac1c0002row5_col0 {\n",
              "            background-color:  #4c66d6;\n",
              "            color:  #000000;\n",
              "        }    #T_5b272364_0cc6_11ea_beaf_0242ac1c0002row5_col1 {\n",
              "            background-color:  #7a9df8;\n",
              "            color:  #000000;\n",
              "        }    #T_5b272364_0cc6_11ea_beaf_0242ac1c0002row5_col2 {\n",
              "            background-color:  #4b64d5;\n",
              "            color:  #f1f1f1;\n",
              "        }    #T_5b272364_0cc6_11ea_beaf_0242ac1c0002row5_col3 {\n",
              "            background-color:  #7396f5;\n",
              "            color:  #000000;\n",
              "        }    #T_5b272364_0cc6_11ea_beaf_0242ac1c0002row5_col4 {\n",
              "            background-color:  #6180e9;\n",
              "            color:  #000000;\n",
              "        }    #T_5b272364_0cc6_11ea_beaf_0242ac1c0002row5_col5 {\n",
              "            background-color:  #b40426;\n",
              "            color:  #f1f1f1;\n",
              "        }    #T_5b272364_0cc6_11ea_beaf_0242ac1c0002row5_col6 {\n",
              "            background-color:  #f49a7b;\n",
              "            color:  #000000;\n",
              "        }    #T_5b272364_0cc6_11ea_beaf_0242ac1c0002row5_col7 {\n",
              "            background-color:  #e3d9d3;\n",
              "            color:  #000000;\n",
              "        }    #T_5b272364_0cc6_11ea_beaf_0242ac1c0002row5_col8 {\n",
              "            background-color:  #eed0c0;\n",
              "            color:  #000000;\n",
              "        }    #T_5b272364_0cc6_11ea_beaf_0242ac1c0002row5_col9 {\n",
              "            background-color:  #3e51c5;\n",
              "            color:  #f1f1f1;\n",
              "        }    #T_5b272364_0cc6_11ea_beaf_0242ac1c0002row6_col0 {\n",
              "            background-color:  #3b4cc0;\n",
              "            color:  #f1f1f1;\n",
              "        }    #T_5b272364_0cc6_11ea_beaf_0242ac1c0002row6_col1 {\n",
              "            background-color:  #3b4cc0;\n",
              "            color:  #f1f1f1;\n",
              "        }    #T_5b272364_0cc6_11ea_beaf_0242ac1c0002row6_col2 {\n",
              "            background-color:  #506bda;\n",
              "            color:  #000000;\n",
              "        }    #T_5b272364_0cc6_11ea_beaf_0242ac1c0002row6_col3 {\n",
              "            background-color:  #7295f4;\n",
              "            color:  #000000;\n",
              "        }    #T_5b272364_0cc6_11ea_beaf_0242ac1c0002row6_col4 {\n",
              "            background-color:  #485fd1;\n",
              "            color:  #f1f1f1;\n",
              "        }    #T_5b272364_0cc6_11ea_beaf_0242ac1c0002row6_col5 {\n",
              "            background-color:  #f7b093;\n",
              "            color:  #000000;\n",
              "        }    #T_5b272364_0cc6_11ea_beaf_0242ac1c0002row6_col6 {\n",
              "            background-color:  #b40426;\n",
              "            color:  #f1f1f1;\n",
              "        }    #T_5b272364_0cc6_11ea_beaf_0242ac1c0002row6_col7 {\n",
              "            background-color:  #3b4cc0;\n",
              "            color:  #f1f1f1;\n",
              "        }    #T_5b272364_0cc6_11ea_beaf_0242ac1c0002row6_col8 {\n",
              "            background-color:  #abc8fd;\n",
              "            color:  #000000;\n",
              "        }    #T_5b272364_0cc6_11ea_beaf_0242ac1c0002row6_col9 {\n",
              "            background-color:  #4f69d9;\n",
              "            color:  #000000;\n",
              "        }    #T_5b272364_0cc6_11ea_beaf_0242ac1c0002row7_col0 {\n",
              "            background-color:  #b7cff9;\n",
              "            color:  #000000;\n",
              "        }    #T_5b272364_0cc6_11ea_beaf_0242ac1c0002row7_col1 {\n",
              "            background-color:  #f39577;\n",
              "            color:  #000000;\n",
              "        }    #T_5b272364_0cc6_11ea_beaf_0242ac1c0002row7_col2 {\n",
              "            background-color:  #3c4ec2;\n",
              "            color:  #f1f1f1;\n",
              "        }    #T_5b272364_0cc6_11ea_beaf_0242ac1c0002row7_col3 {\n",
              "            background-color:  #4e68d8;\n",
              "            color:  #000000;\n",
              "        }    #T_5b272364_0cc6_11ea_beaf_0242ac1c0002row7_col4 {\n",
              "            background-color:  #6384eb;\n",
              "            color:  #000000;\n",
              "        }    #T_5b272364_0cc6_11ea_beaf_0242ac1c0002row7_col5 {\n",
              "            background-color:  #dddcdc;\n",
              "            color:  #000000;\n",
              "        }    #T_5b272364_0cc6_11ea_beaf_0242ac1c0002row7_col6 {\n",
              "            background-color:  #6788ee;\n",
              "            color:  #000000;\n",
              "        }    #T_5b272364_0cc6_11ea_beaf_0242ac1c0002row7_col7 {\n",
              "            background-color:  #b40426;\n",
              "            color:  #f1f1f1;\n",
              "        }    #T_5b272364_0cc6_11ea_beaf_0242ac1c0002row7_col8 {\n",
              "            background-color:  #d6dce4;\n",
              "            color:  #000000;\n",
              "        }    #T_5b272364_0cc6_11ea_beaf_0242ac1c0002row7_col9 {\n",
              "            background-color:  #3e51c5;\n",
              "            color:  #f1f1f1;\n",
              "        }    #T_5b272364_0cc6_11ea_beaf_0242ac1c0002row8_col0 {\n",
              "            background-color:  #e1dad6;\n",
              "            color:  #000000;\n",
              "        }    #T_5b272364_0cc6_11ea_beaf_0242ac1c0002row8_col1 {\n",
              "            background-color:  #8fb1fe;\n",
              "            color:  #000000;\n",
              "        }    #T_5b272364_0cc6_11ea_beaf_0242ac1c0002row8_col2 {\n",
              "            background-color:  #516ddb;\n",
              "            color:  #000000;\n",
              "        }    #T_5b272364_0cc6_11ea_beaf_0242ac1c0002row8_col3 {\n",
              "            background-color:  #7597f6;\n",
              "            color:  #000000;\n",
              "        }    #T_5b272364_0cc6_11ea_beaf_0242ac1c0002row8_col4 {\n",
              "            background-color:  #6e90f2;\n",
              "            color:  #000000;\n",
              "        }    #T_5b272364_0cc6_11ea_beaf_0242ac1c0002row8_col5 {\n",
              "            background-color:  #f3c8b2;\n",
              "            color:  #000000;\n",
              "        }    #T_5b272364_0cc6_11ea_beaf_0242ac1c0002row8_col6 {\n",
              "            background-color:  #dedcdb;\n",
              "            color:  #000000;\n",
              "        }    #T_5b272364_0cc6_11ea_beaf_0242ac1c0002row8_col7 {\n",
              "            background-color:  #e8d6cc;\n",
              "            color:  #000000;\n",
              "        }    #T_5b272364_0cc6_11ea_beaf_0242ac1c0002row8_col8 {\n",
              "            background-color:  #b40426;\n",
              "            color:  #f1f1f1;\n",
              "        }    #T_5b272364_0cc6_11ea_beaf_0242ac1c0002row8_col9 {\n",
              "            background-color:  #4f69d9;\n",
              "            color:  #000000;\n",
              "        }    #T_5b272364_0cc6_11ea_beaf_0242ac1c0002row9_col0 {\n",
              "            background-color:  #94b6ff;\n",
              "            color:  #000000;\n",
              "        }    #T_5b272364_0cc6_11ea_beaf_0242ac1c0002row9_col1 {\n",
              "            background-color:  #b2ccfb;\n",
              "            color:  #000000;\n",
              "        }    #T_5b272364_0cc6_11ea_beaf_0242ac1c0002row9_col2 {\n",
              "            background-color:  #445acc;\n",
              "            color:  #f1f1f1;\n",
              "        }    #T_5b272364_0cc6_11ea_beaf_0242ac1c0002row9_col3 {\n",
              "            background-color:  #5673e0;\n",
              "            color:  #000000;\n",
              "        }    #T_5b272364_0cc6_11ea_beaf_0242ac1c0002row9_col4 {\n",
              "            background-color:  #3b4cc0;\n",
              "            color:  #f1f1f1;\n",
              "        }    #T_5b272364_0cc6_11ea_beaf_0242ac1c0002row9_col5 {\n",
              "            background-color:  #82a6fb;\n",
              "            color:  #000000;\n",
              "        }    #T_5b272364_0cc6_11ea_beaf_0242ac1c0002row9_col6 {\n",
              "            background-color:  #c0d4f5;\n",
              "            color:  #000000;\n",
              "        }    #T_5b272364_0cc6_11ea_beaf_0242ac1c0002row9_col7 {\n",
              "            background-color:  #90b2fe;\n",
              "            color:  #000000;\n",
              "        }    #T_5b272364_0cc6_11ea_beaf_0242ac1c0002row9_col8 {\n",
              "            background-color:  #7a9df8;\n",
              "            color:  #000000;\n",
              "        }    #T_5b272364_0cc6_11ea_beaf_0242ac1c0002row9_col9 {\n",
              "            background-color:  #b40426;\n",
              "            color:  #f1f1f1;\n",
              "        }</style><table id=\"T_5b272364_0cc6_11ea_beaf_0242ac1c0002\" ><thead>    <tr>        <th class=\"blank level0\" ></th>        <th class=\"col_heading level0 col0\" >latitude</th>        <th class=\"col_heading level0 col1\" >longitude</th>        <th class=\"col_heading level0 col2\" >has_meat</th>        <th class=\"col_heading level0 col3\" >has_veg</th>        <th class=\"col_heading level0 col4\" >price</th>        <th class=\"col_heading level0 col5\" >state_population</th>        <th class=\"col_heading level0 col6\" >state_land_area</th>        <th class=\"col_heading level0 col7\" >state_population_density</th>        <th class=\"col_heading level0 col8\" >state_median_income</th>        <th class=\"col_heading level0 col9\" >min_distance</th>    </tr></thead><tbody>\n",
              "                <tr>\n",
              "                        <th id=\"T_5b272364_0cc6_11ea_beaf_0242ac1c0002level0_row0\" class=\"row_heading level0 row0\" >latitude</th>\n",
              "                        <td id=\"T_5b272364_0cc6_11ea_beaf_0242ac1c0002row0_col0\" class=\"data row0 col0\" >1</td>\n",
              "                        <td id=\"T_5b272364_0cc6_11ea_beaf_0242ac1c0002row0_col1\" class=\"data row0 col1\" >0.183099</td>\n",
              "                        <td id=\"T_5b272364_0cc6_11ea_beaf_0242ac1c0002row0_col2\" class=\"data row0 col2\" >0.0350725</td>\n",
              "                        <td id=\"T_5b272364_0cc6_11ea_beaf_0242ac1c0002row0_col3\" class=\"data row0 col3\" >0.00803811</td>\n",
              "                        <td id=\"T_5b272364_0cc6_11ea_beaf_0242ac1c0002row0_col4\" class=\"data row0 col4\" >0.0744312</td>\n",
              "                        <td id=\"T_5b272364_0cc6_11ea_beaf_0242ac1c0002row0_col5\" class=\"data row0 col5\" >-0.356824</td>\n",
              "                        <td id=\"T_5b272364_0cc6_11ea_beaf_0242ac1c0002row0_col6\" class=\"data row0 col6\" >-0.444212</td>\n",
              "                        <td id=\"T_5b272364_0cc6_11ea_beaf_0242ac1c0002row0_col7\" class=\"data row0 col7\" >0.0961657</td>\n",
              "                        <td id=\"T_5b272364_0cc6_11ea_beaf_0242ac1c0002row0_col8\" class=\"data row0 col8\" >0.301656</td>\n",
              "                        <td id=\"T_5b272364_0cc6_11ea_beaf_0242ac1c0002row0_col9\" class=\"data row0 col9\" >-0.0514314</td>\n",
              "            </tr>\n",
              "            <tr>\n",
              "                        <th id=\"T_5b272364_0cc6_11ea_beaf_0242ac1c0002level0_row1\" class=\"row_heading level0 row1\" >longitude</th>\n",
              "                        <td id=\"T_5b272364_0cc6_11ea_beaf_0242ac1c0002row1_col0\" class=\"data row1 col0\" >0.183099</td>\n",
              "                        <td id=\"T_5b272364_0cc6_11ea_beaf_0242ac1c0002row1_col1\" class=\"data row1 col1\" >1</td>\n",
              "                        <td id=\"T_5b272364_0cc6_11ea_beaf_0242ac1c0002row1_col2\" class=\"data row1 col2\" >-0.058235</td>\n",
              "                        <td id=\"T_5b272364_0cc6_11ea_beaf_0242ac1c0002row1_col3\" class=\"data row1 col3\" >-0.127023</td>\n",
              "                        <td id=\"T_5b272364_0cc6_11ea_beaf_0242ac1c0002row1_col4\" class=\"data row1 col4\" >-0.0248564</td>\n",
              "                        <td id=\"T_5b272364_0cc6_11ea_beaf_0242ac1c0002row1_col5\" class=\"data row1 col5\" >-0.338644</td>\n",
              "                        <td id=\"T_5b272364_0cc6_11ea_beaf_0242ac1c0002row1_col6\" class=\"data row1 col6\" >-0.668795</td>\n",
              "                        <td id=\"T_5b272364_0cc6_11ea_beaf_0242ac1c0002row1_col7\" class=\"data row1 col7\" >0.599627</td>\n",
              "                        <td id=\"T_5b272364_0cc6_11ea_beaf_0242ac1c0002row1_col8\" class=\"data row1 col8\" >-0.243445</td>\n",
              "                        <td id=\"T_5b272364_0cc6_11ea_beaf_0242ac1c0002row1_col9\" class=\"data row1 col9\" >-0.0716761</td>\n",
              "            </tr>\n",
              "            <tr>\n",
              "                        <th id=\"T_5b272364_0cc6_11ea_beaf_0242ac1c0002level0_row2\" class=\"row_heading level0 row2\" >has_meat</th>\n",
              "                        <td id=\"T_5b272364_0cc6_11ea_beaf_0242ac1c0002row2_col0\" class=\"data row2 col0\" >0.0350725</td>\n",
              "                        <td id=\"T_5b272364_0cc6_11ea_beaf_0242ac1c0002row2_col1\" class=\"data row2 col1\" >-0.058235</td>\n",
              "                        <td id=\"T_5b272364_0cc6_11ea_beaf_0242ac1c0002row2_col2\" class=\"data row2 col2\" >1</td>\n",
              "                        <td id=\"T_5b272364_0cc6_11ea_beaf_0242ac1c0002row2_col3\" class=\"data row2 col3\" >0.287782</td>\n",
              "                        <td id=\"T_5b272364_0cc6_11ea_beaf_0242ac1c0002row2_col4\" class=\"data row2 col4\" >0.083911</td>\n",
              "                        <td id=\"T_5b272364_0cc6_11ea_beaf_0242ac1c0002row2_col5\" class=\"data row2 col5\" >0.00269627</td>\n",
              "                        <td id=\"T_5b272364_0cc6_11ea_beaf_0242ac1c0002row2_col6\" class=\"data row2 col6\" >0.0178712</td>\n",
              "                        <td id=\"T_5b272364_0cc6_11ea_beaf_0242ac1c0002row2_col7\" class=\"data row2 col7\" >-0.0522325</td>\n",
              "                        <td id=\"T_5b272364_0cc6_11ea_beaf_0242ac1c0002row2_col8\" class=\"data row2 col8\" >0.02269</td>\n",
              "                        <td id=\"T_5b272364_0cc6_11ea_beaf_0242ac1c0002row2_col9\" class=\"data row2 col9\" >-0.0214054</td>\n",
              "            </tr>\n",
              "            <tr>\n",
              "                        <th id=\"T_5b272364_0cc6_11ea_beaf_0242ac1c0002level0_row3\" class=\"row_heading level0 row3\" >has_veg</th>\n",
              "                        <td id=\"T_5b272364_0cc6_11ea_beaf_0242ac1c0002row3_col0\" class=\"data row3 col0\" >0.00803811</td>\n",
              "                        <td id=\"T_5b272364_0cc6_11ea_beaf_0242ac1c0002row3_col1\" class=\"data row3 col1\" >-0.127023</td>\n",
              "                        <td id=\"T_5b272364_0cc6_11ea_beaf_0242ac1c0002row3_col2\" class=\"data row3 col2\" >0.287782</td>\n",
              "                        <td id=\"T_5b272364_0cc6_11ea_beaf_0242ac1c0002row3_col3\" class=\"data row3 col3\" >1</td>\n",
              "                        <td id=\"T_5b272364_0cc6_11ea_beaf_0242ac1c0002row3_col4\" class=\"data row3 col4\" >0.110627</td>\n",
              "                        <td id=\"T_5b272364_0cc6_11ea_beaf_0242ac1c0002row3_col5\" class=\"data row3 col5\" >0.0727637</td>\n",
              "                        <td id=\"T_5b272364_0cc6_11ea_beaf_0242ac1c0002row3_col6\" class=\"data row3 col6\" >0.0695556</td>\n",
              "                        <td id=\"T_5b272364_0cc6_11ea_beaf_0242ac1c0002row3_col7\" class=\"data row3 col7\" >-0.0551637</td>\n",
              "                        <td id=\"T_5b272364_0cc6_11ea_beaf_0242ac1c0002row3_col8\" class=\"data row3 col8\" >0.0755607</td>\n",
              "                        <td id=\"T_5b272364_0cc6_11ea_beaf_0242ac1c0002row3_col9\" class=\"data row3 col9\" >-0.0256007</td>\n",
              "            </tr>\n",
              "            <tr>\n",
              "                        <th id=\"T_5b272364_0cc6_11ea_beaf_0242ac1c0002level0_row4\" class=\"row_heading level0 row4\" >price</th>\n",
              "                        <td id=\"T_5b272364_0cc6_11ea_beaf_0242ac1c0002row4_col0\" class=\"data row4 col0\" >0.0744312</td>\n",
              "                        <td id=\"T_5b272364_0cc6_11ea_beaf_0242ac1c0002row4_col1\" class=\"data row4 col1\" >-0.0248564</td>\n",
              "                        <td id=\"T_5b272364_0cc6_11ea_beaf_0242ac1c0002row4_col2\" class=\"data row4 col2\" >0.083911</td>\n",
              "                        <td id=\"T_5b272364_0cc6_11ea_beaf_0242ac1c0002row4_col3\" class=\"data row4 col3\" >0.110627</td>\n",
              "                        <td id=\"T_5b272364_0cc6_11ea_beaf_0242ac1c0002row4_col4\" class=\"data row4 col4\" >1</td>\n",
              "                        <td id=\"T_5b272364_0cc6_11ea_beaf_0242ac1c0002row4_col5\" class=\"data row4 col5\" >0.096783</td>\n",
              "                        <td id=\"T_5b272364_0cc6_11ea_beaf_0242ac1c0002row4_col6\" class=\"data row4 col6\" >0.0152424</td>\n",
              "                        <td id=\"T_5b272364_0cc6_11ea_beaf_0242ac1c0002row4_col7\" class=\"data row4 col7\" >0.10706</td>\n",
              "                        <td id=\"T_5b272364_0cc6_11ea_beaf_0242ac1c0002row4_col8\" class=\"data row4 col8\" >0.136792</td>\n",
              "                        <td id=\"T_5b272364_0cc6_11ea_beaf_0242ac1c0002row4_col9\" class=\"data row4 col9\" >-0.0292523</td>\n",
              "            </tr>\n",
              "            <tr>\n",
              "                        <th id=\"T_5b272364_0cc6_11ea_beaf_0242ac1c0002level0_row5\" class=\"row_heading level0 row5\" >state_population</th>\n",
              "                        <td id=\"T_5b272364_0cc6_11ea_beaf_0242ac1c0002row5_col0\" class=\"data row5 col0\" >-0.356824</td>\n",
              "                        <td id=\"T_5b272364_0cc6_11ea_beaf_0242ac1c0002row5_col1\" class=\"data row5 col1\" >-0.338644</td>\n",
              "                        <td id=\"T_5b272364_0cc6_11ea_beaf_0242ac1c0002row5_col2\" class=\"data row5 col2\" >0.00269627</td>\n",
              "                        <td id=\"T_5b272364_0cc6_11ea_beaf_0242ac1c0002row5_col3\" class=\"data row5 col3\" >0.0727637</td>\n",
              "                        <td id=\"T_5b272364_0cc6_11ea_beaf_0242ac1c0002row5_col4\" class=\"data row5 col4\" >0.096783</td>\n",
              "                        <td id=\"T_5b272364_0cc6_11ea_beaf_0242ac1c0002row5_col5\" class=\"data row5 col5\" >1</td>\n",
              "                        <td id=\"T_5b272364_0cc6_11ea_beaf_0242ac1c0002row5_col6\" class=\"data row5 col6\" >0.58091</td>\n",
              "                        <td id=\"T_5b272364_0cc6_11ea_beaf_0242ac1c0002row5_col7\" class=\"data row5 col7\" >0.324578</td>\n",
              "                        <td id=\"T_5b272364_0cc6_11ea_beaf_0242ac1c0002row5_col8\" class=\"data row5 col8\" >0.474081</td>\n",
              "                        <td id=\"T_5b272364_0cc6_11ea_beaf_0242ac1c0002row5_col9\" class=\"data row5 col9\" >-0.0584921</td>\n",
              "            </tr>\n",
              "            <tr>\n",
              "                        <th id=\"T_5b272364_0cc6_11ea_beaf_0242ac1c0002level0_row6\" class=\"row_heading level0 row6\" >state_land_area</th>\n",
              "                        <td id=\"T_5b272364_0cc6_11ea_beaf_0242ac1c0002row6_col0\" class=\"data row6 col0\" >-0.444212</td>\n",
              "                        <td id=\"T_5b272364_0cc6_11ea_beaf_0242ac1c0002row6_col1\" class=\"data row6 col1\" >-0.668795</td>\n",
              "                        <td id=\"T_5b272364_0cc6_11ea_beaf_0242ac1c0002row6_col2\" class=\"data row6 col2\" >0.0178712</td>\n",
              "                        <td id=\"T_5b272364_0cc6_11ea_beaf_0242ac1c0002row6_col3\" class=\"data row6 col3\" >0.0695556</td>\n",
              "                        <td id=\"T_5b272364_0cc6_11ea_beaf_0242ac1c0002row6_col4\" class=\"data row6 col4\" >0.0152424</td>\n",
              "                        <td id=\"T_5b272364_0cc6_11ea_beaf_0242ac1c0002row6_col5\" class=\"data row6 col5\" >0.58091</td>\n",
              "                        <td id=\"T_5b272364_0cc6_11ea_beaf_0242ac1c0002row6_col6\" class=\"data row6 col6\" >1</td>\n",
              "                        <td id=\"T_5b272364_0cc6_11ea_beaf_0242ac1c0002row6_col7\" class=\"data row6 col7\" >-0.428215</td>\n",
              "                        <td id=\"T_5b272364_0cc6_11ea_beaf_0242ac1c0002row6_col8\" class=\"data row6 col8\" >0.176099</td>\n",
              "                        <td id=\"T_5b272364_0cc6_11ea_beaf_0242ac1c0002row6_col9\" class=\"data row6 col9\" >0.000515247</td>\n",
              "            </tr>\n",
              "            <tr>\n",
              "                        <th id=\"T_5b272364_0cc6_11ea_beaf_0242ac1c0002level0_row7\" class=\"row_heading level0 row7\" >state_population_density</th>\n",
              "                        <td id=\"T_5b272364_0cc6_11ea_beaf_0242ac1c0002row7_col0\" class=\"data row7 col0\" >0.0961657</td>\n",
              "                        <td id=\"T_5b272364_0cc6_11ea_beaf_0242ac1c0002row7_col1\" class=\"data row7 col1\" >0.599627</td>\n",
              "                        <td id=\"T_5b272364_0cc6_11ea_beaf_0242ac1c0002row7_col2\" class=\"data row7 col2\" >-0.0522325</td>\n",
              "                        <td id=\"T_5b272364_0cc6_11ea_beaf_0242ac1c0002row7_col3\" class=\"data row7 col3\" >-0.0551637</td>\n",
              "                        <td id=\"T_5b272364_0cc6_11ea_beaf_0242ac1c0002row7_col4\" class=\"data row7 col4\" >0.10706</td>\n",
              "                        <td id=\"T_5b272364_0cc6_11ea_beaf_0242ac1c0002row7_col5\" class=\"data row7 col5\" >0.324578</td>\n",
              "                        <td id=\"T_5b272364_0cc6_11ea_beaf_0242ac1c0002row7_col6\" class=\"data row7 col6\" >-0.428215</td>\n",
              "                        <td id=\"T_5b272364_0cc6_11ea_beaf_0242ac1c0002row7_col7\" class=\"data row7 col7\" >1</td>\n",
              "                        <td id=\"T_5b272364_0cc6_11ea_beaf_0242ac1c0002row7_col8\" class=\"data row7 col8\" >0.348233</td>\n",
              "                        <td id=\"T_5b272364_0cc6_11ea_beaf_0242ac1c0002row7_col9\" class=\"data row7 col9\" >-0.0561901</td>\n",
              "            </tr>\n",
              "            <tr>\n",
              "                        <th id=\"T_5b272364_0cc6_11ea_beaf_0242ac1c0002level0_row8\" class=\"row_heading level0 row8\" >state_median_income</th>\n",
              "                        <td id=\"T_5b272364_0cc6_11ea_beaf_0242ac1c0002row8_col0\" class=\"data row8 col0\" >0.301656</td>\n",
              "                        <td id=\"T_5b272364_0cc6_11ea_beaf_0242ac1c0002row8_col1\" class=\"data row8 col1\" >-0.243445</td>\n",
              "                        <td id=\"T_5b272364_0cc6_11ea_beaf_0242ac1c0002row8_col2\" class=\"data row8 col2\" >0.02269</td>\n",
              "                        <td id=\"T_5b272364_0cc6_11ea_beaf_0242ac1c0002row8_col3\" class=\"data row8 col3\" >0.0755607</td>\n",
              "                        <td id=\"T_5b272364_0cc6_11ea_beaf_0242ac1c0002row8_col4\" class=\"data row8 col4\" >0.136792</td>\n",
              "                        <td id=\"T_5b272364_0cc6_11ea_beaf_0242ac1c0002row8_col5\" class=\"data row8 col5\" >0.474081</td>\n",
              "                        <td id=\"T_5b272364_0cc6_11ea_beaf_0242ac1c0002row8_col6\" class=\"data row8 col6\" >0.176099</td>\n",
              "                        <td id=\"T_5b272364_0cc6_11ea_beaf_0242ac1c0002row8_col7\" class=\"data row8 col7\" >0.348233</td>\n",
              "                        <td id=\"T_5b272364_0cc6_11ea_beaf_0242ac1c0002row8_col8\" class=\"data row8 col8\" >1</td>\n",
              "                        <td id=\"T_5b272364_0cc6_11ea_beaf_0242ac1c0002row8_col9\" class=\"data row8 col9\" >6.54351e-05</td>\n",
              "            </tr>\n",
              "            <tr>\n",
              "                        <th id=\"T_5b272364_0cc6_11ea_beaf_0242ac1c0002level0_row9\" class=\"row_heading level0 row9\" >min_distance</th>\n",
              "                        <td id=\"T_5b272364_0cc6_11ea_beaf_0242ac1c0002row9_col0\" class=\"data row9 col0\" >-0.0514314</td>\n",
              "                        <td id=\"T_5b272364_0cc6_11ea_beaf_0242ac1c0002row9_col1\" class=\"data row9 col1\" >-0.0716761</td>\n",
              "                        <td id=\"T_5b272364_0cc6_11ea_beaf_0242ac1c0002row9_col2\" class=\"data row9 col2\" >-0.0214054</td>\n",
              "                        <td id=\"T_5b272364_0cc6_11ea_beaf_0242ac1c0002row9_col3\" class=\"data row9 col3\" >-0.0256007</td>\n",
              "                        <td id=\"T_5b272364_0cc6_11ea_beaf_0242ac1c0002row9_col4\" class=\"data row9 col4\" >-0.0292523</td>\n",
              "                        <td id=\"T_5b272364_0cc6_11ea_beaf_0242ac1c0002row9_col5\" class=\"data row9 col5\" >-0.0584921</td>\n",
              "                        <td id=\"T_5b272364_0cc6_11ea_beaf_0242ac1c0002row9_col6\" class=\"data row9 col6\" >0.000515247</td>\n",
              "                        <td id=\"T_5b272364_0cc6_11ea_beaf_0242ac1c0002row9_col7\" class=\"data row9 col7\" >-0.0561901</td>\n",
              "                        <td id=\"T_5b272364_0cc6_11ea_beaf_0242ac1c0002row9_col8\" class=\"data row9 col8\" >6.54351e-05</td>\n",
              "                        <td id=\"T_5b272364_0cc6_11ea_beaf_0242ac1c0002row9_col9\" class=\"data row9 col9\" >1</td>\n",
              "            </tr>\n",
              "    </tbody></table>"
            ],
            "text/plain": [
              "<pandas.io.formats.style.Styler at 0x7f6abc733e80>"
            ]
          },
          "metadata": {
            "tags": []
          },
          "execution_count": 18
        }
      ]
    },
    {
      "cell_type": "code",
      "metadata": {
        "id": "ppI-v7RUsRwC",
        "colab_type": "code",
        "outputId": "1c4c1bf5-9a17-4664-a7b3-7510ebbf78bb",
        "colab": {
          "base_uri": "https://localhost:8080/",
          "height": 1000
        }
      },
      "source": [
        "import seaborn as sns\n",
        "f,ax = plt.subplots(figsize=(18, 18))\n",
        "sns.heatmap(df.corr(), annot=True, linewidths=.5, fmt= '.1f',ax=ax)"
      ],
      "execution_count": 0,
      "outputs": [
        {
          "output_type": "execute_result",
          "data": {
            "text/plain": [
              "<matplotlib.axes._subplots.AxesSubplot at 0x7f6ab3a160b8>"
            ]
          },
          "metadata": {
            "tags": []
          },
          "execution_count": 40
        },
        {
          "output_type": "display_data",
          "data": {
            "image/png": "[encoded data removed]",
            "text/plain": [
              "<Figure size 1296x1296 with 2 Axes>"
            ]
          },
          "metadata": {
            "tags": []
          }
        }
      ]
    },
    {
      "cell_type": "code",
      "metadata": {
        "id": "xy6aOq_1sYdV",
        "colab_type": "code",
        "outputId": "0530ffd3-7eaa-48e0-f7f0-b12d53591795",
        "colab": {
          "base_uri": "https://localhost:8080/",
          "height": 542
        }
      },
      "source": [
        "data = dict(type = 'choropleth', \n",
        "  \n",
        "            # location: Arizoana, California, Newyork \n",
        "            locations = newdf.state, \n",
        "              \n",
        "            # States of USA \n",
        "            locationmode = 'USA-states', \n",
        "              \n",
        "            # colorscale can be added as per requirement \n",
        "            colorscale = 'viridis', \n",
        "        \n",
        "              \n",
        "            # text can be given anything you like \n",
        "            text = \"State\", \n",
        "            z = newdf.restaurantspercapita, \n",
        "            colorbar = {'title': 'Number of Restaurants Per Capita in Each State'}) \n",
        "              \n",
        "layout = dict(geo ={'scope': 'usa'}) \n",
        "choromap = go.Figure(data = [data], layout = layout) \n",
        "  \n",
        "# plotting graph \n",
        "iplot(choromap) "
      ],
      "execution_count": 0,
      "outputs": [
        {
          "output_type": "display_data",
          "data": {
            "text/html": [
              "<html>\n",
              "<head><meta charset=\"utf-8\" /></head>\n",
              "<body>\n",
              "    <div>\n",
              "            <script src=\"https://cdnjs.cloudflare.com/ajax/libs/mathjax/2.7.5/MathJax.js?config=TeX-AMS-MML_SVG\"></script><script type=\"text/javascript\">if (window.MathJax) {MathJax.Hub.Config({SVG: {font: \"STIX-Web\"}});}</script>\n",
              "                <script type=\"text/javascript\">window.PlotlyConfig = {MathJaxConfig: 'local'};</script>\n",
              "        <script src=\"https://cdn.plot.ly/plotly-latest.min.js\"></script>    \n",
              "            <div id=\"91488cf4-2a1c-4e5c-90f2-bb4b80566331\" class=\"plotly-graph-div\" style=\"height:525px; width:100%;\"></div>\n",
              "            <script type=\"text/javascript\">\n",
              "                \n",
              "                    window.PLOTLYENV=window.PLOTLYENV || {};\n",
              "                    \n",
              "                if (document.getElementById(\"91488cf4-2a1c-4e5c-90f2-bb4b80566331\")) {\n",
              "                    Plotly.newPlot(\n",
              "                        '91488cf4-2a1c-4e5c-90f2-bb4b80566331',\n",
              "                        [{\"colorbar\": {\"title\": {\"text\": \"Number of Restaurants Per Capita in Each State\"}}, \"colorscale\": [[0.0, \"#440154\"], [0.1111111111111111, \"#482878\"], [0.2222222222222222, \"#3e4989\"], [0.3333333333333333, \"#31688e\"], [0.4444444444444444, \"#26828e\"], [0.5555555555555556, \"#1f9e89\"], [0.6666666666666666, \"#35b779\"], [0.7777777777777778, \"#6ece58\"], [0.8888888888888888, \"#b5de2b\"], [1.0, \"#fde725\"]], \"locationmode\": \"USA-states\", \"locations\": [\"AK\", \"AK\", \"AK\", \"AL\", \"AL\", \"AL\", \"AR\", \"AR\", \"AR\", \"AR\", \"AR\", \"AR\", \"AR\", \"AR\", \"AR\", \"AR\", \"AZ\", \"AZ\", \"AZ\", \"AZ\", \"AZ\", \"AZ\", \"AZ\", \"AZ\", \"AZ\", \"AZ\", \"AZ\", \"AZ\", \"AZ\", \"AZ\", \"AZ\", \"AZ\", \"AZ\", \"AZ\", \"AZ\", \"AZ\", \"AZ\", \"CA\", \"CA\", \"CA\", \"CA\", \"CA\", \"CA\", \"CA\", \"CA\", \"CA\", \"CA\", \"CA\", \"CA\", \"CA\", \"CA\", \"CA\", \"CA\", \"CA\", \"CA\", \"CA\", \"CA\", \"CA\", \"CA\", \"CA\", \"CA\", \"CA\", \"CA\", \"CA\", \"CA\", \"CA\", \"CA\", \"CA\", \"CA\", \"CA\", \"CA\", \"CA\", \"CA\", \"CA\", \"CA\", \"CA\", \"CA\", \"CA\", \"CA\", \"CA\", \"CA\", \"CA\", \"CA\", \"CA\", \"CA\", \"CA\", \"CA\", \"CA\", \"CA\", \"CA\", \"CA\", \"CA\", \"CA\", \"CA\", \"CA\", \"CA\", \"CA\", \"CA\", \"CA\", \"CA\", \"CA\", \"CA\", \"CA\", \"CA\", \"CA\", \"CA\", \"CA\", \"CA\", \"CA\", \"CA\", \"CA\", \"CA\", \"CA\", \"CA\", \"CA\", \"CA\", \"CA\", \"CA\", \"CA\", \"CA\", \"CA\", \"CA\", \"CA\", \"CA\", \"CA\", \"CA\", \"CA\", \"CA\", \"CA\", \"CA\", \"CA\", \"CA\", \"CA\", \"CA\", \"CA\", \"CA\", \"CA\", \"CA\", \"CA\", \"CA\", \"CA\", \"CA\", \"CA\", \"CA\", \"CA\", \"CA\", \"CA\", \"CA\", \"CA\", \"CA\", \"CA\", \"CA\", \"CA\", \"CA\", \"CA\", \"CA\", \"CA\", \"CA\", \"CA\", \"CA\", \"CA\", \"CA\", \"CA\", \"CA\", \"CA\", \"CA\", \"CA\", \"CA\", \"CA\", \"CA\", \"CA\", \"CA\", \"CA\", \"CO\", \"CO\", \"CO\", \"CO\", \"CO\", \"CO\", \"CO\", \"CO\", \"CO\", \"CO\", \"CO\", \"CO\", \"CO\", \"CO\", \"CO\", \"CO\", \"CO\", \"CO\", \"CO\", \"CO\", \"CO\", \"CT\", \"DE\", \"DE\", \"DE\", \"DE\", \"DE\", \"DE\", \"FL\", \"FL\", \"FL\", \"FL\", \"FL\", \"FL\", \"FL\", \"FL\", \"FL\", \"FL\", \"FL\", \"FL\", \"FL\", \"FL\", \"FL\", \"FL\", \"FL\", \"FL\", \"FL\", \"FL\", \"FL\", \"FL\", \"FL\", \"FL\", \"FL\", \"FL\", \"FL\", \"FL\", \"FL\", \"FL\", \"FL\", \"FL\", \"FL\", \"FL\", \"FL\", \"FL\", \"FL\", \"FL\", \"FL\", \"FL\", \"FL\", \"FL\", \"FL\", \"FL\", \"FL\", \"FL\", \"FL\", \"FL\", \"FL\", \"FL\", \"FL\", \"FL\", \"FL\", \"FL\", \"FL\", \"FL\", \"FL\", \"FL\", \"FL\", \"FL\", \"FL\", \"FL\", \"FL\", \"FL\", \"FL\", \"FL\", \"FL\", \"FL\", \"FL\", \"FL\", \"FL\", \"FL\", \"FL\", \"FL\", \"GA\", \"GA\", \"GA\", \"GA\", \"GA\", \"GA\", \"GA\", \"GA\", \"GA\", \"GA\", \"GA\", \"GA\", \"GA\", \"GA\", \"GA\", \"GA\", \"GA\", \"GA\", \"GA\", \"GA\", \"GA\", \"GA\", \"GA\", \"GA\", \"GA\", \"GA\", \"GA\", \"GA\", \"GA\", \"GA\", \"GA\", \"GA\", \"GA\", \"GA\", \"GA\", \"GA\", \"GA\", \"HI\", \"IA\", \"IA\", \"IA\", \"IA\", \"IA\", \"IA\", \"IA\", \"IA\", \"IA\", \"IA\", \"IA\", \"ID\", \"ID\", \"ID\", \"IL\", \"IL\", \"IL\", \"IL\", \"IL\", \"IL\", \"IL\", \"IL\", \"IL\", \"IL\", \"IL\", \"IL\", \"IL\", \"IL\", \"IL\", \"IL\", \"IL\", \"IL\", \"IL\", \"IL\", \"IL\", \"IL\", \"IL\", \"IL\", \"IL\", \"IL\", \"IL\", \"IL\", \"IL\", \"IL\", \"IL\", \"IL\", \"IL\", \"IL\", \"IL\", \"IL\", \"IL\", \"IL\", \"IL\", \"IL\", \"IL\", \"IL\", \"IL\", \"IL\", \"IL\", \"IL\", \"IL\", \"IL\", \"IL\", \"IL\", \"IL\", \"IL\", \"IL\", \"IL\", \"IL\", \"IL\", \"IL\", \"IL\", \"IN\", \"IN\", \"IN\", \"IN\", \"IN\", \"IN\", \"IN\", \"IN\", \"IN\", \"IN\", \"IN\", \"IN\", \"IN\", \"IN\", \"IN\", \"IN\", \"IN\", \"IN\", \"IN\", \"IN\", \"IN\", \"IN\", \"IN\", \"IN\", \"IN\", \"IN\", \"IN\", \"IN\", \"KS\", \"KS\", \"KS\", \"KS\", \"KS\", \"KS\", \"KS\", \"KS\", \"KS\", \"KY\", \"KY\", \"KY\", \"KY\", \"KY\", \"KY\", \"KY\", \"KY\", \"LA\", \"LA\", \"LA\", \"LA\", \"LA\", \"LA\", \"LA\", \"MD\", \"MD\", \"MD\", \"MD\", \"MD\", \"MD\", \"MD\", \"MD\", \"MD\", \"MD\", \"MD\", \"MD\", \"MD\", \"MD\", \"MD\", \"MD\", \"MD\", \"MD\", \"MD\", \"MD\", \"MD\", \"MI\", \"MI\", \"MI\", \"MI\", \"MI\", \"MI\", \"MI\", \"MI\", \"MI\", \"MI\", \"MI\", \"MI\", \"MI\", \"MI\", \"MI\", \"MI\", \"MI\", \"MI\", \"MI\", \"MI\", \"MI\", \"MI\", \"MI\", \"MI\", \"MI\", \"MI\", \"MI\", \"MI\", \"MI\", \"MI\", \"MI\", \"MI\", \"MI\", \"MI\", \"MI\", \"MI\", \"MI\", \"MI\", \"MI\", \"MI\", \"MI\", \"MI\", \"MI\", \"MI\", \"MI\", \"MI\", \"MI\", \"MI\", \"MI\", \"MI\", \"MI\", \"MI\", \"MI\", \"MI\", \"MI\", \"MI\", \"MN\", \"MN\", \"MN\", \"MN\", \"MN\", \"MN\", \"MN\", \"MN\", \"MN\", \"MN\", \"MN\", \"MO\", \"MO\", \"MO\", \"MO\", \"MO\", \"MO\", \"MO\", \"MO\", \"MO\", \"MO\", \"MO\", \"MO\", \"MO\", \"MO\", \"MO\", \"MS\", \"MS\", \"MS\", \"MS\", \"MT\", \"NC\", \"NC\", \"NC\", \"NC\", \"NC\", \"NC\", \"NC\", \"NC\", \"NC\", \"NC\", \"NC\", \"NC\", \"NC\", \"NC\", \"NC\", \"NC\", \"NC\", \"NC\", \"NC\", \"NC\", \"NC\", \"NC\", \"NC\", \"NC\", \"NC\", \"NC\", \"NC\", \"NC\", \"NC\", \"NC\", \"NC\", \"NC\", \"NC\", \"NC\", \"ND\", \"NE\", \"NE\", \"NE\", \"NE\", \"NJ\", \"NM\", \"NM\", \"NM\", \"NM\", \"NM\", \"NM\", \"NV\", \"NV\", \"NV\", \"NV\", \"NV\", \"NY\", \"NY\", \"NY\", \"NY\", \"NY\", \"NY\", \"NY\", \"NY\", \"NY\", \"NY\", \"NY\", \"NY\", \"NY\", \"NY\", \"NY\", \"NY\", \"NY\", \"NY\", \"NY\", \"NY\", \"NY\", \"NY\", \"NY\", \"NY\", \"NY\", \"NY\", \"NY\", \"NY\", \"NY\", \"NY\", \"NY\", \"NY\", \"NY\", \"NY\", \"NY\", \"NY\", \"NY\", \"NY\", \"NY\", \"NY\", \"NY\", \"NY\", \"NY\", \"NY\", \"NY\", \"NY\", \"NY\", \"NY\", \"NY\", \"NY\", \"NY\", \"NY\", \"NY\", \"NY\", \"NY\", \"NY\", \"NY\", \"NY\", \"NY\", \"NY\", \"NY\", \"NY\", \"NY\", \"NY\", \"NY\", \"NY\", \"NY\", \"NY\", \"NY\", \"NY\", \"NY\", \"NY\", \"NY\", \"NY\", \"NY\", \"NY\", \"NY\", \"NY\", \"NY\", \"NY\", \"NY\", \"NY\", \"NY\", \"NY\", \"NY\", \"NY\", \"NY\", \"NY\", \"NY\", \"NY\", \"NY\", \"NY\", \"NY\", \"NY\", \"NY\", \"NY\", \"NY\", \"NY\", \"NY\", \"NY\", \"NY\", \"NY\", \"NY\", \"NY\", \"NY\", \"NY\", \"NY\", \"NY\", \"NY\", \"NY\", \"NY\", \"NY\", \"NY\", \"NY\", \"NY\", \"NY\", \"NY\", \"NY\", \"NY\", \"NY\", \"NY\", \"NY\", \"NY\", \"NY\", \"NY\", \"NY\", \"NY\", \"NY\", \"NY\", \"NY\", \"NY\", \"NY\", \"NY\", \"NY\", \"NY\", \"NY\", \"NY\", \"NY\", \"NY\", \"NY\", \"NY\", \"NY\", \"NY\", \"NY\", \"NY\", \"NY\", \"NY\", \"NY\", \"NY\", \"NY\", \"NY\", \"NY\", \"NY\", \"NY\", \"OH\", \"OH\", \"OH\", \"OH\", \"OH\", \"OH\", \"OH\", \"OH\", \"OH\", \"OH\", \"OH\", \"OH\", \"OH\", \"OH\", \"OH\", \"OH\", \"OH\", \"OH\", \"OH\", \"OH\", \"OH\", \"OH\", \"OH\", \"OH\", \"OH\", \"OH\", \"OH\", \"OH\", \"OH\", \"OH\", \"OH\", \"OH\", \"OH\", \"OH\", \"OH\", \"OH\", \"OH\", \"OH\", \"OH\", \"OH\", \"OH\", \"OH\", \"OH\", \"OH\", \"OH\", \"OH\", \"OH\", \"OK\", \"OK\", \"OK\", \"OK\", \"OK\", \"OR\", \"OR\", \"OR\", \"OR\", \"OR\", \"OR\", \"OR\", \"OR\", \"OR\", \"OR\", \"OR\", \"OR\", \"OR\", \"OR\", \"OR\", \"OR\", \"PA\", \"PA\", \"PA\", \"PA\", \"PA\", \"PA\", \"PA\", \"PA\", \"PA\", \"PA\", \"PA\", \"PA\", \"PA\", \"PA\", \"PA\", \"PA\", \"PA\", \"PA\", \"PA\", \"PA\", \"PA\", \"PA\", \"PA\", \"PA\", \"PA\", \"PA\", \"PA\", \"PA\", \"PA\", \"PA\", \"PA\", \"PA\", \"PA\", \"PA\", \"PA\", \"PA\", \"PA\", \"PA\", \"PA\", \"PA\", \"PA\", \"PA\", \"PA\", \"PA\", \"PA\", \"PA\", \"PA\", \"PA\", \"PA\", \"PA\", \"PA\", \"PA\", \"PA\", \"PA\", \"PA\", \"PA\", \"PA\", \"PA\", \"PA\", \"PA\", \"PA\", \"PA\", \"PA\", \"PA\", \"PA\", \"PA\", \"PA\", \"PA\", \"PA\", \"PA\", \"PA\", \"PA\", \"PA\", \"PA\", \"PA\", \"PA\", \"PA\", \"PA\", \"PA\", \"PA\", \"PA\", \"PA\", \"PA\", \"PA\", \"PA\", \"PA\", \"PA\", \"PA\", \"PA\", \"PA\", \"PA\", \"PA\", \"PA\", \"PA\", \"PA\", \"PA\", \"SC\", \"SC\", \"SC\", \"SC\", \"SC\", \"SC\", \"SC\", \"SC\", \"SC\", \"SC\", \"SC\", \"SC\", \"SC\", \"SC\", \"SC\", \"SC\", \"SC\", \"SC\", \"SD\", \"SD\", \"TN\", \"TN\", \"TN\", \"TN\", \"TN\", \"TN\", \"TN\", \"TN\", \"TN\", \"TN\", \"TN\", \"TN\", \"TN\", \"TN\", \"TN\", \"TN\", \"TX\", \"TX\", \"TX\", \"TX\", \"TX\", \"TX\", \"TX\", \"TX\", \"TX\", \"TX\", \"TX\", \"TX\", \"TX\", \"TX\", \"TX\", \"TX\", \"TX\", \"TX\", \"TX\", \"TX\", \"TX\", \"TX\", \"TX\", \"TX\", \"TX\", \"TX\", \"TX\", \"TX\", \"TX\", \"TX\", \"TX\", \"TX\", \"TX\", \"TX\", \"TX\", \"TX\", \"TX\", \"TX\", \"TX\", \"TX\", \"TX\", \"TX\", \"TX\", \"TX\", \"TX\", \"TX\", \"TX\", \"TX\", \"TX\", \"TX\", \"UT\", \"UT\", \"UT\", \"UT\", \"UT\", \"UT\", \"UT\", \"UT\", \"UT\", \"UT\", \"UT\", \"VA\", \"VA\", \"VA\", \"VA\", \"VA\", \"VA\", \"VA\", \"VA\", \"VA\", \"VA\", \"VA\", \"VA\", \"VA\", \"VA\", \"VA\", \"VA\", \"VA\", \"VA\", \"VA\", \"VA\", \"VA\", \"VA\", \"VA\", \"VA\", \"VA\", \"VA\", \"VA\", \"VA\", \"VA\", \"VA\", \"VA\", \"WA\", \"WA\", \"WA\", \"WA\", \"WA\", \"WA\", \"WA\", \"WA\", \"WA\", \"WA\", \"WA\", \"WA\", \"WA\", \"WA\", \"WA\", \"WA\", \"WA\", \"WA\", \"WA\", \"WA\", \"WA\", \"WA\", \"WI\", \"WI\", \"WI\", \"WI\", \"WI\", \"WI\", \"WI\", \"WI\", \"WI\", \"WI\", \"WI\", \"WI\", \"WI\", \"WI\", \"WI\", \"WI\", \"WI\", \"WI\", \"WI\", \"WI\", \"WI\", \"WI\", \"WI\", \"WV\", \"WV\", \"WV\", \"WV\", \"WV\"], \"text\": \"State\", \"type\": \"choropleth\", \"z\": [0.14, 0.14, 0.14, 0.04, 0.04, 0.02, 0.07, 0.54, 0.03, 0.03, 0.24, 0.03, 0.07, 0.07, 0.07, 0.13, 0.03, 0.12, 0.12, 0.01, 0.01, 0.22, 0.51, 0.09, 0.04, 0.01, 1.07, 0.01, 0.01, 0.26, 0.48, 0.32, 0.19, 0.01, 0.1, 0.37, 0.18, 0.05, 0.01, 0.02, 0.01, 0.0, 0.01, 0.01, 0.06, 0.02, 0.04, 0.01, 0.01, 0.0, 0.04, 0.01, 0.02, 0.0, 0.01, 0.01, 0.01, 0.0, 0.01, 0.05, 0.04, 0.0, 0.02, 0.01, 0.02, 0.07, 0.01, 0.04, 0.01, 0.01, 0.0, 0.01, 0.01, 0.01, 0.0, 0.0, 0.01, 0.0, 0.06, 0.01, 0.0, 0.0, 0.01, 0.08, 0.0, 0.02, 0.0, 0.03, 0.0, 0.0, 0.01, 0.1, 0.01, 0.0, 0.12, 0.46, 0.02, 0.0, 0.01, 0.0, 0.01, 0.01, 0.0, 0.02, 0.05, 0.0, 0.03, 0.02, 0.03, 0.12, 0.03, 0.0, 0.02, 0.0, 0.03, 0.02, 0.01, 0.01, 0.04, 0.01, 0.05, 0.0, 0.02, 0.0, 0.03, 0.02, 0.01, 0.02, 0.01, 0.02, 0.01, 0.01, 0.15, 0.0, 0.02, 0.04, 0.05, 0.15, 0.01, 0.28, 0.0, 0.01, 0.03, 0.01, 0.0, 0.0, 0.01, 0.02, 0.02, 0.01, 0.05, 0.0, 0.05, 0.02, 0.01, 0.0, 0.01, 0.01, 0.1, 0.01, 0.01, 0.01, 0.05, 0.01, 0.0, 0.0, 0.01, 0.01, 0.03, 0.01, 0.03, 0.01, 0.01, 0.02, 0.04, 0.92, 0.05, 0.04, 0.04, 0.27, 0.22, 0.05, 0.07, 0.16, 0.05, 0.02, 0.26, 0.04, 0.02, 0.07, 0.02, 0.07, 0.07, 0.02, 0.06, 0.63, 0.11, 0.32, 0.32, 0.42, 0.21, 0.01, 0.04, 0.05, 0.01, 0.03, 0.01, 0.17, 0.02, 0.06, 0.02, 0.02, 0.04, 0.07, 0.03, 0.01, 0.01, 0.04, 0.0, 0.1, 0.08, 0.01, 0.05, 0.01, 0.0, 0.01, 0.04, 0.08, 0.22, 0.01, 0.01, 0.01, 0.01, 0.03, 0.0, 0.01, 0.02, 0.0, 0.01, 0.16, 0.1, 0.1, 0.01, 0.08, 0.11, 0.01, 0.05, 0.19, 0.03, 0.01, 0.01, 0.02, 0.02, 0.02, 0.03, 0.06, 0.07, 0.01, 0.0, 0.02, 0.03, 0.03, 0.01, 0.0, 0.02, 0.01, 0.01, 0.0, 0.02, 0.15, 0.03, 0.01, 0.0, 0.01, 0.0, 0.05, 0.05, 0.02, 0.63, 0.03, 0.01, 0.04, 0.05, 0.04, 0.02, 0.13, 0.02, 0.05, 0.02, 0.03, 0.04, 0.03, 0.02, 0.01, 0.04, 0.02, 0.1, 0.01, 0.05, 0.03, 0.22, 0.03, 0.03, 0.01, 0.01, 0.12, 0.03, 0.06, 0.01, 0.02, 0.04, 0.01, 0.14, 0.03, 0.54, 0.1, 0.1, 0.03, 0.03, 0.03, 0.51, 0.03, 0.03, 0.26, 0.24, 0.06, 0.06, 0.05, 0.12, 0.02, 0.03, 0.02, 0.01, 0.02, 0.02, 1.03, 0.04, 0.04, 0.05, 0.05, 0.02, 0.04, 0.01, 0.02, 0.03, 0.02, 0.02, 0.01, 0.01, 0.1, 0.02, 0.02, 0.09, 0.01, 0.02, 0.02, 0.05, 0.02, 0.04, 0.01, 0.05, 0.04, 0.11, 0.03, 0.01, 0.07, 0.05, 0.09, 0.07, 0.03, 0.02, 0.04, 0.02, 0.03, 0.02, 0.02, 0.01, 0.01, 0.01, 0.12, 0.01, 0.02, 0.02, 0.01, 0.02, 0.03, 0.05, 0.12, 0.14, 0.26, 0.02, 0.02, 0.18, 0.15, 0.03, 0.17, 0.03, 0.06, 0.03, 0.06, 0.89, 0.02, 0.02, 0.02, 0.03, 0.02, 0.14, 0.08, 0.18, 0.02, 0.02, 0.51, 0.02, 0.07, 0.03, 0.03, 0.07, 0.31, 0.03, 0.03, 0.14, 0.58, 0.16, 0.11, 0.05, 0.27, 1.04, 0.02, 0.05, 0.05, 0.02, 0.06, 0.13, 0.02, 0.13, 0.13, 0.04, 0.03, 0.12, 0.83, 0.12, 0.05, 0.02, 0.12, 0.15, 0.03, 0.03, 0.02, 0.07, 0.05, 0.07, 0.02, 0.03, 0.02, 0.03, 0.03, 0.07, 0.07, 0.01, 0.32, 0.01, 0.05, 0.09, 0.03, 0.08, 0.11, 0.02, 0.19, 0.32, 0.01, 0.02, 0.02, 0.01, 0.02, 0.22, 0.19, 0.02, 0.03, 0.05, 0.1, 0.05, 0.03, 0.07, 0.05, 0.09, 0.01, 0.01, 0.03, 0.04, 0.24, 0.03, 0.06, 0.01, 0.02, 0.01, 0.03, 0.07, 0.05, 0.01, 0.03, 0.11, 0.02, 0.01, 0.01, 0.01, 0.06, 0.02, 0.07, 0.02, 0.13, 0.08, 0.01, 0.19, 0.01, 0.04, 0.02, 0.05, 0.2, 0.4, 0.07, 0.05, 0.04, 0.82, 0.04, 0.02, 0.07, 0.03, 0.12, 0.13, 0.02, 0.02, 0.07, 0.02, 0.08, 0.03, 0.08, 0.53, 0.13, 0.03, 0.2, 0.1, 0.03, 0.03, 0.07, 0.19, 0.01, 0.07, 0.01, 0.01, 0.11, 0.83, 0.05, 0.06, 0.01, 0.06, 0.21, 0.01, 0.01, 0.23, 0.01, 0.03, 0.01, 0.05, 0.01, 0.01, 0.03, 0.02, 0.03, 0.03, 0.03, 0.01, 0.01, 0.02, 0.35, 0.02, 0.04, 0.05, 0.06, 0.05, 0.4, 0.05, 0.58, 0.53, 0.16, 0.04, 1.73, 0.05, 0.1, 0.1, 0.05, 0.19, 1.35, 1.21, 0.21, 2.25, 0.14, 0.17, 0.01, 0.03, 0.01, 0.28, 0.01, 0.07, 0.02, 0.02, 0.05, 0.01, 0.03, 0.02, 0.02, 0.01, 0.04, 0.44, 2.29, 0.88, 0.01, 0.09, 0.01, 0.09, 0.02, 0.01, 0.01, 0.01, 0.04, 0.04, 0.06, 0.01, 0.01, 0.03, 0.01, 0.01, 0.04, 0.01, 0.01, 0.02, 0.04, 0.02, 0.03, 0.63, 0.07, 0.01, 0.02, 0.04, 0.01, 0.01, 0.02, 0.19, 0.04, 0.03, 0.06, 0.02, 0.02, 0.01, 0.03, 0.01, 0.02, 0.01, 0.19, 0.16, 0.05, 0.01, 0.01, 0.02, 0.04, 0.01, 0.03, 0.01, 0.07, 0.01, 0.04, 0.01, 0.05, 0.15, 0.02, 0.02, 0.11, 0.05, 0.01, 0.01, 0.03, 0.01, 0.01, 0.04, 0.02, 0.04, 0.02, 3.25, 0.01, 0.02, 0.02, 0.04, 0.01, 0.01, 0.01, 0.03, 0.01, 0.01, 0.06, 0.02, 0.01, 0.03, 0.23, 0.01, 0.03, 0.06, 0.01, 0.05, 0.02, 0.09, 0.01, 0.01, 0.08, 0.1, 0.01, 0.04, 0.03, 0.01, 0.04, 0.04, 0.13, 0.01, 0.13, 0.03, 0.01, 0.01, 0.01, 0.05, 0.02, 0.01, 0.02, 0.02, 0.26, 0.01, 0.13, 0.18, 0.01, 0.09, 0.03, 0.01, 0.02, 0.02, 0.01, 0.09, 0.04, 0.05, 0.01, 0.02, 0.01, 0.04, 0.14, 0.09, 0.03, 0.02, 0.01, 0.02, 0.03, 0.01, 0.04, 0.02, 0.02, 0.28, 0.03, 0.52, 0.47, 0.09, 0.11, 0.01, 0.03, 0.03, 0.01, 0.02, 0.01, 0.01, 0.02, 0.02, 0.01, 0.01, 0.01, 0.02, 0.03, 0.01, 0.01, 0.01, 0.04, 0.01, 0.01, 0.03, 0.06, 0.02, 0.18, 0.03, 0.03, 0.02, 0.02, 0.06, 0.01, 0.23, 0.05, 0.08, 0.28, 0.05, 0.18, 0.07, 0.1, 0.07, 0.02, 0.17, 0.47, 0.02, 0.02, 0.1, 0.17, 0.52, 0.02, 0.02, 0.1, 0.99, 0.07, 0.05, 0.01, 0.01, 0.03, 0.09, 0.03, 0.04, 0.09, 0.04, 0.02, 0.11, 0.02, 0.02, 0.03, 0.06, 0.02, 0.06, 0.04, 0.02, 0.15, 0.01, 0.02, 0.02, 0.01, 0.09, 0.02, 0.06, 0.02, 0.16, 0.02, 0.01, 0.01, 0.12, 0.16, 0.03, 0.01, 0.08, 0.09, 0.02, 0.11, 0.02, 0.01, 0.01, 0.12, 0.22, 0.1, 0.02, 0.01, 0.02, 0.05, 0.02, 0.05, 0.17, 0.02, 0.05, 0.04, 0.04, 0.06, 0.02, 0.01, 0.01, 0.04, 0.02, 0.06, 0.08, 0.05, 0.02, 0.09, 0.01, 0.03, 0.05, 0.02, 1.09, 0.19, 0.58, 0.02, 0.01, 0.01, 0.16, 0.05, 0.09, 0.02, 0.09, 0.04, 0.02, 0.05, 0.02, 0.05, 0.02, 0.02, 0.02, 0.05, 0.02, 0.16, 0.01, 0.02, 0.02, 0.02, 0.35, 0.02, 0.04, 0.31, 0.1, 0.04, 0.02, 0.04, 0.08, 0.02, 0.37, 0.1, 0.02, 0.02, 0.04, 0.04, 0.12, 0.23, 0.03, 0.08, 0.06, 0.06, 0.12, 0.05, 0.03, 0.08, 0.03, 0.02, 0.09, 0.03, 0.02, 0.05, 0.23, 0.02, 0.0, 0.01, 0.01, 0.0, 0.01, 0.24, 0.0, 0.04, 0.03, 0.01, 0.01, 0.03, 0.01, 0.18, 0.03, 0.02, 0.03, 0.01, 0.04, 0.01, 0.16, 0.01, 0.0, 0.08, 0.01, 0.01, 0.0, 0.05, 0.01, 0.04, 0.03, 0.01, 0.0, 0.0, 0.01, 0.01, 0.09, 0.06, 0.03, 0.01, 0.17, 0.01, 0.03, 0.01, 0.04, 0.01, 0.0, 0.0, 0.05, 0.01, 0.03, 0.1, 0.03, 0.07, 0.7, 0.07, 1.57, 0.03, 0.1, 0.37, 0.47, 0.26, 0.23, 0.05, 0.42, 0.01, 0.04, 0.05, 0.02, 0.02, 0.01, 0.01, 0.07, 0.01, 0.01, 0.02, 0.02, 0.2, 0.07, 0.1, 0.02, 0.06, 0.18, 0.02, 0.07, 0.1, 0.02, 0.37, 0.01, 0.17, 0.12, 0.01, 0.01, 0.04, 0.04, 0.01, 0.24, 0.03, 0.01, 0.01, 0.03, 0.08, 0.04, 0.04, 0.07, 0.1, 0.04, 1.88, 0.11, 0.13, 0.53, 0.11, 0.04, 0.03, 0.03, 0.09, 0.61, 0.02, 0.28, 0.02, 0.07, 0.05, 0.05, 0.02, 0.07, 0.54, 0.07, 0.07, 0.02, 0.14, 0.02, 0.02, 0.03, 0.05, 0.03, 0.12, 0.02, 0.05, 0.76, 0.22, 0.33, 0.11]}],\n",
              "                        {\"geo\": {\"scope\": \"usa\"}, \"template\": {\"data\": {\"bar\": [{\"error_x\": {\"color\": \"#2a3f5f\"}, \"error_y\": {\"color\": \"#2a3f5f\"}, \"marker\": {\"line\": {\"color\": \"#E5ECF6\", \"width\": 0.5}}, \"type\": \"bar\"}], \"barpolar\": [{\"marker\": {\"line\": {\"color\": \"#E5ECF6\", \"width\": 0.5}}, \"type\": \"barpolar\"}], \"carpet\": [{\"aaxis\": {\"endlinecolor\": \"#2a3f5f\", \"gridcolor\": \"white\", \"linecolor\": \"white\", \"minorgridcolor\": \"white\", \"startlinecolor\": \"#2a3f5f\"}, \"baxis\": {\"endlinecolor\": \"#2a3f5f\", \"gridcolor\": \"white\", \"linecolor\": \"white\", \"minorgridcolor\": \"white\", \"startlinecolor\": \"#2a3f5f\"}, \"type\": \"carpet\"}], \"choropleth\": [{\"colorbar\": {\"outlinewidth\": 0, \"ticks\": \"\"}, \"type\": \"choropleth\"}], \"contour\": [{\"colorbar\": {\"outlinewidth\": 0, \"ticks\": \"\"}, \"colorscale\": [[0.0, \"#0d0887\"], [0.1111111111111111, \"#46039f\"], [0.2222222222222222, \"#7201a8\"], [0.3333333333333333, \"#9c179e\"], [0.4444444444444444, \"#bd3786\"], [0.5555555555555556, \"#d8576b\"], [0.6666666666666666, \"#ed7953\"], [0.7777777777777778, \"#fb9f3a\"], [0.8888888888888888, \"#fdca26\"], [1.0, \"#f0f921\"]], \"type\": \"contour\"}], \"contourcarpet\": [{\"colorbar\": {\"outlinewidth\": 0, \"ticks\": \"\"}, \"type\": \"contourcarpet\"}], \"heatmap\": [{\"colorbar\": {\"outlinewidth\": 0, \"ticks\": \"\"}, \"colorscale\": [[0.0, \"#0d0887\"], [0.1111111111111111, \"#46039f\"], [0.2222222222222222, \"#7201a8\"], [0.3333333333333333, \"#9c179e\"], [0.4444444444444444, \"#bd3786\"], [0.5555555555555556, \"#d8576b\"], [0.6666666666666666, \"#ed7953\"], [0.7777777777777778, \"#fb9f3a\"], [0.8888888888888888, \"#fdca26\"], [1.0, \"#f0f921\"]], \"type\": \"heatmap\"}], \"heatmapgl\": [{\"colorbar\": {\"outlinewidth\": 0, \"ticks\": \"\"}, \"colorscale\": [[0.0, \"#0d0887\"], [0.1111111111111111, \"#46039f\"], [0.2222222222222222, \"#7201a8\"], [0.3333333333333333, \"#9c179e\"], [0.4444444444444444, \"#bd3786\"], [0.5555555555555556, \"#d8576b\"], [0.6666666666666666, \"#ed7953\"], [0.7777777777777778, \"#fb9f3a\"], [0.8888888888888888, \"#fdca26\"], [1.0, \"#f0f921\"]], \"type\": \"heatmapgl\"}], \"histogram\": [{\"marker\": {\"colorbar\": {\"outlinewidth\": 0, \"ticks\": \"\"}}, \"type\": \"histogram\"}], \"histogram2d\": [{\"colorbar\": {\"outlinewidth\": 0, \"ticks\": \"\"}, \"colorscale\": [[0.0, \"#0d0887\"], [0.1111111111111111, \"#46039f\"], [0.2222222222222222, \"#7201a8\"], [0.3333333333333333, \"#9c179e\"], [0.4444444444444444, \"#bd3786\"], [0.5555555555555556, \"#d8576b\"], [0.6666666666666666, \"#ed7953\"], [0.7777777777777778, \"#fb9f3a\"], [0.8888888888888888, \"#fdca26\"], [1.0, \"#f0f921\"]], \"type\": \"histogram2d\"}], \"histogram2dcontour\": [{\"colorbar\": {\"outlinewidth\": 0, \"ticks\": \"\"}, \"colorscale\": [[0.0, \"#0d0887\"], [0.1111111111111111, \"#46039f\"], [0.2222222222222222, \"#7201a8\"], [0.3333333333333333, \"#9c179e\"], [0.4444444444444444, \"#bd3786\"], [0.5555555555555556, \"#d8576b\"], [0.6666666666666666, \"#ed7953\"], [0.7777777777777778, \"#fb9f3a\"], [0.8888888888888888, \"#fdca26\"], [1.0, \"#f0f921\"]], \"type\": \"histogram2dcontour\"}], \"mesh3d\": [{\"colorbar\": {\"outlinewidth\": 0, \"ticks\": \"\"}, \"type\": \"mesh3d\"}], \"parcoords\": [{\"line\": {\"colorbar\": {\"outlinewidth\": 0, \"ticks\": \"\"}}, \"type\": \"parcoords\"}], \"scatter\": [{\"marker\": {\"colorbar\": {\"outlinewidth\": 0, \"ticks\": \"\"}}, \"type\": \"scatter\"}], \"scatter3d\": [{\"line\": {\"colorbar\": {\"outlinewidth\": 0, \"ticks\": \"\"}}, \"marker\": {\"colorbar\": {\"outlinewidth\": 0, \"ticks\": \"\"}}, \"type\": \"scatter3d\"}], \"scattercarpet\": [{\"marker\": {\"colorbar\": {\"outlinewidth\": 0, \"ticks\": \"\"}}, \"type\": \"scattercarpet\"}], \"scattergeo\": [{\"marker\": {\"colorbar\": {\"outlinewidth\": 0, \"ticks\": \"\"}}, \"type\": \"scattergeo\"}], \"scattergl\": [{\"marker\": {\"colorbar\": {\"outlinewidth\": 0, \"ticks\": \"\"}}, \"type\": \"scattergl\"}], \"scattermapbox\": [{\"marker\": {\"colorbar\": {\"outlinewidth\": 0, \"ticks\": \"\"}}, \"type\": \"scattermapbox\"}], \"scatterpolar\": [{\"marker\": {\"colorbar\": {\"outlinewidth\": 0, \"ticks\": \"\"}}, \"type\": \"scatterpolar\"}], \"scatterpolargl\": [{\"marker\": {\"colorbar\": {\"outlinewidth\": 0, \"ticks\": \"\"}}, \"type\": \"scatterpolargl\"}], \"scatterternary\": [{\"marker\": {\"colorbar\": {\"outlinewidth\": 0, \"ticks\": \"\"}}, \"type\": \"scatterternary\"}], \"surface\": [{\"colorbar\": {\"outlinewidth\": 0, \"ticks\": \"\"}, \"colorscale\": [[0.0, \"#0d0887\"], [0.1111111111111111, \"#46039f\"], [0.2222222222222222, \"#7201a8\"], [0.3333333333333333, \"#9c179e\"], [0.4444444444444444, \"#bd3786\"], [0.5555555555555556, \"#d8576b\"], [0.6666666666666666, \"#ed7953\"], [0.7777777777777778, \"#fb9f3a\"], [0.8888888888888888, \"#fdca26\"], [1.0, \"#f0f921\"]], \"type\": \"surface\"}], \"table\": [{\"cells\": {\"fill\": {\"color\": \"#EBF0F8\"}, \"line\": {\"color\": \"white\"}}, \"header\": {\"fill\": {\"color\": \"#C8D4E3\"}, \"line\": {\"color\": \"white\"}}, \"type\": \"table\"}]}, \"layout\": {\"annotationdefaults\": {\"arrowcolor\": \"#2a3f5f\", \"arrowhead\": 0, \"arrowwidth\": 1}, \"colorscale\": {\"diverging\": [[0, \"#8e0152\"], [0.1, \"#c51b7d\"], [0.2, \"#de77ae\"], [0.3, \"#f1b6da\"], [0.4, \"#fde0ef\"], [0.5, \"#f7f7f7\"], [0.6, \"#e6f5d0\"], [0.7, \"#b8e186\"], [0.8, \"#7fbc41\"], [0.9, \"#4d9221\"], [1, \"#276419\"]], \"sequential\": [[0.0, \"#0d0887\"], [0.1111111111111111, \"#46039f\"], [0.2222222222222222, \"#7201a8\"], [0.3333333333333333, \"#9c179e\"], [0.4444444444444444, \"#bd3786\"], [0.5555555555555556, \"#d8576b\"], [0.6666666666666666, \"#ed7953\"], [0.7777777777777778, \"#fb9f3a\"], [0.8888888888888888, \"#fdca26\"], [1.0, \"#f0f921\"]], \"sequentialminus\": [[0.0, \"#0d0887\"], [0.1111111111111111, \"#46039f\"], [0.2222222222222222, \"#7201a8\"], [0.3333333333333333, \"#9c179e\"], [0.4444444444444444, \"#bd3786\"], [0.5555555555555556, \"#d8576b\"], [0.6666666666666666, \"#ed7953\"], [0.7777777777777778, \"#fb9f3a\"], [0.8888888888888888, \"#fdca26\"], [1.0, \"#f0f921\"]]}, \"colorway\": [\"#636efa\", \"#EF553B\", \"#00cc96\", \"#ab63fa\", \"#FFA15A\", \"#19d3f3\", \"#FF6692\", \"#B6E880\", \"#FF97FF\", \"#FECB52\"], \"font\": {\"color\": \"#2a3f5f\"}, \"geo\": {\"bgcolor\": \"white\", \"lakecolor\": \"white\", \"landcolor\": \"#E5ECF6\", \"showlakes\": true, \"showland\": true, \"subunitcolor\": \"white\"}, \"hoverlabel\": {\"align\": \"left\"}, \"hovermode\": \"closest\", \"mapbox\": {\"style\": \"light\"}, \"paper_bgcolor\": \"white\", \"plot_bgcolor\": \"#E5ECF6\", \"polar\": {\"angularaxis\": {\"gridcolor\": \"white\", \"linecolor\": \"white\", \"ticks\": \"\"}, \"bgcolor\": \"#E5ECF6\", \"radialaxis\": {\"gridcolor\": \"white\", \"linecolor\": \"white\", \"ticks\": \"\"}}, \"scene\": {\"xaxis\": {\"backgroundcolor\": \"#E5ECF6\", \"gridcolor\": \"white\", \"gridwidth\": 2, \"linecolor\": \"white\", \"showbackground\": true, \"ticks\": \"\", \"zerolinecolor\": \"white\"}, \"yaxis\": {\"backgroundcolor\": \"#E5ECF6\", \"gridcolor\": \"white\", \"gridwidth\": 2, \"linecolor\": \"white\", \"showbackground\": true, \"ticks\": \"\", \"zerolinecolor\": \"white\"}, \"zaxis\": {\"backgroundcolor\": \"#E5ECF6\", \"gridcolor\": \"white\", \"gridwidth\": 2, \"linecolor\": \"white\", \"showbackground\": true, \"ticks\": \"\", \"zerolinecolor\": \"white\"}}, \"shapedefaults\": {\"line\": {\"color\": \"#2a3f5f\"}}, \"ternary\": {\"aaxis\": {\"gridcolor\": \"white\", \"linecolor\": \"white\", \"ticks\": \"\"}, \"baxis\": {\"gridcolor\": \"white\", \"linecolor\": \"white\", \"ticks\": \"\"}, \"bgcolor\": \"#E5ECF6\", \"caxis\": {\"gridcolor\": \"white\", \"linecolor\": \"white\", \"ticks\": \"\"}}, \"title\": {\"x\": 0.05}, \"xaxis\": {\"automargin\": true, \"gridcolor\": \"white\", \"linecolor\": \"white\", \"ticks\": \"\", \"zerolinecolor\": \"white\", \"zerolinewidth\": 2}, \"yaxis\": {\"automargin\": true, \"gridcolor\": \"white\", \"linecolor\": \"white\", \"ticks\": \"\", \"zerolinecolor\": \"white\", \"zerolinewidth\": 2}}}},\n",
              "                        {\"responsive\": true}\n",
              "                    ).then(function(){\n",
              "                            \n",
              "var gd = document.getElementById('91488cf4-2a1c-4e5c-90f2-bb4b80566331');\n",
              "var x = new MutationObserver(function (mutations, observer) {{\n",
              "        var display = window.getComputedStyle(gd).display;\n",
              "        if (!display || display === 'none') {{\n",
              "            console.log([gd, 'removed!']);\n",
              "            Plotly.purge(gd);\n",
              "            observer.disconnect();\n",
              "        }}\n",
              "}});\n",
              "\n",
              "// Listen for the removal of the full notebook cells\n",
              "var notebookContainer = gd.closest('#notebook-container');\n",
              "if (notebookContainer) {{\n",
              "    x.observe(notebookContainer, {childList: true});\n",
              "}}\n",
              "\n",
              "// Listen for the clearing of the current output cell\n",
              "var outputEl = gd.closest('.output');\n",
              "if (outputEl) {{\n",
              "    x.observe(outputEl, {childList: true});\n",
              "}}\n",
              "\n",
              "                        })\n",
              "                };\n",
              "                \n",
              "            </script>\n",
              "        </div>\n",
              "</body>\n",
              "</html>"
            ]
          },
          "metadata": {
            "tags": []
          }
        }
      ]
    },
    {
      "cell_type": "code",
      "metadata": {
        "id": "dJSYcQnz2lgR",
        "colab_type": "code",
        "outputId": "bac52ea6-945a-4737-cb2c-14c522aab486",
        "colab": {
          "base_uri": "https://localhost:8080/",
          "height": 350
        }
      },
      "source": [
        "df.head()"
      ],
      "execution_count": 0,
      "outputs": [
        {
          "output_type": "execute_result",
          "data": {
            "text/html": [
              "<div>\n",
              "<style scoped>\n",
              "    .dataframe tbody tr th:only-of-type {\n",
              "        vertical-align: middle;\n",
              "    }\n",
              "\n",
              "    .dataframe tbody tr th {\n",
              "        vertical-align: top;\n",
              "    }\n",
              "\n",
              "    .dataframe thead th {\n",
              "        text-align: right;\n",
              "    }\n",
              "</style>\n",
              "<table border=\"1\" class=\"dataframe\">\n",
              "  <thead>\n",
              "    <tr style=\"text-align: right;\">\n",
              "      <th></th>\n",
              "      <th>store_name</th>\n",
              "      <th>city</th>\n",
              "      <th>state</th>\n",
              "      <th>zip</th>\n",
              "      <th>keys</th>\n",
              "      <th>latitude</th>\n",
              "      <th>longitude</th>\n",
              "      <th>menu_description</th>\n",
              "      <th>menu_name</th>\n",
              "      <th>has_meat</th>\n",
              "      <th>has_veg</th>\n",
              "      <th>price</th>\n",
              "      <th>state_population</th>\n",
              "      <th>state_land_area</th>\n",
              "      <th>state_population_density</th>\n",
              "      <th>state_median_income</th>\n",
              "      <th>min_distance</th>\n",
              "    </tr>\n",
              "  </thead>\n",
              "  <tbody>\n",
              "    <tr>\n",
              "      <th>0</th>\n",
              "      <td>Shotgun Dans Pizza</td>\n",
              "      <td>Sherwood</td>\n",
              "      <td>AR</td>\n",
              "      <td>72120</td>\n",
              "      <td>us/ar/sherwood/4203ekiehlave/-1051391616</td>\n",
              "      <td>34.832300</td>\n",
              "      <td>-92.183800</td>\n",
              "      <td>NaN</td>\n",
              "      <td>Cheese Pizza</td>\n",
              "      <td>0</td>\n",
              "      <td>0</td>\n",
              "      <td>7.98</td>\n",
              "      <td>2978204</td>\n",
              "      <td>52068</td>\n",
              "      <td>57.2</td>\n",
              "      <td>43813</td>\n",
              "      <td>0.0478</td>\n",
              "    </tr>\n",
              "    <tr>\n",
              "      <th>1</th>\n",
              "      <td>Sauce Pizza Wine</td>\n",
              "      <td>Phoenix</td>\n",
              "      <td>AZ</td>\n",
              "      <td>85012</td>\n",
              "      <td>us/az/phoenix/25ecamelbackrd/-727422936</td>\n",
              "      <td>33.509266</td>\n",
              "      <td>-112.073044</td>\n",
              "      <td>NaN</td>\n",
              "      <td>Pizza Cookie</td>\n",
              "      <td>0</td>\n",
              "      <td>0</td>\n",
              "      <td>6.00</td>\n",
              "      <td>6828065</td>\n",
              "      <td>113635</td>\n",
              "      <td>60.1</td>\n",
              "      <td>53510</td>\n",
              "      <td>0.0044</td>\n",
              "    </tr>\n",
              "    <tr>\n",
              "      <th>2</th>\n",
              "      <td>Mios Pizzeria</td>\n",
              "      <td>Cincinnati</td>\n",
              "      <td>OH</td>\n",
              "      <td>45209</td>\n",
              "      <td>us/oh/cincinnati/3703paxtonave/-619797122</td>\n",
              "      <td>39.144883</td>\n",
              "      <td>-84.432685</td>\n",
              "      <td>a saucelessampcomma double cheese pizza with a...</td>\n",
              "      <td>Pizza Blanca</td>\n",
              "      <td>0</td>\n",
              "      <td>0</td>\n",
              "      <td>6.49</td>\n",
              "      <td>11613423</td>\n",
              "      <td>40948</td>\n",
              "      <td>283.6</td>\n",
              "      <td>52407</td>\n",
              "      <td>0.0287</td>\n",
              "    </tr>\n",
              "    <tr>\n",
              "      <th>3</th>\n",
              "      <td>Hungry Howies Pizza</td>\n",
              "      <td>Madison Heights</td>\n",
              "      <td>MI</td>\n",
              "      <td>48071</td>\n",
              "      <td>us/mi/madisonheights/30495johnrrd/-874863116</td>\n",
              "      <td>42.516669</td>\n",
              "      <td>-83.106630</td>\n",
              "      <td>NaN</td>\n",
              "      <td>Small Pizza</td>\n",
              "      <td>0</td>\n",
              "      <td>0</td>\n",
              "      <td>5.99</td>\n",
              "      <td>9922576</td>\n",
              "      <td>56804</td>\n",
              "      <td>174.7</td>\n",
              "      <td>52668</td>\n",
              "      <td>0.0246</td>\n",
              "    </tr>\n",
              "    <tr>\n",
              "      <th>4</th>\n",
              "      <td>Spartan Pizzeria</td>\n",
              "      <td>Baltimore</td>\n",
              "      <td>MD</td>\n",
              "      <td>21224</td>\n",
              "      <td>us/md/baltimore/3600easternave/-1270965359</td>\n",
              "      <td>39.286630</td>\n",
              "      <td>-76.566984</td>\n",
              "      <td>NaN</td>\n",
              "      <td>Pizza Sub</td>\n",
              "      <td>0</td>\n",
              "      <td>0</td>\n",
              "      <td>5.49</td>\n",
              "      <td>6006401</td>\n",
              "      <td>9774</td>\n",
              "      <td>614.5</td>\n",
              "      <td>78916</td>\n",
              "      <td>0.0049</td>\n",
              "    </tr>\n",
              "  </tbody>\n",
              "</table>\n",
              "</div>"
            ],
            "text/plain": [
              "            store_name             city  ... state_median_income min_distance\n",
              "0   Shotgun Dans Pizza         Sherwood  ...               43813       0.0478\n",
              "1     Sauce Pizza Wine          Phoenix  ...               53510       0.0044\n",
              "2        Mios Pizzeria       Cincinnati  ...               52407       0.0287\n",
              "3  Hungry Howies Pizza  Madison Heights  ...               52668       0.0246\n",
              "4     Spartan Pizzeria        Baltimore  ...               78916       0.0049\n",
              "\n",
              "[5 rows x 17 columns]"
            ]
          },
          "metadata": {
            "tags": []
          },
          "execution_count": 19
        }
      ]
    },
    {
      "cell_type": "code",
      "metadata": {
        "id": "x_qS9_mnsW_D",
        "colab_type": "code",
        "colab": {}
      },
      "source": [
        "from sklearn.model_selection import train_test_split\n",
        "seed = 123\n",
        "df_for_ML = df.drop(['zip',\n",
        "                     'menu_description',\n",
        "                     'menu_name','city',\n",
        "                     'store_name',\n",
        "                     'state',\n",
        "                     'keys',\n",
        "                     'state_population',\n",
        "                     'state_land_area',\n",
        "                     'latitude',\n",
        "                     'longitude'],axis = 1)\n",
        "X = df_for_ML.drop(['price'],axis = 1)\n",
        "y = df_for_ML['price']\n",
        "X_train, X_test, y_train, y_test = train_test_split(X, y, test_size=.2, random_state=seed)"
      ],
      "execution_count": 0,
      "outputs": []
    },
    {
      "cell_type": "code",
      "metadata": {
        "id": "u3rClJHSBdJK",
        "colab_type": "code",
        "outputId": "d4a13398-d698-4385-e169-774c8b7daca1",
        "colab": {
          "base_uri": "https://localhost:8080/",
          "height": 402
        }
      },
      "source": [
        "df_for_ML"
      ],
      "execution_count": 0,
      "outputs": [
        {
          "output_type": "execute_result",
          "data": {
            "text/html": [
              "<div>\n",
              "<style scoped>\n",
              "    .dataframe tbody tr th:only-of-type {\n",
              "        vertical-align: middle;\n",
              "    }\n",
              "\n",
              "    .dataframe tbody tr th {\n",
              "        vertical-align: top;\n",
              "    }\n",
              "\n",
              "    .dataframe thead th {\n",
              "        text-align: right;\n",
              "    }\n",
              "</style>\n",
              "<table border=\"1\" class=\"dataframe\">\n",
              "  <thead>\n",
              "    <tr style=\"text-align: right;\">\n",
              "      <th></th>\n",
              "      <th>has_meat</th>\n",
              "      <th>has_veg</th>\n",
              "      <th>price</th>\n",
              "      <th>state_population_density</th>\n",
              "      <th>state_median_income</th>\n",
              "      <th>min_distance</th>\n",
              "    </tr>\n",
              "  </thead>\n",
              "  <tbody>\n",
              "    <tr>\n",
              "      <th>0</th>\n",
              "      <td>0</td>\n",
              "      <td>0</td>\n",
              "      <td>7.98</td>\n",
              "      <td>57.2</td>\n",
              "      <td>43813</td>\n",
              "      <td>0.0478</td>\n",
              "    </tr>\n",
              "    <tr>\n",
              "      <th>1</th>\n",
              "      <td>0</td>\n",
              "      <td>0</td>\n",
              "      <td>6.00</td>\n",
              "      <td>60.1</td>\n",
              "      <td>53510</td>\n",
              "      <td>0.0044</td>\n",
              "    </tr>\n",
              "    <tr>\n",
              "      <th>2</th>\n",
              "      <td>0</td>\n",
              "      <td>0</td>\n",
              "      <td>6.49</td>\n",
              "      <td>283.6</td>\n",
              "      <td>52407</td>\n",
              "      <td>0.0287</td>\n",
              "    </tr>\n",
              "    <tr>\n",
              "      <th>3</th>\n",
              "      <td>0</td>\n",
              "      <td>0</td>\n",
              "      <td>5.99</td>\n",
              "      <td>174.7</td>\n",
              "      <td>52668</td>\n",
              "      <td>0.0246</td>\n",
              "    </tr>\n",
              "    <tr>\n",
              "      <th>4</th>\n",
              "      <td>0</td>\n",
              "      <td>0</td>\n",
              "      <td>5.49</td>\n",
              "      <td>614.5</td>\n",
              "      <td>78916</td>\n",
              "      <td>0.0049</td>\n",
              "    </tr>\n",
              "    <tr>\n",
              "      <th>...</th>\n",
              "      <td>...</td>\n",
              "      <td>...</td>\n",
              "      <td>...</td>\n",
              "      <td>...</td>\n",
              "      <td>...</td>\n",
              "      <td>...</td>\n",
              "    </tr>\n",
              "    <tr>\n",
              "      <th>9919</th>\n",
              "      <td>1</td>\n",
              "      <td>0</td>\n",
              "      <td>22.10</td>\n",
              "      <td>419.3</td>\n",
              "      <td>62765</td>\n",
              "      <td>0.0109</td>\n",
              "    </tr>\n",
              "    <tr>\n",
              "      <th>9920</th>\n",
              "      <td>0</td>\n",
              "      <td>0</td>\n",
              "      <td>10.10</td>\n",
              "      <td>419.3</td>\n",
              "      <td>62765</td>\n",
              "      <td>0.0109</td>\n",
              "    </tr>\n",
              "    <tr>\n",
              "      <th>9921</th>\n",
              "      <td>1</td>\n",
              "      <td>0</td>\n",
              "      <td>8.45</td>\n",
              "      <td>231.4</td>\n",
              "      <td>61229</td>\n",
              "      <td>0.0039</td>\n",
              "    </tr>\n",
              "    <tr>\n",
              "      <th>9922</th>\n",
              "      <td>0</td>\n",
              "      <td>0</td>\n",
              "      <td>8.45</td>\n",
              "      <td>231.4</td>\n",
              "      <td>61229</td>\n",
              "      <td>0.0039</td>\n",
              "    </tr>\n",
              "    <tr>\n",
              "      <th>9923</th>\n",
              "      <td>1</td>\n",
              "      <td>1</td>\n",
              "      <td>8.79</td>\n",
              "      <td>26.3</td>\n",
              "      <td>55434</td>\n",
              "      <td>0.0021</td>\n",
              "    </tr>\n",
              "  </tbody>\n",
              "</table>\n",
              "<p>9924 rows × 6 columns</p>\n",
              "</div>"
            ],
            "text/plain": [
              "      has_meat  has_veg  ...  state_median_income  min_distance\n",
              "0            0        0  ...                43813        0.0478\n",
              "1            0        0  ...                53510        0.0044\n",
              "2            0        0  ...                52407        0.0287\n",
              "3            0        0  ...                52668        0.0246\n",
              "4            0        0  ...                78916        0.0049\n",
              "...        ...      ...  ...                  ...           ...\n",
              "9919         1        0  ...                62765        0.0109\n",
              "9920         0        0  ...                62765        0.0109\n",
              "9921         1        0  ...                61229        0.0039\n",
              "9922         0        0  ...                61229        0.0039\n",
              "9923         1        1  ...                55434        0.0021\n",
              "\n",
              "[9924 rows x 6 columns]"
            ]
          },
          "metadata": {
            "tags": []
          },
          "execution_count": 21
        }
      ]
    },
    {
      "cell_type": "code",
      "metadata": {
        "id": "1vxmOJ-isaf8",
        "colab_type": "code",
        "outputId": "59cde5fb-7035-4024-f968-2968ab04f3ac",
        "colab": {
          "base_uri": "https://localhost:8080/",
          "height": 519
        }
      },
      "source": [
        "import statsmodels.api as sm\n",
        "lr = sm.OLS(y_train,X_train)\n",
        "results = lr.fit()\n",
        "results.summary()"
      ],
      "execution_count": 0,
      "outputs": [
        {
          "output_type": "execute_result",
          "data": {
            "text/html": [
              "<table class=\"simpletable\">\n",
              "<caption>OLS Regression Results</caption>\n",
              "<tr>\n",
              "  <th>Dep. Variable:</th>          <td>price</td>      <th>  R-squared (uncentered):</th>      <td>   0.812</td> \n",
              "</tr>\n",
              "<tr>\n",
              "  <th>Model:</th>                   <td>OLS</td>       <th>  Adj. R-squared (uncentered):</th> <td>   0.812</td> \n",
              "</tr>\n",
              "<tr>\n",
              "  <th>Method:</th>             <td>Least Squares</td>  <th>  F-statistic:       </th>          <td>   6876.</td> \n",
              "</tr>\n",
              "<tr>\n",
              "  <th>Date:</th>             <td>Tue, 05 Nov 2019</td> <th>  Prob (F-statistic):</th>           <td>  0.00</td>  \n",
              "</tr>\n",
              "<tr>\n",
              "  <th>Time:</th>                 <td>02:34:34</td>     <th>  Log-Likelihood:    </th>          <td> -25978.</td> \n",
              "</tr>\n",
              "<tr>\n",
              "  <th>No. Observations:</th>      <td>  7939</td>      <th>  AIC:               </th>          <td>5.197e+04</td>\n",
              "</tr>\n",
              "<tr>\n",
              "  <th>Df Residuals:</th>          <td>  7934</td>      <th>  BIC:               </th>          <td>5.200e+04</td>\n",
              "</tr>\n",
              "<tr>\n",
              "  <th>Df Model:</th>              <td>     5</td>      <th>                     </th>              <td> </td>    \n",
              "</tr>\n",
              "<tr>\n",
              "  <th>Covariance Type:</th>      <td>nonrobust</td>    <th>                     </th>              <td> </td>    \n",
              "</tr>\n",
              "</table>\n",
              "<table class=\"simpletable\">\n",
              "<tr>\n",
              "              <td></td>                <th>coef</th>     <th>std err</th>      <th>t</th>      <th>P>|t|</th>  <th>[0.025</th>    <th>0.975]</th>  \n",
              "</tr>\n",
              "<tr>\n",
              "  <th>has_meat</th>                 <td>    0.8290</td> <td>    0.156</td> <td>    5.324</td> <td> 0.000</td> <td>    0.524</td> <td>    1.134</td>\n",
              "</tr>\n",
              "<tr>\n",
              "  <th>has_veg</th>                  <td>    1.3238</td> <td>    0.169</td> <td>    7.828</td> <td> 0.000</td> <td>    0.992</td> <td>    1.655</td>\n",
              "</tr>\n",
              "<tr>\n",
              "  <th>state_population_density</th> <td>    0.0030</td> <td>    0.001</td> <td>    5.325</td> <td> 0.000</td> <td>    0.002</td> <td>    0.004</td>\n",
              "</tr>\n",
              "<tr>\n",
              "  <th>state_median_income</th>      <td>    0.0002</td> <td> 3.06e-06</td> <td>   64.492</td> <td> 0.000</td> <td>    0.000</td> <td>    0.000</td>\n",
              "</tr>\n",
              "<tr>\n",
              "  <th>min_distance</th>             <td>   -0.2319</td> <td>    0.152</td> <td>   -1.526</td> <td> 0.127</td> <td>   -0.530</td> <td>    0.066</td>\n",
              "</tr>\n",
              "</table>\n",
              "<table class=\"simpletable\">\n",
              "<tr>\n",
              "  <th>Omnibus:</th>       <td>767.322</td> <th>  Durbin-Watson:     </th> <td>   2.003</td>\n",
              "</tr>\n",
              "<tr>\n",
              "  <th>Prob(Omnibus):</th> <td> 0.000</td>  <th>  Jarque-Bera (JB):  </th> <td>1458.134</td>\n",
              "</tr>\n",
              "<tr>\n",
              "  <th>Skew:</th>          <td> 0.651</td>  <th>  Prob(JB):          </th> <td>    0.00</td>\n",
              "</tr>\n",
              "<tr>\n",
              "  <th>Kurtosis:</th>      <td> 4.647</td>  <th>  Cond. No.          </th> <td>1.55e+05</td>\n",
              "</tr>\n",
              "</table><br/><br/>Warnings:<br/>[1] Standard Errors assume that the covariance matrix of the errors is correctly specified.<br/>[2] The condition number is large, 1.55e+05. This might indicate that there are<br/>strong multicollinearity or other numerical problems."
            ],
            "text/plain": [
              "<class 'statsmodels.iolib.summary.Summary'>\n",
              "\"\"\"\n",
              "                                 OLS Regression Results                                \n",
              "=======================================================================================\n",
              "Dep. Variable:                  price   R-squared (uncentered):                   0.812\n",
              "Model:                            OLS   Adj. R-squared (uncentered):              0.812\n",
              "Method:                 Least Squares   F-statistic:                              6876.\n",
              "Date:                Tue, 05 Nov 2019   Prob (F-statistic):                        0.00\n",
              "Time:                        02:34:34   Log-Likelihood:                         -25978.\n",
              "No. Observations:                7939   AIC:                                  5.197e+04\n",
              "Df Residuals:                    7934   BIC:                                  5.200e+04\n",
              "Df Model:                           5                                                  \n",
              "Covariance Type:            nonrobust                                                  \n",
              "============================================================================================\n",
              "                               coef    std err          t      P>|t|      [0.025      0.975]\n",
              "--------------------------------------------------------------------------------------------\n",
              "has_meat                     0.8290      0.156      5.324      0.000       0.524       1.134\n",
              "has_veg                      1.3238      0.169      7.828      0.000       0.992       1.655\n",
              "state_population_density     0.0030      0.001      5.325      0.000       0.002       0.004\n",
              "state_median_income          0.0002   3.06e-06     64.492      0.000       0.000       0.000\n",
              "min_distance                -0.2319      0.152     -1.526      0.127      -0.530       0.066\n",
              "==============================================================================\n",
              "Omnibus:                      767.322   Durbin-Watson:                   2.003\n",
              "Prob(Omnibus):                  0.000   Jarque-Bera (JB):             1458.134\n",
              "Skew:                           0.651   Prob(JB):                         0.00\n",
              "Kurtosis:                       4.647   Cond. No.                     1.55e+05\n",
              "==============================================================================\n",
              "\n",
              "Warnings:\n",
              "[1] Standard Errors assume that the covariance matrix of the errors is correctly specified.\n",
              "[2] The condition number is large, 1.55e+05. This might indicate that there are\n",
              "strong multicollinearity or other numerical problems.\n",
              "\"\"\""
            ]
          },
          "metadata": {
            "tags": []
          },
          "execution_count": 22
        }
      ]
    },
    {
      "cell_type": "code",
      "metadata": {
        "id": "vhZFkUohs0pf",
        "colab_type": "code",
        "outputId": "bccf9499-8e1a-4675-ee0d-b57dbe7a17bc",
        "colab": {
          "base_uri": "https://localhost:8080/",
          "height": 218
        }
      },
      "source": [
        "y_pred_lr = results.predict(X_test)\n",
        "y_pred_lr"
      ],
      "execution_count": 0,
      "outputs": [
        {
          "output_type": "execute_result",
          "data": {
            "text/plain": [
              "1130    12.000039\n",
              "1586    15.518093\n",
              "1344    12.023226\n",
              "498     13.636091\n",
              "7479    14.465386\n",
              "          ...    \n",
              "3817    18.236594\n",
              "8799    16.144019\n",
              "358     10.906034\n",
              "328     14.000537\n",
              "6953    14.378817\n",
              "Length: 1985, dtype: float64"
            ]
          },
          "metadata": {
            "tags": []
          },
          "execution_count": 23
        }
      ]
    },
    {
      "cell_type": "code",
      "metadata": {
        "id": "xTvboNMms1c-",
        "colab_type": "code",
        "outputId": "cdd88165-e230-427a-8b80-4d38d784c8e9",
        "colab": {
          "base_uri": "https://localhost:8080/",
          "height": 218
        }
      },
      "source": [
        "error_lr = abs(y_pred_lr - y_test)\n",
        "error_lr"
      ],
      "execution_count": 0,
      "outputs": [
        {
          "output_type": "execute_result",
          "data": {
            "text/plain": [
              "1130     4.489961\n",
              "1586     5.018093\n",
              "1344    12.976774\n",
              "498     11.386091\n",
              "7479     9.284614\n",
              "          ...    \n",
              "3817     5.753406\n",
              "8799     5.154019\n",
              "358      4.636034\n",
              "328      1.989463\n",
              "6953     7.378817\n",
              "Length: 1985, dtype: float64"
            ]
          },
          "metadata": {
            "tags": []
          },
          "execution_count": 24
        }
      ]
    },
    {
      "cell_type": "code",
      "metadata": {
        "id": "8DH_ClkMFgik",
        "colab_type": "code",
        "outputId": "035d1d88-c1f7-4e05-91e8-5f1620d7bf14",
        "colab": {
          "base_uri": "https://localhost:8080/",
          "height": 34
        }
      },
      "source": [
        "print(\"MAE:\",round(np.mean(error_lr),2),\"dollars\")"
      ],
      "execution_count": 0,
      "outputs": [
        {
          "output_type": "stream",
          "text": [
            "MAE: 4.92 dollars\n"
          ],
          "name": "stdout"
        }
      ]
    },
    {
      "cell_type": "code",
      "metadata": {
        "id": "nmx8gypnH0O8",
        "colab_type": "code",
        "outputId": "2175ad63-35db-418e-b052-f64df62d3aa3",
        "colab": {
          "base_uri": "https://localhost:8080/",
          "height": 50
        }
      },
      "source": [
        "# Import necessary modules\n",
        "from sklearn.linear_model import LinearRegression\n",
        "from sklearn.metrics import mean_squared_error\n",
        "\n",
        "# Create the regressor: reg_all\n",
        "reg_all = LinearRegression()\n",
        "\n",
        "# Fit the regressor to the training data\n",
        "reg_all.fit(X_train,y_train)\n",
        "\n",
        "# Predict on the test data: y_pred\n",
        "y_pred_lr1 = reg_all.predict(X_test)\n",
        "\n",
        "# Compute and print R^2 and RMSE\n",
        "print(\"R^2: {}\".format(reg_all.score(X_test, y_test)))\n",
        "rmse = np.sqrt(mean_squared_error(y_test,y_pred_lr1))\n",
        "print(\"Root Mean Squared Error: {}\".format(rmse))"
      ],
      "execution_count": 0,
      "outputs": [
        {
          "output_type": "stream",
          "text": [
            "R^2: 0.04131565764134115\n",
            "Root Mean Squared Error: 6.514070008769265\n"
          ],
          "name": "stdout"
        }
      ]
    },
    {
      "cell_type": "code",
      "metadata": {
        "id": "k8wkSVYboe_7",
        "colab_type": "code",
        "outputId": "8ea77990-ab16-4bdf-e8d2-98daa33f6090",
        "colab": {
          "base_uri": "https://localhost:8080/",
          "height": 361
        }
      },
      "source": [
        "from yellowbrick.regressor import PredictionError\n",
        "visualizer_lr = PredictionError(reg_all)\n",
        "visualizer_lr.fit(X_train,y_train)\n",
        "visualizer_lr.score(X_test,y_test)\n",
        "plt.xlabel('y')\n",
        "plt.ylabel('y_hat')\n",
        "plt.show()"
      ],
      "execution_count": 0,
      "outputs": [
        {
          "output_type": "display_data",
          "data": {
            "image/png": "[encoded data removed]",
            "text/plain": [
              "<Figure size 576x396 with 1 Axes>"
            ]
          },
          "metadata": {
            "tags": []
          }
        }
      ]
    },
    {
      "cell_type": "code",
      "metadata": {
        "id": "8ArksLFbp-6V",
        "colab_type": "code",
        "outputId": "8c2505aa-3c70-4e29-8552-6586d7997809",
        "colab": {
          "base_uri": "https://localhost:8080/",
          "height": 347
        }
      },
      "source": [
        "from sklearn.linear_model import Lasso\n",
        "model = PredictionError(Lasso())\n",
        "model.fit(X_train, y_train)\n",
        "model.score(X_test, y_test)\n",
        "plt.show()"
      ],
      "execution_count": 0,
      "outputs": [
        {
          "output_type": "display_data",
          "data": {
            "image/png": "[encoded data removed]",
            "text/plain": [
              "<Figure size 576x396 with 1 Axes>"
            ]
          },
          "metadata": {
            "tags": []
          }
        }
      ]
    },
    {
      "cell_type": "code",
      "metadata": {
        "id": "ag9_ci8ks3tB",
        "colab_type": "code",
        "outputId": "b9b053b0-9314-4f61-f7e0-5d44f4d9a391",
        "colab": {
          "base_uri": "https://localhost:8080/",
          "height": 34
        }
      },
      "source": [
        "from sklearn.ensemble import RandomForestRegressor\n",
        "rf = RandomForestRegressor(n_estimators = 1000, random_state = 123)\n",
        "rf.fit(X_train, y_train)\n",
        "# Use the forest's predict method on the test data\n",
        "rf_pred= rf.predict(X_test)\n",
        "# Calculate the absolute errors\n",
        "rf_errors = abs(rf_pred - y_test)\n",
        "# Print out the mean absolute error (mae)\n",
        "print('MAE:', round(np.mean(rf_errors), 2), 'dollars.')"
      ],
      "execution_count": 0,
      "outputs": [
        {
          "output_type": "stream",
          "text": [
            "MAE: 4.29 dollars.\n"
          ],
          "name": "stdout"
        }
      ]
    },
    {
      "cell_type": "markdown",
      "metadata": {
        "id": "jzO8m4_57_o4",
        "colab_type": "text"
      },
      "source": [
        ""
      ]
    },
    {
      "cell_type": "code",
      "metadata": {
        "id": "sF3KdBdss92Z",
        "colab_type": "code",
        "outputId": "3c4202c6-38af-4969-e39c-53af5c0aa38d",
        "colab": {
          "base_uri": "https://localhost:8080/",
          "height": 50
        }
      },
      "source": [
        "print(\"Feature Importances:\", rf.feature_importances_)\n",
        "print(\"Random Forest Scores\", round(rf.score(X_test, y_test),2))"
      ],
      "execution_count": 0,
      "outputs": [
        {
          "output_type": "stream",
          "text": [
            "Feature Importances: [0.06356773 0.04318513 0.09850805 0.12497257 0.66976651]\n",
            "Random Forest Scores 0.16\n"
          ],
          "name": "stdout"
        }
      ]
    },
    {
      "cell_type": "code",
      "metadata": {
        "id": "kSMEhGM8CgYS",
        "colab_type": "code",
        "outputId": "a7454cb6-cac8-47c5-c079-cbaa003faef7",
        "colab": {
          "base_uri": "https://localhost:8080/",
          "height": 34
        }
      },
      "source": [
        "ssr_rf = np.mean(np.dot((np.array(y_test) - rf_pred).T,(np.array(y_test) - rf_pred)))\n",
        "ssr_rf"
      ],
      "execution_count": 0,
      "outputs": [
        {
          "output_type": "execute_result",
          "data": {
            "text/plain": [
              "73950.02904098885"
            ]
          },
          "metadata": {
            "tags": []
          },
          "execution_count": 31
        }
      ]
    },
    {
      "cell_type": "code",
      "metadata": {
        "id": "2ZJ2dYSyaW1s",
        "colab_type": "code",
        "outputId": "d0c853f6-6be5-4571-bd38-d3625665bb48",
        "colab": {
          "base_uri": "https://localhost:8080/",
          "height": 34
        }
      },
      "source": [
        "sst = np.dot((y_test - y_test.mean()).T,(y_test - y_test.mean()))\n",
        "sst"
      ],
      "execution_count": 0,
      "outputs": [
        {
          "output_type": "execute_result",
          "data": {
            "text/plain": [
              "87859.70085823674"
            ]
          },
          "metadata": {
            "tags": []
          },
          "execution_count": 32
        }
      ]
    },
    {
      "cell_type": "code",
      "metadata": {
        "id": "ITuPrYVMC15u",
        "colab_type": "code",
        "outputId": "76ea7211-144a-444b-e531-b3484066e20c",
        "colab": {
          "base_uri": "https://localhost:8080/",
          "height": 34
        }
      },
      "source": [
        "rsq_rf = 1 - ssr_rf/sst\n",
        "rsq_rf"
      ],
      "execution_count": 0,
      "outputs": [
        {
          "output_type": "execute_result",
          "data": {
            "text/plain": [
              "0.15831685837049914"
            ]
          },
          "metadata": {
            "tags": []
          },
          "execution_count": 33
        }
      ]
    },
    {
      "cell_type": "code",
      "metadata": {
        "id": "C6tSr1spxTXO",
        "colab_type": "code",
        "outputId": "249e39f8-9ef5-4f93-880e-15bbbae03fbd",
        "colab": {
          "base_uri": "https://localhost:8080/",
          "height": 101
        }
      },
      "source": [
        "# Get feature list\n",
        "feature_list = list(X_train.columns)\n",
        "# Get numerical feature importances\n",
        "importances = list(rf.feature_importances_)\n",
        "# List of tuples with variable and importance\n",
        "feature_importances = [(feature, round(importance, 2)) for feature, importance in zip(feature_list, importances)]\n",
        "# Sort the feature importances by most important first\n",
        "feature_importances = sorted(feature_importances, key = lambda x: x[1], reverse = True)\n",
        "# Print out the feature and importances \n",
        "[print('Variable: {:20} Importance: {}'.format(*pair)) for pair in feature_importances];"
      ],
      "execution_count": 0,
      "outputs": [
        {
          "output_type": "stream",
          "text": [
            "Variable: min_distance         Importance: 0.67\n",
            "Variable: state_median_income  Importance: 0.12\n",
            "Variable: state_population_density Importance: 0.1\n",
            "Variable: has_meat             Importance: 0.06\n",
            "Variable: has_veg              Importance: 0.04\n"
          ],
          "name": "stdout"
        }
      ]
    },
    {
      "cell_type": "code",
      "metadata": {
        "id": "LFSSfBuLxhtu",
        "colab_type": "code",
        "outputId": "8fddd1a7-a98a-47ac-c289-beee71b9924d",
        "colab": {
          "base_uri": "https://localhost:8080/",
          "height": 422
        }
      },
      "source": [
        "# Import matplotlib for plotting and use magic command for Jupyter Notebooks\n",
        "import matplotlib.pyplot as plt\n",
        "%matplotlib inline\n",
        "# Set the style\n",
        "plt.style.use('fivethirtyeight')\n",
        "# list of x locations for plotting\n",
        "x_values = list(range(len(importances)))\n",
        "# Make a bar chart\n",
        "plt.bar(x_values, importances, orientation = 'vertical')\n",
        "# Tick labels for x axis\n",
        "plt.xticks(x_values, feature_list, rotation='vertical')\n",
        "# Axis labels and title\n",
        "plt.ylabel('Importance'); plt.xlabel('Variable'); plt.title('Variable Importances');"
      ],
      "execution_count": 0,
      "outputs": [
        {
          "output_type": "display_data",
          "data": {
            "image/png": "[encoded data removed]",
            "text/plain": [
              "<Figure size 432x288 with 1 Axes>"
            ]
          },
          "metadata": {
            "tags": []
          }
        }
      ]
    },
    {
      "cell_type": "code",
      "metadata": {
        "id": "oEuwnXyuOMKv",
        "colab_type": "code",
        "outputId": "c3f8e747-5d9c-4875-e673-285a6da8135d",
        "colab": {
          "base_uri": "https://localhost:8080/",
          "height": 195
        }
      },
      "source": [
        "rf_feature_importance = rf.feature_importances_\n",
        "rf_feature_importance_df = pd.DataFrame(rf_feature_importance,columns=['feature_importance'])\n",
        "rf_feature_importance_df.rename(index = {0:'has_meat',1:'has_veg',2:'state_population_density',3:'state_median_income',4:'min_distance'},inplace = True)\n",
        "rf_feature_importance_df"
      ],
      "execution_count": 0,
      "outputs": [
        {
          "output_type": "execute_result",
          "data": {
            "text/html": [
              "<div>\n",
              "<style scoped>\n",
              "    .dataframe tbody tr th:only-of-type {\n",
              "        vertical-align: middle;\n",
              "    }\n",
              "\n",
              "    .dataframe tbody tr th {\n",
              "        vertical-align: top;\n",
              "    }\n",
              "\n",
              "    .dataframe thead th {\n",
              "        text-align: right;\n",
              "    }\n",
              "</style>\n",
              "<table border=\"1\" class=\"dataframe\">\n",
              "  <thead>\n",
              "    <tr style=\"text-align: right;\">\n",
              "      <th></th>\n",
              "      <th>feature_importance</th>\n",
              "    </tr>\n",
              "  </thead>\n",
              "  <tbody>\n",
              "    <tr>\n",
              "      <th>has_meat</th>\n",
              "      <td>0.063568</td>\n",
              "    </tr>\n",
              "    <tr>\n",
              "      <th>has_veg</th>\n",
              "      <td>0.043185</td>\n",
              "    </tr>\n",
              "    <tr>\n",
              "      <th>state_population_density</th>\n",
              "      <td>0.098508</td>\n",
              "    </tr>\n",
              "    <tr>\n",
              "      <th>state_median_income</th>\n",
              "      <td>0.124973</td>\n",
              "    </tr>\n",
              "    <tr>\n",
              "      <th>min_distance</th>\n",
              "      <td>0.669767</td>\n",
              "    </tr>\n",
              "  </tbody>\n",
              "</table>\n",
              "</div>"
            ],
            "text/plain": [
              "                          feature_importance\n",
              "has_meat                            0.063568\n",
              "has_veg                             0.043185\n",
              "state_population_density            0.098508\n",
              "state_median_income                 0.124973\n",
              "min_distance                        0.669767"
            ]
          },
          "metadata": {
            "tags": []
          },
          "execution_count": 36
        }
      ]
    },
    {
      "cell_type": "code",
      "metadata": {
        "id": "6ZInD4RkrM6z",
        "colab_type": "code",
        "colab": {}
      },
      "source": [
        "# Import tools needed for visualization\n",
        "from sklearn.tree import export_graphviz\n",
        "import pydot\n",
        "# Limit depth of tree to 3 levels\n",
        "rf_small = RandomForestRegressor(n_estimators=10, max_depth = 3)\n",
        "rf_small.fit(X_train, y_train)\n",
        "# Extract the small tree\n",
        "tree_small = rf_small.estimators_[5]\n",
        "# Save the tree as a png image\n",
        "feature_list = list(X_train.columns)\n",
        "export_graphviz(tree_small, out_file = 'small_tree.dot', feature_names = feature_list, rounded = True, precision = 1)\n",
        "(graph, ) = pydot.graph_from_dot_file('small_tree.dot')\n",
        "graph.write_png('small_tree.png')\n",
        "from google.colab import files\n",
        "files.download('small_tree.png')"
      ],
      "execution_count": 0,
      "outputs": []
    },
    {
      "cell_type": "code",
      "metadata": {
        "id": "o8GnMF2s1Iql",
        "colab_type": "code",
        "outputId": "4fd5f781-3a34-486c-efdf-0eafd490d896",
        "colab": {
          "base_uri": "https://localhost:8080/",
          "height": 54
        }
      },
      "source": [
        "'''\n",
        "# Plot the actual values\n",
        "# Plot the predicted values\n",
        "plt.scatter(X_test, y_test, color='blue')\n",
        "plt.plot(X_test, rf_pred, color='red')\n",
        "# Graph labels\n",
        "plt.xlabel('y_test') \n",
        "plt.ylabel('rf_pred')\n",
        "plt.title('Actual and Predicted Values')\n",
        "'''"
      ],
      "execution_count": 0,
      "outputs": [
        {
          "output_type": "execute_result",
          "data": {
            "text/plain": [
              "\"\\n# Plot the actual values\\n# Plot the predicted values\\nplt.scatter(X_test, y_test, color='blue')\\nplt.plot(X_test, rf_pred, color='red')\\n# Graph labels\\nplt.xlabel('y_test') \\nplt.ylabel('rf_pred')\\nplt.title('Actual and Predicted Values')\\n\""
            ]
          },
          "metadata": {
            "tags": []
          },
          "execution_count": 38
        }
      ]
    },
    {
      "cell_type": "code",
      "metadata": {
        "id": "W-179P5ZtAMx",
        "colab_type": "code",
        "outputId": "d9673aac-1856-4db3-9f64-ef756e0255b6",
        "colab": {
          "base_uri": "https://localhost:8080/",
          "height": 54
        }
      },
      "source": [
        "'''\n",
        "#Tunning the model based on the results from RandomizedSearchCV\n",
        "rf1 = RandomForestRegressor(random_state = 123, \n",
        "                            bootstrap = True, max_depth = 20,\n",
        "                            max_features = 'sqrt', min_samples_leaf = 1,\n",
        "                            min_samples_split = 2, n_estimators = 1000)\n",
        "rf1.fit(X_train, y_train)\n",
        "\n",
        "# Use the forest's predict method on the test data\n",
        "predictions1 = rf1.predict(X_test)\n",
        "# Calculate the absolute errors\n",
        "errors1 = abs(predictions1 - y_test)\n",
        "# Print out the mean absolute error (mae)\n",
        "print('Mean Absolute Error:', round(np.mean(errors1), 2), 'dollars.')\n",
        "print(\"Feature Importances:\", rf1.feature_importances_)\n",
        "print(\"Random Forest Scores\", round(rf1.score(X_test, y_test),2))\n",
        "'''\n"
      ],
      "execution_count": 0,
      "outputs": [
        {
          "output_type": "execute_result",
          "data": {
            "text/plain": [
              "'\\n#Tunning the model based on the results from RandomizedSearchCV\\nrf1 = RandomForestRegressor(random_state = 123, \\n                            bootstrap = True, max_depth = 20,\\n                            max_features = \\'sqrt\\', min_samples_leaf = 1,\\n                            min_samples_split = 2, n_estimators = 1000)\\nrf1.fit(X_train, y_train)\\n\\n# Use the forest\\'s predict method on the test data\\npredictions1 = rf1.predict(X_test)\\n# Calculate the absolute errors\\nerrors1 = abs(predictions1 - y_test)\\n# Print out the mean absolute error (mae)\\nprint(\\'Mean Absolute Error:\\', round(np.mean(errors1), 2), \\'dollars.\\')\\nprint(\"Feature Importances:\", rf1.feature_importances_)\\nprint(\"Random Forest Scores\", round(rf1.score(X_test, y_test),2))\\n'"
            ]
          },
          "metadata": {
            "tags": []
          },
          "execution_count": 39
        }
      ]
    },
    {
      "cell_type": "code",
      "metadata": {
        "id": "a6UWfYqLtCvQ",
        "colab_type": "code",
        "outputId": "714f53bc-21a1-4309-c8af-0c5d011030ac",
        "colab": {
          "base_uri": "https://localhost:8080/",
          "height": 54
        }
      },
      "source": [
        "'''\n",
        "#By Far the Best one with the lowest MAE.\n",
        "rf2 = RandomForestRegressor(random_state = 123, \n",
        "                            bootstrap = True, max_depth = 110,\n",
        "                            max_features ='sqrt', min_samples_leaf =1,\n",
        "                            min_samples_split = 2, n_estimators = 1000)\n",
        "rf2.fit(X_train, y_train)\n",
        "\n",
        "# Use the forest's predict method on the test data\n",
        "predictions2 = rf2.predict(X_test)\n",
        "# Calculate the absolute errors\n",
        "errors2 = predictions2 - y_test\n",
        "# Print out the mean absolute error (mae)\n",
        "print('Mean Absolute Error:', round(np.mean(np.abs(errors2)), 2), 'dollars.')\n",
        "print(\"Feature Importances:\", rf2.feature_importances_)\n",
        "print(\"Random Forest Scores\", round(rf2.score(X_test, y_test),2))\n",
        "'''"
      ],
      "execution_count": 0,
      "outputs": [
        {
          "output_type": "execute_result",
          "data": {
            "text/plain": [
              "'\\n#By Far the Best one with the lowest MAE.\\nrf2 = RandomForestRegressor(random_state = 123, \\n                            bootstrap = True, max_depth = 110,\\n                            max_features =\\'sqrt\\', min_samples_leaf =1,\\n                            min_samples_split = 2, n_estimators = 1000)\\nrf2.fit(X_train, y_train)\\n\\n# Use the forest\\'s predict method on the test data\\npredictions2 = rf2.predict(X_test)\\n# Calculate the absolute errors\\nerrors2 = predictions2 - y_test\\n# Print out the mean absolute error (mae)\\nprint(\\'Mean Absolute Error:\\', round(np.mean(np.abs(errors2)), 2), \\'dollars.\\')\\nprint(\"Feature Importances:\", rf2.feature_importances_)\\nprint(\"Random Forest Scores\", round(rf2.score(X_test, y_test),2))\\n'"
            ]
          },
          "metadata": {
            "tags": []
          },
          "execution_count": 40
        }
      ]
    },
    {
      "cell_type": "code",
      "metadata": {
        "id": "vvc5WF_YtG_y",
        "colab_type": "code",
        "outputId": "a799af20-06af-41a0-d487-562d54ea1141",
        "colab": {
          "base_uri": "https://localhost:8080/",
          "height": 675
        }
      },
      "source": [
        "import keras\n",
        "from keras.layers import Dense\n",
        "from keras.models import Sequential\n",
        "from keras import Sequential\n",
        "from keras.layers import Dropout\n",
        "from keras.callbacks import EarlyStopping\n",
        "from sklearn.metrics import mean_absolute_error\n",
        "from matplotlib import pyplot as plt\n",
        "n_cols = X_train.shape[1]\n",
        "earlystopping = EarlyStopping(patience=2)\n",
        "nn = Sequential()\n",
        "nn.add(Dense(512,activation='relu',input_shape = (n_cols,)))\n",
        "nn.add(Dropout(0.2))\n",
        "nn.add(Dense(512,activation='relu'))\n",
        "nn.add(Dropout(0.2))\n",
        "nn.add(Dense(512,activation='relu'))\n",
        "##Output layer\n",
        "nn.add(Dense(1,activation = 'linear'))\n",
        "##Compile the network\n",
        "nn.compile(optimizer='adam',loss='mean_absolute_error',metrics=['mean_absolute_error'])\n",
        "##Fit the model\n",
        "nn_training = nn.fit(X_train,y_train ,epochs=30,validation_split=0.2,callbacks=[earlystopping])"
      ],
      "execution_count": 0,
      "outputs": [
        {
          "output_type": "stream",
          "text": [
            "WARNING:tensorflow:From /usr/local/lib/python3.6/dist-packages/keras/backend/tensorflow_backend.py:66: The name tf.get_default_graph is deprecated. Please use tf.compat.v1.get_default_graph instead.\n",
            "\n",
            "WARNING:tensorflow:From /usr/local/lib/python3.6/dist-packages/keras/backend/tensorflow_backend.py:541: The name tf.placeholder is deprecated. Please use tf.compat.v1.placeholder instead.\n",
            "\n",
            "WARNING:tensorflow:From /usr/local/lib/python3.6/dist-packages/keras/backend/tensorflow_backend.py:4432: The name tf.random_uniform is deprecated. Please use tf.random.uniform instead.\n",
            "\n",
            "WARNING:tensorflow:From /usr/local/lib/python3.6/dist-packages/keras/backend/tensorflow_backend.py:148: The name tf.placeholder_with_default is deprecated. Please use tf.compat.v1.placeholder_with_default instead.\n",
            "\n",
            "WARNING:tensorflow:From /usr/local/lib/python3.6/dist-packages/keras/backend/tensorflow_backend.py:3733: calling dropout (from tensorflow.python.ops.nn_ops) with keep_prob is deprecated and will be removed in a future version.\n",
            "Instructions for updating:\n",
            "Please use `rate` instead of `keep_prob`. Rate should be set to `rate = 1 - keep_prob`.\n",
            "WARNING:tensorflow:From /usr/local/lib/python3.6/dist-packages/keras/optimizers.py:793: The name tf.train.Optimizer is deprecated. Please use tf.compat.v1.train.Optimizer instead.\n",
            "\n",
            "WARNING:tensorflow:From /usr/local/lib/python3.6/dist-packages/keras/backend/tensorflow_backend.py:1033: The name tf.assign_add is deprecated. Please use tf.compat.v1.assign_add instead.\n",
            "\n",
            "WARNING:tensorflow:From /usr/local/lib/python3.6/dist-packages/keras/backend/tensorflow_backend.py:1020: The name tf.assign is deprecated. Please use tf.compat.v1.assign instead.\n",
            "\n",
            "WARNING:tensorflow:From /usr/local/lib/python3.6/dist-packages/keras/backend/tensorflow_backend.py:3005: The name tf.Session is deprecated. Please use tf.compat.v1.Session instead.\n",
            "\n",
            "Train on 6351 samples, validate on 1588 samples\n",
            "Epoch 1/30\n",
            "WARNING:tensorflow:From /usr/local/lib/python3.6/dist-packages/keras/backend/tensorflow_backend.py:190: The name tf.get_default_session is deprecated. Please use tf.compat.v1.get_default_session instead.\n",
            "\n",
            "WARNING:tensorflow:From /usr/local/lib/python3.6/dist-packages/keras/backend/tensorflow_backend.py:197: The name tf.ConfigProto is deprecated. Please use tf.compat.v1.ConfigProto instead.\n",
            "\n",
            "WARNING:tensorflow:From /usr/local/lib/python3.6/dist-packages/keras/backend/tensorflow_backend.py:207: The name tf.global_variables is deprecated. Please use tf.compat.v1.global_variables instead.\n",
            "\n",
            "WARNING:tensorflow:From /usr/local/lib/python3.6/dist-packages/keras/backend/tensorflow_backend.py:216: The name tf.is_variable_initialized is deprecated. Please use tf.compat.v1.is_variable_initialized instead.\n",
            "\n",
            "WARNING:tensorflow:From /usr/local/lib/python3.6/dist-packages/keras/backend/tensorflow_backend.py:223: The name tf.variables_initializer is deprecated. Please use tf.compat.v1.variables_initializer instead.\n",
            "\n",
            "6351/6351 [==============================] - 3s 549us/step - loss: 287.1046 - mean_absolute_error: 287.1046 - val_loss: 27.3118 - val_mean_absolute_error: 27.3118\n",
            "Epoch 2/30\n",
            "6351/6351 [==============================] - 2s 388us/step - loss: 14.5018 - mean_absolute_error: 14.5018 - val_loss: 7.3168 - val_mean_absolute_error: 7.3168\n",
            "Epoch 3/30\n",
            "6351/6351 [==============================] - 2s 385us/step - loss: 8.6017 - mean_absolute_error: 8.6017 - val_loss: 12.3971 - val_mean_absolute_error: 12.3971\n",
            "Epoch 4/30\n",
            "6351/6351 [==============================] - 2s 382us/step - loss: 8.0052 - mean_absolute_error: 8.0052 - val_loss: 8.2976 - val_mean_absolute_error: 8.2976\n"
          ],
          "name": "stdout"
        }
      ]
    },
    {
      "cell_type": "code",
      "metadata": {
        "id": "XRFUxXnx_N4S",
        "colab_type": "code",
        "outputId": "d04c31e4-859b-4ee1-e390-43c8e7241269",
        "colab": {
          "base_uri": "https://localhost:8080/",
          "height": 300
        }
      },
      "source": [
        "##Create the plot\n",
        "plt.plot(nn_training.history['val_loss'],'b')\n",
        "plt.xlabel('Epochs')\n",
        "plt.ylabel('Validation score')\n",
        "plt.show()"
      ],
      "execution_count": 0,
      "outputs": [
        {
          "output_type": "display_data",
          "data": {
            "image/png": "[encoded data removed]",
            "text/plain": [
              "<Figure size 432x288 with 1 Axes>"
            ]
          },
          "metadata": {
            "tags": []
          }
        }
      ]
    },
    {
      "cell_type": "code",
      "metadata": {
        "id": "ugA__nQpZgTg",
        "colab_type": "code",
        "outputId": "be3f50c3-f0fa-4b54-f35a-c4ab0a9c631b",
        "colab": {
          "base_uri": "https://localhost:8080/",
          "height": 134
        }
      },
      "source": [
        "nn_pred = nn.predict(X_test)\n",
        "nn_pred"
      ],
      "execution_count": 0,
      "outputs": [
        {
          "output_type": "execute_result",
          "data": {
            "text/plain": [
              "array([[5.0277767],\n",
              "       [5.80916  ],\n",
              "       [5.181864 ],\n",
              "       ...,\n",
              "       [5.029188 ],\n",
              "       [5.736101 ],\n",
              "       [5.6332893]], dtype=float32)"
            ]
          },
          "metadata": {
            "tags": []
          },
          "execution_count": 43
        }
      ]
    },
    {
      "cell_type": "code",
      "metadata": {
        "id": "NlcCosqDzs00",
        "colab_type": "code",
        "colab": {}
      },
      "source": [
        "nn_errors = np.mean(abs(nn_pred - \n",
        "np.array(y_test)))"
      ],
      "execution_count": 0,
      "outputs": []
    },
    {
      "cell_type": "code",
      "metadata": {
        "id": "w8eK2LceZ5w2",
        "colab_type": "code",
        "outputId": "aa66188e-4844-4336-ed20-e517b18695cb",
        "colab": {
          "base_uri": "https://localhost:8080/",
          "height": 34
        }
      },
      "source": [
        "print(\"MAE:\",round(nn_errors,2),'dollars')"
      ],
      "execution_count": 0,
      "outputs": [
        {
          "output_type": "stream",
          "text": [
            "MAE: 8.29 dollars\n"
          ],
          "name": "stdout"
        }
      ]
    },
    {
      "cell_type": "code",
      "metadata": {
        "id": "NNKQYlxM47Oq",
        "colab_type": "code",
        "outputId": "641ddd05-5bba-449a-defe-38f59d4eee00",
        "colab": {
          "base_uri": "https://localhost:8080/",
          "height": 34
        }
      },
      "source": [
        "sst = np.dot((y_test - y_test.mean()).T,(y_test - y_test.mean()))\n",
        "sst"
      ],
      "execution_count": 0,
      "outputs": [
        {
          "output_type": "execute_result",
          "data": {
            "text/plain": [
              "87859.70085823674"
            ]
          },
          "metadata": {
            "tags": []
          },
          "execution_count": 45
        }
      ]
    },
    {
      "cell_type": "code",
      "metadata": {
        "id": "blJKOcSS-EB1",
        "colab_type": "code",
        "outputId": "b3229736-2f92-4fd7-dddb-0ead6590220a",
        "colab": {
          "base_uri": "https://localhost:8080/",
          "height": 34
        }
      },
      "source": [
        "ssr_nn = np.mean(np.dot((np.array(y_test) - nn_pred).T,(np.array(y_test) - nn_pred)))\n",
        "ssr_nn"
      ],
      "execution_count": 0,
      "outputs": [
        {
          "output_type": "execute_result",
          "data": {
            "text/plain": [
              "123696.78682600478"
            ]
          },
          "metadata": {
            "tags": []
          },
          "execution_count": 46
        }
      ]
    },
    {
      "cell_type": "code",
      "metadata": {
        "id": "oI9-IIiZCNdU",
        "colab_type": "code",
        "outputId": "57aa0cda-948f-4ab9-f3e7-13a829d1c044",
        "colab": {
          "base_uri": "https://localhost:8080/",
          "height": 34
        }
      },
      "source": [
        "rsq_nn = 1 - ssr_nn/sst\n",
        "rsq_nn"
      ],
      "execution_count": 0,
      "outputs": [
        {
          "output_type": "execute_result",
          "data": {
            "text/plain": [
              "-0.4078899156006899"
            ]
          },
          "metadata": {
            "tags": []
          },
          "execution_count": 47
        }
      ]
    }
  ]
}